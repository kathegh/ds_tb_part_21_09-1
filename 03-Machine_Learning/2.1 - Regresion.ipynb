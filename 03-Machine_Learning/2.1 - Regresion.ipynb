{
 "cells": [
  {
   "cell_type": "markdown",
   "metadata": {},
   "source": [
    "# 2.1 - Regresion-Clasificacion\n",
    "\n",
    "### Regresión  (se busca un nº)"
   ]
  },
  {
   "cell_type": "markdown",
   "metadata": {},
   "source": [
    "### Regresión lineal\n",
    "\n",
    "Se han de tener algunas suposiciones previas:\n",
    "\n",
    "+ Exogeneidad débil (predictores libres de error)\n",
    "+ Linealidad\n",
    "+ Homocedasticidad (Var=cte) y Esperanza nula (**E**=0), la esperanza es la media\n",
    "+ Independencia de los errores\n",
    "+ Falta de colinealidad (independencia lineal)\n",
    "\n",
    "$$y=\\beta_0+\\beta_1x_1+\\beta_2x_2+\\beta_3x_3+\\ldots+\\beta_nx_n+\\epsilon$$\n",
    "\n",
    "El objetivo de la regresion lineal es obtener los $\\beta$:\n",
    "+ Algebraicamente:\n",
    "\n",
    "$$\\vec{\\beta} = (X^{T}X)^{-1}X^{T}y$$\n",
    "\n",
    "+ Minimos cuadrados\n",
    "\n",
    "$$MSE = \\frac{1}{n} \\sum_{i=1}^{n} (y-\\hat{y})^{2}$$\n",
    "\n",
    "Ejemplo)\n",
    "\n",
    "$y = \\beta_0 + \\beta_1x_1 + \\epsilon$\n",
    "\n",
    "Entonces, derivando MSE e igualando a 0:\n",
    "\n",
    "$\\beta_0 = \\frac{\\sum y - \\beta_1\\sum x}{n} = \\bar{y} - \\beta_1\\bar{x}$\n",
    "\n",
    "$\\beta_1=\\frac{\\sum (x-\\hat{x})(y-\\hat{y})}{\\sum (x-\\hat{x})}$\n",
    "\n"
   ]
  },
  {
   "cell_type": "code",
   "execution_count": null,
   "metadata": {},
   "outputs": [],
   "source": []
  },
  {
   "cell_type": "code",
   "execution_count": null,
   "metadata": {},
   "outputs": [],
   "source": []
  },
  {
   "cell_type": "code",
   "execution_count": null,
   "metadata": {},
   "outputs": [],
   "source": []
  },
  {
   "cell_type": "code",
   "execution_count": null,
   "metadata": {},
   "outputs": [],
   "source": []
  },
  {
   "cell_type": "code",
   "execution_count": null,
   "metadata": {},
   "outputs": [],
   "source": []
  },
  {
   "cell_type": "code",
   "execution_count": null,
   "metadata": {},
   "outputs": [],
   "source": []
  },
  {
   "cell_type": "code",
   "execution_count": null,
   "metadata": {},
   "outputs": [],
   "source": []
  },
  {
   "cell_type": "code",
   "execution_count": null,
   "metadata": {},
   "outputs": [],
   "source": []
  },
  {
   "cell_type": "code",
   "execution_count": null,
   "metadata": {},
   "outputs": [],
   "source": []
  },
  {
   "cell_type": "markdown",
   "metadata": {},
   "source": [
    "##### Regularización"
   ]
  },
  {
   "cell_type": "markdown",
   "metadata": {},
   "source": [
    "**Función de Coste o de Pérdida (J)** = Función a minimizar\n",
    "\n",
    "En el caso de la regresión lineal: \n",
    "$$J=MSE$$\n",
    "\n",
    "\n",
    "La regularización es una medida/penalización de la complejidad del modelo. Se añade un término a J que depende del tipo de regularización:\n",
    "\n",
    "$$J = MSE + \\alpha · T$$\n",
    "\n",
    "\n",
    "+ Lasso (L1, norma 1):\n",
    "\n",
    "$$T=\\frac{1}{n}\\sum_{i}  |\\beta_i|$$\n",
    "\n",
    "Muy útil si se sospecha que hay características irrelevantes. Se favorece $\\beta \\approx 0$\n",
    "\n",
    "+ Ridge (L2):\n",
    "\n",
    "$$T=\\frac{1}{2n}\\sum_{i}  \\beta_{i}^{2}$$\n",
    "\n",
    "Muy útil si se sospecha que existe correlación entre las características, minimiza esa correlación. Funciona mejor si todas son relevantes.\n",
    "\n",
    "+ ElasticNet (L1+L2):\n",
    "\n",
    "$$T=r·L1 + (1-r)·L2$$\n",
    "\n",
    "Se usa cuando hay muchas características."
   ]
  },
  {
   "cell_type": "code",
   "execution_count": null,
   "metadata": {},
   "outputs": [],
   "source": []
  },
  {
   "cell_type": "code",
   "execution_count": null,
   "metadata": {},
   "outputs": [],
   "source": []
  },
  {
   "cell_type": "code",
   "execution_count": null,
   "metadata": {},
   "outputs": [],
   "source": []
  },
  {
   "cell_type": "code",
   "execution_count": null,
   "metadata": {},
   "outputs": [],
   "source": []
  },
  {
   "cell_type": "code",
   "execution_count": null,
   "metadata": {},
   "outputs": [],
   "source": []
  },
  {
   "cell_type": "markdown",
   "metadata": {},
   "source": [
    "### Máquinas de Soporte Vectorial"
   ]
  },
  {
   "cell_type": "markdown",
   "metadata": {},
   "source": [
    "###### Linealmente separable"
   ]
  },
  {
   "cell_type": "code",
   "execution_count": null,
   "metadata": {},
   "outputs": [],
   "source": [
    "# Datos\n",
    "X, y=make_circles(n_samples=400, factor=.3, noise=.05)\n",
    "\n",
    "\n",
    "c_interno=y==1  # etiqueta circulo interno \n",
    "c_externo=y==0  # etiqueta circulo externo \n",
    "\n",
    "\n",
    "# plot de los circulos\n",
    "plt.title('Dos Circulos')\n",
    "plt.plot(X[c_interno, 0], X[c_interno, 1], 'ro')   # 'ro' es mas o menos color rojo y marker 'o'\n",
    "plt.plot(X[c_externo, 0], X[c_externo, 1], 'bo')\n",
    "plt.show()"
   ]
  },
  {
   "cell_type": "code",
   "execution_count": null,
   "metadata": {},
   "outputs": [],
   "source": [
    "# plot de los circulos con el umbral \n",
    "\n",
    "plt.title('Dos Circulos_(acotado)')\n",
    "plt.plot(X[c_interno, 0], X[c_interno, 1], 'ro')   \n",
    "plt.plot(X[c_externo, 0], X[c_externo, 1], 'bo')\n",
    "x=np.linspace(-1.0, 1.0, 100)  # para circunferencia umbral\n",
    "y=np.linspace(-1.0, 1.0, 100)\n",
    "z, t=np.meshgrid(x,y)\n",
    "F=(z)**2+(t)**2-0.25\n",
    "plt.contour(z,t,F,[0])\n",
    "plt.show();\n",
    "\n",
    "\n",
    "# Para polares\n",
    "plt.title('Dos Circulos_(cambio de variable)')\n",
    "plt.plot(X[c_interno, 0], X[c_interno, 1], 'ro')   \n",
    "plt.plot(X[c_externo, 0], X[c_externo, 1], 'bo')\n",
    "plt.axvline(x=0.0)  # sistema coordenadas\n",
    "plt.axhline(y=0.0)\n",
    "plt.arrow(0,0,0.72,0.73, color='g')  # vector\n",
    "plt.contour(z,t,F,[0])    # circunferencia r=0.5\n",
    "plt.xlabel('x')\n",
    "plt.ylabel('y')\n",
    "\n",
    "# En polares\n",
    "X, y=make_circles(n_samples=400, factor=.3, noise=.05)\n",
    "\n",
    "\n",
    "def polar_carte(ro, theta):  # definicion coordenadas polares, convierte polares en cartesianas\n",
    "    x=ro*np.cos(theta)\n",
    "    y=ro*np.sin(theta)\n",
    "    return(x, y)\n",
    "\n",
    "def carte_polar(x, y):       # convierte cartesianas en polares\n",
    "    ro=np.sqrt(x**2+y**2)\n",
    "    theta=np.arctan2(y, x)\n",
    "    return(ro, theta)\n",
    "\n",
    "\n",
    "# plot en polares\n",
    "c_interno=y==1  # etiqueta circulo interno \n",
    "c_externo=y==0  # etiqueta circulo externo \n",
    "plt.figure(5)\n",
    "plt.title('Dos Circulos en Polares')\n",
    "plt.plot(carte_polar(X[c_interno, 0], X[c_interno, 1])[0],carte_polar(X[c_interno, 0], X[c_interno, 1])[1], 'ro')    # circulo interno\n",
    "plt.plot(carte_polar(X[c_externo, 0], X[c_externo, 1])[0], carte_polar(X[c_externo, 0], X[c_externo, 1])[1], 'bo')   # circulo externo\n",
    "plt.axvline(x=0.5)          # umbral, recta vertical en x=0.5\n",
    "plt.xlabel('Ro')\n",
    "plt.ylabel('Theta')\n",
    "plt.show();"
   ]
  },
  {
   "cell_type": "markdown",
   "metadata": {},
   "source": [
    "**Kernel Trick**"
   ]
  },
  {
   "cell_type": "code",
   "execution_count": null,
   "metadata": {},
   "outputs": [],
   "source": [
    "ang=np.linspace(-np.pi, np.pi, 200)\n",
    "\n",
    "\n",
    "x=3*np.cos(ang)\n",
    "y=3*np.sin(ang)\n",
    "z=0  # en realidad, la coordenada z=x^2+y^2\n",
    "\n",
    "\n",
    "x_1=5*np.cos(ang)\n",
    "y_1=5*np.sin(ang)\n",
    "z_1=5\n",
    "\n",
    "\n",
    "fig=plt.figure()\n",
    "ax=fig.gca(projection='3d')\n",
    "ax.plot(x, y, z, color='r')\n",
    "ax.plot(x_1, y_1, z_1, color='b')\n",
    "plt.show();"
   ]
  },
  {
   "cell_type": "markdown",
   "metadata": {},
   "source": [
    "###### SVM\n",
    "\n",
    "![svm](images/svm.png)\n",
    "\n",
    "Genera un hiperplano (n-1)dimensional para separar los datos. Este primer plano es el llamado clasificador lineal (maximizando la distancia a los puntos).\n",
    "\n",
    "$$\\vec{\\omega}\\vec{x}-b=0$$\n",
    "\n",
    "donde :\n",
    "\n",
    "$\\omega$ es el vector normal al plano\n",
    "$x$ son los datos\n",
    "$b$ es el sesgo"
   ]
  },
  {
   "cell_type": "markdown",
   "metadata": {},
   "source": [
    "**Función a minimizar**\n",
    "\n",
    "$$[\\frac{1}{n}\\sum_{i=1}^{n}max(0, 1-y_i(\\vec{\\omega}\\vec{x}-b))] + \\lambda \\|\\vec{\\omega}\\|$$"
   ]
  },
  {
   "cell_type": "code",
   "execution_count": null,
   "metadata": {},
   "outputs": [],
   "source": []
  },
  {
   "cell_type": "code",
   "execution_count": null,
   "metadata": {},
   "outputs": [],
   "source": []
  },
  {
   "cell_type": "code",
   "execution_count": null,
   "metadata": {},
   "outputs": [],
   "source": []
  },
  {
   "cell_type": "code",
   "execution_count": null,
   "metadata": {},
   "outputs": [],
   "source": []
  },
  {
   "cell_type": "code",
   "execution_count": null,
   "metadata": {},
   "outputs": [],
   "source": []
  },
  {
   "cell_type": "code",
   "execution_count": null,
   "metadata": {},
   "outputs": [],
   "source": []
  },
  {
   "cell_type": "code",
   "execution_count": null,
   "metadata": {},
   "outputs": [],
   "source": []
  },
  {
   "cell_type": "markdown",
   "metadata": {},
   "source": [
    "### Random Forest\n",
    "\n",
    "https://towardsdatascience.com/decision-tree-algorithm-in-python-from-scratch-8c43f0e40173\n",
    "\n",
    "![RF](images/RF.jpg)\n",
    "\n",
    "Arboles de decisión.\n",
    "\n",
    "+ Pros:\n",
    "\n",
    "Modelos sencillos, se pueden visualizar. No necesitan preprocesar mucho los datos. Computacionalmente eficientes.\n",
    "\n",
    "+ Contras:\n",
    "\n",
    "Muy sensibles a pequeñas variaciones de los datos de entrada. Muy sensible a datos no balanceados. Muy dado al overfitting (poco sesgo, mucha varianza), más cuanto más profundo sea."
   ]
  },
  {
   "cell_type": "markdown",
   "metadata": {},
   "source": [
    "**Entropía de información**\n",
    "\n",
    "$$H(x) = -\\sum_i p_ilog(p_i)$$\n",
    "\n",
    "$$H(x) = -\\sum_i p_ilog(p_i) + (1-p_i)log(1-p_i)$$"
   ]
  },
  {
   "cell_type": "markdown",
   "metadata": {},
   "source": [
    "**Bagging**\n",
    "\n",
    "Bootstrap aggregating.\n",
    "\n",
    "Muestreo aleatorio con reemplazamiento y de manera uniforme. Después se hace la media. Además RF coge para cada árbol un subconjunto de características de manera aleatoria (feature bagging), esto se hace para evitar la correlación entre árboles dentro del bosque."
   ]
  },
  {
   "cell_type": "markdown",
   "metadata": {},
   "source": [
    "**Extratrees**\n",
    "\n",
    "Extremely randomized trees.\n",
    "\n",
    "Tiene básicamente 2 diferencias:\n",
    "+ Cada árbol usa todo el train (no bootstrap)\n",
    "+ El spliteo hacia abajo es random (no minimizando entropia)"
   ]
  },
  {
   "cell_type": "code",
   "execution_count": null,
   "metadata": {},
   "outputs": [],
   "source": []
  },
  {
   "cell_type": "code",
   "execution_count": null,
   "metadata": {},
   "outputs": [],
   "source": []
  },
  {
   "cell_type": "code",
   "execution_count": null,
   "metadata": {},
   "outputs": [],
   "source": []
  },
  {
   "cell_type": "code",
   "execution_count": null,
   "metadata": {},
   "outputs": [],
   "source": []
  },
  {
   "cell_type": "code",
   "execution_count": null,
   "metadata": {},
   "outputs": [],
   "source": []
  },
  {
   "cell_type": "code",
   "execution_count": null,
   "metadata": {},
   "outputs": [],
   "source": []
  },
  {
   "cell_type": "code",
   "execution_count": null,
   "metadata": {},
   "outputs": [],
   "source": []
  },
  {
   "cell_type": "code",
   "execution_count": null,
   "metadata": {},
   "outputs": [],
   "source": []
  }
 ],
 "metadata": {
  "finalized": {
   "timestamp": 1624207189186,
   "trusted": false
  },
  "kernelspec": {
   "display_name": "clase",
   "language": "python",
   "name": "clase"
  },
  "language_info": {
   "codemirror_mode": {
    "name": "ipython",
    "version": 3
   },
   "file_extension": ".py",
   "mimetype": "text/x-python",
   "name": "python",
   "nbconvert_exporter": "python",
   "pygments_lexer": "ipython3",
   "version": "3.8.8"
  },
  "varInspector": {
   "cols": {
    "lenName": 16,
    "lenType": 16,
    "lenVar": 40
   },
   "kernels_config": {
    "python": {
     "delete_cmd_postfix": "",
     "delete_cmd_prefix": "del ",
     "library": "var_list.py",
     "varRefreshCmd": "print(var_dic_list())"
    },
    "r": {
     "delete_cmd_postfix": ") ",
     "delete_cmd_prefix": "rm(",
     "library": "var_list.r",
     "varRefreshCmd": "cat(var_dic_list()) "
    }
   },
   "types_to_exclude": [
    "module",
    "function",
    "builtin_function_or_method",
    "instance",
    "_Feature"
   ],
   "window_display": false
  }
 },
 "nbformat": 4,
 "nbformat_minor": 2
}
