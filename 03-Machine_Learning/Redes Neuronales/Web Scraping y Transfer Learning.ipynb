{
 "cells": [
  {
   "cell_type": "markdown",
   "id": "9aa7b784",
   "metadata": {},
   "source": [
    "# 1. Extracción de imágenes de Google"
   ]
  },
  {
   "cell_type": "code",
   "execution_count": null,
   "id": "a2e55007",
   "metadata": {},
   "outputs": [],
   "source": [
    "import hashlib\n",
    "from PIL import Image\n",
    "import io, os\n",
    "import requests\n",
    "import time\n",
    "import selenium\n",
    "from selenium import webdriver"
   ]
  },
  {
   "cell_type": "code",
   "execution_count": null,
   "id": "cc6c376a",
   "metadata": {},
   "outputs": [],
   "source": [
    "wd = webdriver.Chrome('chromedriver.exe')"
   ]
  },
  {
   "cell_type": "code",
   "execution_count": null,
   "id": "3392de2d",
   "metadata": {},
   "outputs": [],
   "source": [
    "def fetch_image_urls(query:str, max_links_to_fetch:int, wd:webdriver, sleep_between_interactions:int=2):\n",
    "    def scroll_to_end(wd):\n",
    "        wd.execute_script(\"window.scrollTo(0, document.body.scrollHeight);\")\n",
    "        time.sleep(sleep_between_interactions)    \n",
    "    \n",
    "    # build the google query\n",
    "    search_url = \"https://www.google.com/search?safe=off&site=&tbm=isch&source=hp&q={q}&oq={q}&gs_l=img\"\n",
    "\n",
    "    # load the page\n",
    "    wd.get(search_url.format(q=query))\n",
    "\n",
    "    image_urls = set()\n",
    "    image_count = 0\n",
    "    results_start = 0\n",
    "    while image_count < max_links_to_fetch:\n",
    "        print(image_count,max_links_to_fetch)\n",
    "        scroll_to_end(wd)\n",
    "\n",
    "        # get all image thumbnail results\n",
    "        thumbnail_results = wd.find_elements_by_css_selector(\"img.Q4LuWd\")\n",
    "        number_results = len(thumbnail_results)\n",
    "        \n",
    "        print(f\"Found: {number_results} search results. Extracting links from {results_start}:{number_results}\")\n",
    "        \n",
    "        for img in thumbnail_results[results_start:number_results]:\n",
    "            # try to click every thumbnail such that we can get the real image behind it\n",
    "            try:\n",
    "                img.click()\n",
    "                time.sleep(sleep_between_interactions)\n",
    "            except Exception:\n",
    "                continue\n",
    "\n",
    "            # extract image urls    \n",
    "            actual_images = wd.find_elements_by_css_selector('img.n3VNCb')\n",
    "            for actual_image in actual_images:\n",
    "                if actual_image.get_attribute('src') and 'http' in actual_image.get_attribute('src'):\n",
    "                    image_urls.add(actual_image.get_attribute('src'))\n",
    "\n",
    "            image_count = len(image_urls)\n",
    "\n",
    "            if len(image_urls) >= max_links_to_fetch:\n",
    "                print(f\"Found: {len(image_urls)} image links, done!\")\n",
    "                break\n",
    "        \n",
    "        # move the result startpoint further down\n",
    "        results_start = len(thumbnail_results)\n",
    "\n",
    "    return image_urls"
   ]
  },
  {
   "cell_type": "code",
   "execution_count": null,
   "id": "d44e27b8",
   "metadata": {},
   "outputs": [],
   "source": [
    "def persist_image(folder_path:str,url:str):\n",
    "    try:\n",
    "        image_content = requests.get(url).content\n",
    "\n",
    "    except Exception as e:\n",
    "        print(f\"ERROR - Could not download {url} - {e}\")\n",
    "\n",
    "    try:\n",
    "        image_file = io.BytesIO(image_content)\n",
    "        image = Image.open(image_file).convert('RGB')\n",
    "        file_path = os.path.join(folder_path,hashlib.sha1(image_content).hexdigest()[:10] + '.jpg')\n",
    "        with open(file_path, 'wb') as f:\n",
    "            image.save(f, \"JPEG\", quality=85)\n",
    "        print(f\"SUCCESS - saved {url} - as {file_path}\")\n",
    "    except Exception as e:\n",
    "        print(f\"ERROR - Could not save {url} - {e}\")"
   ]
  },
  {
   "cell_type": "code",
   "execution_count": null,
   "id": "5a25aad7",
   "metadata": {},
   "outputs": [],
   "source": [
    "def search_and_download(search_term:str,driver_path:str,target_path='./images',number_images=5):\n",
    "    target_folder = os.path.join(target_path,'_'.join(search_term.lower().split(' ')))\n",
    "\n",
    "    if not os.path.exists(target_folder):\n",
    "        os.makedirs(target_folder)\n",
    "\n",
    "    with webdriver.Chrome(executable_path=driver_path) as wd:\n",
    "        res = fetch_image_urls(search_term, number_images, wd=wd, sleep_between_interactions=0.1)\n",
    "        \n",
    "    for elem in res:\n",
    "        persist_image(target_folder,elem)"
   ]
  },
  {
   "cell_type": "code",
   "execution_count": null,
   "id": "6bb120aa",
   "metadata": {},
   "outputs": [],
   "source": [
    "search_term = 'patinete'\n",
    "search_and_download(search_term,'chromedriver.exe',number_images=100)"
   ]
  },
  {
   "cell_type": "code",
   "execution_count": null,
   "id": "7fa8a16a",
   "metadata": {},
   "outputs": [],
   "source": [
    "search_term = 'bicicleta'\n",
    "search_and_download(search_term,'chromedriver.exe',number_images=100)"
   ]
  },
  {
   "cell_type": "markdown",
   "id": "173aac00",
   "metadata": {},
   "source": [
    "# 2. Data Augmentation"
   ]
  },
  {
   "cell_type": "code",
   "execution_count": null,
   "id": "18145974",
   "metadata": {},
   "outputs": [],
   "source": [
    "from keras.preprocessing.image import ImageDataGenerator\n",
    "import os\n",
    "from os.path import isfile, join\n",
    "import pandas as pd\n",
    "import numpy as np\n",
    "from skimage.io import imread"
   ]
  },
  {
   "cell_type": "code",
   "execution_count": null,
   "id": "155e73f7",
   "metadata": {},
   "outputs": [],
   "source": [
    "# 1. Iniciar el data generator\n",
    "datagen = ImageDataGenerator(rotation_range=10,\n",
    "                            width_shift_range=0.1,\n",
    "                            height_shift_range=0.1,\n",
    "                            shear_range=0.15,\n",
    "                            zoom_range=0.1,\n",
    "                            channel_shift_range=10,\n",
    "                            horizontal_flip=True)"
   ]
  },
  {
   "cell_type": "code",
   "execution_count": null,
   "id": "345d554e",
   "metadata": {},
   "outputs": [],
   "source": [
    "# 2. Aplicar las transfromaciones en una imagen\n",
    "patinetes = ['images/patinete/'+ f for f in os.listdir('images/patinete') if isfile(join('images/patinete', f))]\n",
    "image_path = patinetes[0]\n",
    "image = np.expand_dims(imread(image_path),axis=0)"
   ]
  },
  {
   "cell_type": "code",
   "execution_count": null,
   "id": "a2f629b4",
   "metadata": {},
   "outputs": [],
   "source": [
    "# 3. Selecciona dónde quieres guardar las imágenes transformadas\n",
    "save_here = 'images/patinete/aug'\n",
    "try:\n",
    "    os.stat(save_here)\n",
    "except:\n",
    "    os.mkdir(save_here)"
   ]
  },
  {
   "cell_type": "code",
   "execution_count": null,
   "id": "bd84e021",
   "metadata": {},
   "outputs": [],
   "source": [
    "# Fit de la imagen original\n",
    "datagen.fit(image)"
   ]
  },
  {
   "cell_type": "code",
   "execution_count": null,
   "id": "f7041ba0",
   "metadata": {},
   "outputs": [],
   "source": [
    "for x, val in zip(datagen.flow(image,           #image we chose\n",
    "        save_to_dir=save_here,     #this is where we figure out where to save\n",
    "         save_prefix='aug',        # it will save the images as 'aug_0912' some number for every new augmented image\n",
    "        save_format='png'),range(10)):     # here we define a range because we want 10 augmented images \n",
    "    pass"
   ]
  },
  {
   "cell_type": "code",
   "execution_count": null,
   "id": "543cdeed",
   "metadata": {},
   "outputs": [],
   "source": [
    "# Para todos las imágenes de la clase 1\n",
    "for image_path in patinetes:\n",
    "    image = np.expand_dims(imread(image_path),axis=0)\n",
    "    datagen.fit(image)\n",
    "    for x, val in zip(datagen.flow(image,                    #image we chose\n",
    "        save_to_dir=save_here,     #this is where we figure out where to save\n",
    "         save_prefix='aug',        # it will save the images as 'aug_0912' some number for every new augmented image\n",
    "        save_format='png'),range(3)):     # here we define a range because we want 10 augmented images \n",
    "        pass"
   ]
  },
  {
   "cell_type": "code",
   "execution_count": null,
   "id": "ab8b39ba",
   "metadata": {},
   "outputs": [],
   "source": [
    "# Realiza la misma operación para las bicicletas\n",
    "bicicletas = ['images/bicicleta/'+ f for f in os.listdir('images/bicicleta') if isfile(join('images/bicicleta', f))]\n",
    "save_here = 'images/bicicleta/aug'\n",
    "try:\n",
    "    os.stat(save_here)\n",
    "except:\n",
    "    os.mkdir(save_here)  \n",
    "    \n",
    "for image_path in bicicletas:\n",
    "    image = np.expand_dims(imread(image_path),axis=0)\n",
    "    datagen.fit(image)\n",
    "    for x, val in zip(datagen.flow(image,                    #image we chose\n",
    "        save_to_dir=save_here,     #this is where we figure out where to save\n",
    "         save_prefix='aug',        # it will save the images as 'aug_0912' some number for every new augmented image\n",
    "        save_format='png'),range(3)):     # here we define a range because we want 10 augmented images \n",
    "        pass"
   ]
  },
  {
   "cell_type": "markdown",
   "id": "357cdc23",
   "metadata": {},
   "source": [
    "# 3. Preparar los datos"
   ]
  },
  {
   "cell_type": "code",
   "execution_count": null,
   "id": "dd9c10c0",
   "metadata": {},
   "outputs": [],
   "source": [
    "import matplotlib.pyplot as plt\n",
    "import numpy as np\n",
    "from skimage.io import imread\n",
    "import cv2"
   ]
  },
  {
   "cell_type": "code",
   "execution_count": null,
   "id": "0e2ca588",
   "metadata": {},
   "outputs": [],
   "source": [
    "# Read data\n",
    "X = []\n",
    "Y = []\n",
    "for file in os.listdir('images/patinete/aug'):\n",
    "    image = imread('images/patinete/aug/'+file)\n",
    "    smallimage = cv2.resize(image,(64,64))\n",
    "    X.append(smallimage)\n",
    "    Y.append(0)\n",
    "    \n",
    "for file in os.listdir('images/bicicleta/aug'):\n",
    "    image = imread('images/bicicleta/aug/'+file)\n",
    "    smallimage = cv2.resize(image,(64,64))\n",
    "    X.append(smallimage)\n",
    "    Y.append(1)"
   ]
  },
  {
   "cell_type": "code",
   "execution_count": null,
   "id": "6bfeff1e",
   "metadata": {},
   "outputs": [],
   "source": [
    "X,Y = np.array(X), np.array(Y)"
   ]
  },
  {
   "cell_type": "code",
   "execution_count": null,
   "id": "76c091cd",
   "metadata": {},
   "outputs": [],
   "source": [
    "X = X/255.0\n",
    "print('Min:',np.min(X))\n",
    "print('Max:',np.max(X))"
   ]
  },
  {
   "cell_type": "code",
   "execution_count": null,
   "id": "6004aa05",
   "metadata": {},
   "outputs": [],
   "source": [
    "from sklearn.utils import shuffle\n",
    "X, Y = shuffle(X, Y, random_state=42)"
   ]
  },
  {
   "cell_type": "code",
   "execution_count": null,
   "id": "2c7ce674",
   "metadata": {},
   "outputs": [],
   "source": [
    "from sklearn.model_selection import train_test_split\n",
    "\n",
    "X_train, X_test, y_train, y_test = train_test_split(X, Y, test_size=0.20, \n",
    "                                                    random_state=40)\n",
    "print(X_train.shape); print(X_test.shape)"
   ]
  },
  {
   "cell_type": "markdown",
   "id": "42b4b1b9",
   "metadata": {},
   "source": [
    "#  Transfer Learning"
   ]
  },
  {
   "cell_type": "code",
   "execution_count": null,
   "id": "abc1349a",
   "metadata": {},
   "outputs": [],
   "source": [
    "import tensorflow as tf\n",
    "from tensorflow.keras.preprocessing import image\n",
    "from tensorflow.keras import datasets, layers, models\n",
    "import os\n",
    "os.environ['KMP_DUPLICATE_LIB_OK']='True'"
   ]
  },
  {
   "cell_type": "code",
   "execution_count": null,
   "id": "6ae22e8a",
   "metadata": {},
   "outputs": [],
   "source": [
    "from tensorflow.keras.applications.vgg16 import VGG16\n",
    "base_model = VGG16(input_shape=(64,64,3),\n",
    "                  include_top = False,\n",
    "                   weights = 'imagenet'\n",
    "                  )"
   ]
  },
  {
   "cell_type": "code",
   "execution_count": null,
   "id": "ef095f6e",
   "metadata": {
    "scrolled": true
   },
   "outputs": [],
   "source": [
    "base_model.summary()"
   ]
  },
  {
   "cell_type": "code",
   "execution_count": null,
   "id": "b5814b17",
   "metadata": {},
   "outputs": [],
   "source": [
    "for layer in base_model.layers:\n",
    "    layer.trainable = False"
   ]
  },
  {
   "cell_type": "code",
   "execution_count": null,
   "id": "9364d3cd",
   "metadata": {},
   "outputs": [],
   "source": [
    "    \n",
    "##### FULLY CONNECTED LAYER #####\n",
    "# Flatten the output layer to 1 dimension\n",
    "x = layers.Flatten()(base_model.output) # Añado una flatten a la salida del base_model, al cual le quité el top CAPA(CAPA ANTERIOR)\n",
    "\n",
    "# Add a fully connected layer with 512 hidden units and ReLU activation\n",
    "x = layers.Dense(512, activation='relu')(x) # Añado una densa a x (flatten)\n",
    "\n",
    "# Add a dropout rate of 0.5\n",
    "x = layers.Dropout(0.5)(x)\n",
    "\n",
    "# Add a final sigmoid layer for classification\n",
    "x = layers.Dense(1, activation='sigmoid')(x)\n",
    "\n",
    "model = tf.keras.models.Model(base_model.input, x)\n",
    "\n",
    "model.compile(optimizer = 'adam', loss = 'binary_crossentropy',metrics = ['acc'])"
   ]
  },
  {
   "cell_type": "code",
   "execution_count": null,
   "id": "44edc410",
   "metadata": {},
   "outputs": [],
   "source": [
    "vgghist = model.fit(X_train,y_train,\n",
    "                    epochs = 10)"
   ]
  },
  {
   "cell_type": "code",
   "execution_count": null,
   "id": "44d1e588",
   "metadata": {},
   "outputs": [],
   "source": [
    "results = model.evaluate(X_test, y_test)\n",
    "print(\"test loss, test accuracy\", results)"
   ]
  },
  {
   "cell_type": "code",
   "execution_count": null,
   "id": "1cf8bfa7",
   "metadata": {},
   "outputs": [],
   "source": [
    "plt.imshow(X_test[3])"
   ]
  },
  {
   "cell_type": "code",
   "execution_count": null,
   "id": "0076c159",
   "metadata": {},
   "outputs": [],
   "source": [
    "model.predict(np.expand_dims(X_test[3], axis=0))"
   ]
  }
 ],
 "metadata": {
  "kernelspec": {
   "display_name": "Python 3 (ipykernel)",
   "language": "python",
   "name": "python3"
  },
  "language_info": {
   "codemirror_mode": {
    "name": "ipython",
    "version": 3
   },
   "file_extension": ".py",
   "mimetype": "text/x-python",
   "name": "python",
   "nbconvert_exporter": "python",
   "pygments_lexer": "ipython3",
   "version": "3.9.7"
  }
 },
 "nbformat": 4,
 "nbformat_minor": 5
}
