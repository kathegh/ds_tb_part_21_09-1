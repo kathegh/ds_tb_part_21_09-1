{
 "cells": [
  {
   "cell_type": "markdown",
   "id": "9aa7b784",
   "metadata": {},
   "source": [
    "# 1. Extracción de imágenes de Google"
   ]
  },
  {
   "cell_type": "code",
   "execution_count": 1,
   "id": "a2e55007",
   "metadata": {},
   "outputs": [],
   "source": [
    "import hashlib\n",
    "from PIL import Image\n",
    "import io, os\n",
    "import requests\n",
    "import time\n",
    "import selenium\n",
    "from selenium import webdriver"
   ]
  },
  {
   "cell_type": "code",
   "execution_count": 2,
   "id": "cc6c376a",
   "metadata": {},
   "outputs": [],
   "source": [
    "wd = webdriver.Chrome('chromedriver.exe')"
   ]
  },
  {
   "cell_type": "code",
   "execution_count": 3,
   "id": "3392de2d",
   "metadata": {},
   "outputs": [],
   "source": [
    "def fetch_image_urls(query:str, max_links_to_fetch:int, wd:webdriver, sleep_between_interactions:int=2):\n",
    "    def scroll_to_end(wd):\n",
    "        wd.execute_script(\"window.scrollTo(0, document.body.scrollHeight);\")\n",
    "        time.sleep(sleep_between_interactions)    \n",
    "    \n",
    "    # build the google query\n",
    "    search_url = \"https://www.google.com/search?safe=off&site=&tbm=isch&source=hp&q={q}&oq={q}&gs_l=img\"\n",
    "\n",
    "    # load the page\n",
    "    wd.get(search_url.format(q=query))\n",
    "\n",
    "    image_urls = set()\n",
    "    image_count = 0\n",
    "    results_start = 0\n",
    "    while image_count < max_links_to_fetch:\n",
    "        print(image_count,max_links_to_fetch)\n",
    "        scroll_to_end(wd)\n",
    "\n",
    "        # get all image thumbnail results\n",
    "        thumbnail_results = wd.find_elements_by_css_selector(\"img.Q4LuWd\")\n",
    "        number_results = len(thumbnail_results)\n",
    "        \n",
    "        print(f\"Found: {number_results} search results. Extracting links from {results_start}:{number_results}\")\n",
    "        \n",
    "        for img in thumbnail_results[results_start:number_results]:\n",
    "            # try to click every thumbnail such that we can get the real image behind it\n",
    "            try:\n",
    "                img.click()\n",
    "                time.sleep(sleep_between_interactions)\n",
    "            except Exception:\n",
    "                continue\n",
    "\n",
    "            # extract image urls    \n",
    "            actual_images = wd.find_elements_by_css_selector('img.n3VNCb')\n",
    "            for actual_image in actual_images:\n",
    "                if actual_image.get_attribute('src') and 'http' in actual_image.get_attribute('src'):\n",
    "                    image_urls.add(actual_image.get_attribute('src'))\n",
    "\n",
    "            image_count = len(image_urls)\n",
    "\n",
    "            if len(image_urls) >= max_links_to_fetch:\n",
    "                print(f\"Found: {len(image_urls)} image links, done!\")\n",
    "                break\n",
    "        \n",
    "        # move the result startpoint further down\n",
    "        results_start = len(thumbnail_results)\n",
    "\n",
    "    return image_urls"
   ]
  },
  {
   "cell_type": "code",
   "execution_count": 4,
   "id": "d44e27b8",
   "metadata": {},
   "outputs": [],
   "source": [
    "def persist_image(folder_path:str,url:str):\n",
    "    try:\n",
    "        image_content = requests.get(url).content\n",
    "\n",
    "    except Exception as e:\n",
    "        print(f\"ERROR - Could not download {url} - {e}\")\n",
    "\n",
    "    try:\n",
    "        image_file = io.BytesIO(image_content)\n",
    "        image = Image.open(image_file).convert('RGB')\n",
    "        file_path = os.path.join(folder_path,hashlib.sha1(image_content).hexdigest()[:10] + '.jpg')\n",
    "        with open(file_path, 'wb') as f:\n",
    "            image.save(f, \"JPEG\", quality=85)\n",
    "        print(f\"SUCCESS - saved {url} - as {file_path}\")\n",
    "    except Exception as e:\n",
    "        print(f\"ERROR - Could not save {url} - {e}\")"
   ]
  },
  {
   "cell_type": "code",
   "execution_count": 5,
   "id": "5a25aad7",
   "metadata": {},
   "outputs": [],
   "source": [
    "def search_and_download(search_term:str,driver_path:str,target_path='./images',number_images=5):\n",
    "    target_folder = os.path.join(target_path,'_'.join(search_term.lower().split(' ')))\n",
    "\n",
    "    if not os.path.exists(target_folder):\n",
    "        os.makedirs(target_folder)\n",
    "\n",
    "    with webdriver.Chrome(executable_path=driver_path) as wd:\n",
    "        res = fetch_image_urls(search_term, number_images, wd=wd, sleep_between_interactions=0.1)\n",
    "        \n",
    "    for elem in res:\n",
    "        persist_image(target_folder,elem)"
   ]
  },
  {
   "cell_type": "code",
   "execution_count": 6,
   "id": "6bb120aa",
   "metadata": {},
   "outputs": [
    {
     "name": "stdout",
     "output_type": "stream",
     "text": [
      "0 100\n",
      "Found: 100 search results. Extracting links from 0:100\n",
      "88 100\n",
      "Found: 212 search results. Extracting links from 100:212\n",
      "88 100\n",
      "Found: 100 search results. Extracting links from 212:100\n",
      "88 100\n",
      "Found: 100 search results. Extracting links from 100:100\n",
      "88 100\n",
      "Found: 100 search results. Extracting links from 100:100\n",
      "88 100\n",
      "Found: 100 search results. Extracting links from 100:100\n",
      "88 100\n",
      "Found: 100 search results. Extracting links from 100:100\n",
      "88 100\n",
      "Found: 100 search results. Extracting links from 100:100\n",
      "88 100\n",
      "Found: 100 search results. Extracting links from 100:100\n",
      "88 100\n",
      "Found: 100 search results. Extracting links from 100:100\n",
      "88 100\n",
      "Found: 200 search results. Extracting links from 100:200\n",
      "Found: 100 image links, done!\n",
      "SUCCESS - saved https://encrypted-tbn0.gstatic.com/images?q=tbn:ANd9GcSF0oV3TskRgWTBEErci0ugG1TJ0uf6TTl2Ng&usqp=CAU - as ./images\\patinete\\61790bbc82.jpg\n",
      "SUCCESS - saved https://encrypted-tbn0.gstatic.com/images?q=tbn:ANd9GcQNi8XGPaImF9st0NJZelBBQEFuh21PoE43GQ&usqp=CAU - as ./images\\patinete\\459f54fc17.jpg\n",
      "SUCCESS - saved https://encrypted-tbn0.gstatic.com/images?q=tbn:ANd9GcReoU7VTNp3L8DNbaTCb3_42jKp2dqnG_ImkA&usqp=CAU - as ./images\\patinete\\5ed7f00f80.jpg\n",
      "SUCCESS - saved https://encrypted-tbn0.gstatic.com/images?q=tbn:ANd9GcQMZ_tRlmGNNrSy9r_l1qWuqYzp90-5I5GWbA&usqp=CAU - as ./images\\patinete\\59905a056c.jpg\n",
      "SUCCESS - saved https://encrypted-tbn0.gstatic.com/images?q=tbn:ANd9GcQMAeB6AdiwgsjCf0diAL9j6J8vYj-Je4OxfA&usqp=CAU - as ./images\\patinete\\900aeaa669.jpg\n",
      "SUCCESS - saved https://encrypted-tbn0.gstatic.com/images?q=tbn:ANd9GcQgScYj5fdFgdXI2gEQB7dpUgrnIOXAPvREcA&usqp=CAU - as ./images\\patinete\\8957878965.jpg\n",
      "SUCCESS - saved https://encrypted-tbn0.gstatic.com/images?q=tbn:ANd9GcTb_XXj3SlK5IKn5s768R4AKRIcvf2pmOeTqg&usqp=CAU - as ./images\\patinete\\5b5c1e7571.jpg\n",
      "SUCCESS - saved https://encrypted-tbn0.gstatic.com/images?q=tbn:ANd9GcQLaM7dfM9MWepcVCHNODqqi9HoPc3ojSPFZg&usqp=CAU - as ./images\\patinete\\5f60613f43.jpg\n",
      "SUCCESS - saved https://encrypted-tbn0.gstatic.com/images?q=tbn:ANd9GcSpxKsJMjiTO0NQ3e5nr6BePWHZsfSadDIuXg&usqp=CAU - as ./images\\patinete\\9d7b8871c3.jpg\n",
      "SUCCESS - saved https://encrypted-tbn0.gstatic.com/images?q=tbn:ANd9GcRsJk3HIwY2aJj2-ShzlOa4AKhb4RyRQfiM3w&usqp=CAU - as ./images\\patinete\\b9b5fd12bb.jpg\n",
      "SUCCESS - saved https://encrypted-tbn0.gstatic.com/images?q=tbn:ANd9GcRceFu-g7mUY0sDeEwsv5regbXuoiVpQPnEEA&usqp=CAU - as ./images\\patinete\\4fccf780b7.jpg\n",
      "SUCCESS - saved https://contents.mediadecathlon.com/p2085652/k$a5771a98bd18fbb6108899458688fcda/sq/8377409.jpg?format=auto&f=800x0 - as ./images\\patinete\\de563ba891.jpg\n"
     ]
    },
    {
     "name": "stderr",
     "output_type": "stream",
     "text": [
      "C:\\Users\\rzambrano\\Anaconda3\\envs\\general\\lib\\site-packages\\PIL\\Image.py:975: UserWarning: Palette images with Transparency expressed in bytes should be converted to RGBA images\n",
      "  warnings.warn(\n"
     ]
    },
    {
     "name": "stdout",
     "output_type": "stream",
     "text": [
      "SUCCESS - saved https://assets.mmsrg.com/isr/166325/c1/-/ASSET_MMS_88702570/fee_325_225_png - as ./images\\patinete\\50e7e8bbfe.jpg\n",
      "SUCCESS - saved https://encrypted-tbn0.gstatic.com/images?q=tbn:ANd9GcSNr9nVGSuaCkebo6gVF2FEdCJ7kT5KcvGcag&usqp=CAU - as ./images\\patinete\\fe04348e3e.jpg\n",
      "SUCCESS - saved https://encrypted-tbn0.gstatic.com/images?q=tbn:ANd9GcRvZZMu1NlOgR2HjqHbGdyK1fF5t0GB9El2fA&usqp=CAU - as ./images\\patinete\\d851b10ec5.jpg\n",
      "SUCCESS - saved https://encrypted-tbn0.gstatic.com/images?q=tbn:ANd9GcQ-wC8C4cptZKp5cR5Xg-p6qoFddO9QXC2EJA&usqp=CAU - as ./images\\patinete\\c074d598a3.jpg\n",
      "SUCCESS - saved https://encrypted-tbn0.gstatic.com/images?q=tbn:ANd9GcSBApQyt2tRgjhLBRfZVYe2gJfVQJiwahsgqg&usqp=CAU - as ./images\\patinete\\96328e11b3.jpg\n",
      "SUCCESS - saved https://encrypted-tbn0.gstatic.com/images?q=tbn:ANd9GcT22Xstiw7Y361j5z2seLu9TTAzfubVspwqow&usqp=CAU - as ./images\\patinete\\cc242ea0d9.jpg\n",
      "SUCCESS - saved https://encrypted-tbn0.gstatic.com/images?q=tbn:ANd9GcQMezpnbrer_4i47TEHN1MtOFhwy1k68FTLCg&usqp=CAU - as ./images\\patinete\\d6034cbaf3.jpg\n",
      "SUCCESS - saved https://encrypted-tbn0.gstatic.com/images?q=tbn:ANd9GcSRvAavIXUzSrzSxr9I-uHLltdna-QkKi29tQ&usqp=CAU - as ./images\\patinete\\20eabb2573.jpg\n",
      "SUCCESS - saved https://encrypted-tbn0.gstatic.com/images?q=tbn:ANd9GcSk3i6c3gZU7MDLzI5xBwSIixkf59ptqxdwsA&usqp=CAU - as ./images\\patinete\\8afb13fee6.jpg\n",
      "SUCCESS - saved https://encrypted-tbn0.gstatic.com/images?q=tbn:ANd9GcQ81xG3nr-SP1vlB_i2BsTrei_VaEJphOXNCQ&usqp=CAU - as ./images\\patinete\\412759a0bd.jpg\n",
      "SUCCESS - saved https://encrypted-tbn0.gstatic.com/images?q=tbn:ANd9GcRvokJxt3-O5X1ZJieGv20kK_DjfmStns4yNg&usqp=CAU - as ./images\\patinete\\fb346dccfd.jpg\n",
      "SUCCESS - saved https://encrypted-tbn0.gstatic.com/images?q=tbn:ANd9GcSL582_QZp2JDeTjuKBS0jd3w6MGrvT4vPBmg&usqp=CAU - as ./images\\patinete\\e920cd4b40.jpg\n",
      "SUCCESS - saved https://encrypted-tbn0.gstatic.com/images?q=tbn:ANd9GcTm-0dod4f9eYKWUjU45CpeK4drZsiYtyHCTQ&usqp=CAU - as ./images\\patinete\\3fd0c5e992.jpg\n",
      "SUCCESS - saved https://encrypted-tbn0.gstatic.com/images?q=tbn:ANd9GcSZVCj4h3DRe2bAwZsvXtd2xD5rkhIcnNSc5w&usqp=CAU - as ./images\\patinete\\c425f5967d.jpg\n",
      "SUCCESS - saved https://encrypted-tbn0.gstatic.com/images?q=tbn:ANd9GcTVYr9GP3qfWbzj6Lo_NkUmZy0BkVKKCfrJ6Q&usqp=CAU - as ./images\\patinete\\a5ee044fe4.jpg\n",
      "SUCCESS - saved https://encrypted-tbn0.gstatic.com/images?q=tbn:ANd9GcSvA7fWxwaxdf3I0-70JA-YD_9Xz-s_ZfQHJg&usqp=CAU - as ./images\\patinete\\d5af9333f3.jpg\n",
      "SUCCESS - saved https://encrypted-tbn0.gstatic.com/images?q=tbn:ANd9GcRhjMgtX3psOkUYYJxK-pZDyXt3LUy-nnBE8Q&usqp=CAU - as ./images\\patinete\\d8824577c9.jpg\n",
      "SUCCESS - saved https://encrypted-tbn0.gstatic.com/images?q=tbn:ANd9GcSdhLCtVXkIgXkRczj56k_rWhM1x6uX0TFo-Q&usqp=CAU - as ./images\\patinete\\1343b9eff8.jpg\n",
      "SUCCESS - saved https://encrypted-tbn0.gstatic.com/images?q=tbn:ANd9GcSHRKwXrn__96oOLFXpwQiFeTqP_QnkmDUy2w&usqp=CAU - as ./images\\patinete\\a1543caf82.jpg\n",
      "SUCCESS - saved https://encrypted-tbn0.gstatic.com/images?q=tbn:ANd9GcRTLEc_84WF2gxv3AQDSJHkuGO6KTAMyBT_XA&usqp=CAU - as ./images\\patinete\\d8eaa0ba2c.jpg\n",
      "SUCCESS - saved https://encrypted-tbn0.gstatic.com/images?q=tbn:ANd9GcT--Ct_PxwwbkW3kI3mGji_1zmoBJja-CKoUw&usqp=CAU - as ./images\\patinete\\2d0e19d143.jpg\n",
      "SUCCESS - saved https://encrypted-tbn0.gstatic.com/images?q=tbn:ANd9GcQbG1CZlSHXNeHqi8llTlvPxvUJEobV1a8G_w&usqp=CAU - as ./images\\patinete\\ee3e7e4312.jpg\n",
      "SUCCESS - saved https://encrypted-tbn0.gstatic.com/images?q=tbn:ANd9GcQPOLPq8u42Fv6E6HBxozt5WiarHU5b9XGRAA&usqp=CAU - as ./images\\patinete\\ec0de0602a.jpg\n",
      "SUCCESS - saved https://encrypted-tbn0.gstatic.com/images?q=tbn:ANd9GcQBVOczNfgffYVtgpsxYToMEXFydIQV3w8KJA&usqp=CAU - as ./images\\patinete\\bb88d739ec.jpg\n",
      "SUCCESS - saved https://encrypted-tbn0.gstatic.com/images?q=tbn:ANd9GcT4onroYVsAuCHld081fvhnOuDaiBrtvxUfcQ&usqp=CAU - as ./images\\patinete\\7609b48564.jpg\n",
      "SUCCESS - saved https://encrypted-tbn0.gstatic.com/images?q=tbn:ANd9GcRtVKi3rTV4o82S-MQa7ZIATuPqWy9M03vQTw&usqp=CAU - as ./images\\patinete\\8d18164547.jpg\n",
      "SUCCESS - saved https://encrypted-tbn0.gstatic.com/images?q=tbn:ANd9GcQmtIV42q0E0f6UwcCMGK0HKdmVHQBwWuP2BA&usqp=CAU - as ./images\\patinete\\1f7521e685.jpg\n",
      "SUCCESS - saved https://cdn.shopify.com/s/files/1/2262/4905/products/U230_Elektra-_6_740x.jpg?v=1607720489 - as ./images\\patinete\\b697c7281e.jpg\n",
      "SUCCESS - saved https://encrypted-tbn0.gstatic.com/images?q=tbn:ANd9GcTz3jusJ5bOJ2qxxqG7Fi8QPAwcuflx1_SH_g&usqp=CAU - as ./images\\patinete\\f21d88a7e3.jpg\n",
      "SUCCESS - saved https://encrypted-tbn0.gstatic.com/images?q=tbn:ANd9GcSOPZpziuGPVELWxj8n3lwfjKQ1wwf459krhA&usqp=CAU - as ./images\\patinete\\52a1082562.jpg\n",
      "SUCCESS - saved https://encrypted-tbn0.gstatic.com/images?q=tbn:ANd9GcSHiQEJPNyf43bq4MqlTb8hncrgkC-N9TWLbQ&usqp=CAU - as ./images\\patinete\\9790f64199.jpg\n",
      "SUCCESS - saved https://encrypted-tbn0.gstatic.com/images?q=tbn:ANd9GcR_A_Kh6xfpuvEvt9-xk2y-DfxB7LMJp0FgZg&usqp=CAU - as ./images\\patinete\\1ddf37d7ee.jpg\n",
      "SUCCESS - saved https://encrypted-tbn0.gstatic.com/images?q=tbn:ANd9GcTxLpHVae5BxfRJzaMNfSFpZqek-axMC5AF7Q&usqp=CAU - as ./images\\patinete\\f7747c3a7e.jpg\n",
      "SUCCESS - saved https://encrypted-tbn0.gstatic.com/images?q=tbn:ANd9GcSzjWT4FBdp0cSs-ohaLFMlhel32sVI_e1Rkg&usqp=CAU - as ./images\\patinete\\4a3f027d0a.jpg\n",
      "SUCCESS - saved https://encrypted-tbn0.gstatic.com/images?q=tbn:ANd9GcSoRKjDRH3-HGi8i009EU9EirfIg8ybcl4NFQ&usqp=CAU - as ./images\\patinete\\9b5f11df0f.jpg\n",
      "SUCCESS - saved https://encrypted-tbn0.gstatic.com/images?q=tbn:ANd9GcSLfLjE_GGuJ55nx1Zbqvf_L2wWPV4-sLqEJA&usqp=CAU - as ./images\\patinete\\4af8ec4894.jpg\n",
      "SUCCESS - saved https://encrypted-tbn0.gstatic.com/images?q=tbn:ANd9GcTkwJIE2XufeElRxNKD6Pnqndmsfsx_NWozug&usqp=CAU - as ./images\\patinete\\5a7af048bc.jpg\n",
      "SUCCESS - saved https://encrypted-tbn0.gstatic.com/images?q=tbn:ANd9GcRV-2mFqFQAuOhToKIdNHRBiZx-pQUlZen2Lg&usqp=CAU - as ./images\\patinete\\921db8c6cb.jpg\n",
      "SUCCESS - saved https://encrypted-tbn0.gstatic.com/images?q=tbn:ANd9GcQf5wE9AEsOs9-rE440Y0pwW6cvnXP9qFOXMA&usqp=CAU - as ./images\\patinete\\040b5a2af0.jpg\n",
      "SUCCESS - saved https://encrypted-tbn0.gstatic.com/images?q=tbn:ANd9GcSNDRQbvMcrUNbGC-gCzFOHu7HIvXZSsK8M4A&usqp=CAU - as ./images\\patinete\\a2955f8469.jpg\n",
      "SUCCESS - saved https://encrypted-tbn0.gstatic.com/images?q=tbn:ANd9GcRSrKZVghEKoQmCKoNZ-KiSp3BQdA2wUdgD7g&usqp=CAU - as ./images\\patinete\\0a973f38d4.jpg\n",
      "SUCCESS - saved https://encrypted-tbn0.gstatic.com/images?q=tbn:ANd9GcQX2IHCSYXtJNacytYW60IA2EIkq-nRC9_RAw&usqp=CAU - as ./images\\patinete\\a3c7d84131.jpg\n",
      "SUCCESS - saved https://encrypted-tbn0.gstatic.com/images?q=tbn:ANd9GcTCQnhOsk2dvGlw7DtbRI-hBTYmqlEFfD20BQ&usqp=CAU - as ./images\\patinete\\636c53ccc5.jpg\n",
      "SUCCESS - saved https://encrypted-tbn0.gstatic.com/images?q=tbn:ANd9GcSj8_Ca1a0gbmNImV9ksUtfd_3Wh51WjEgiHw&usqp=CAU - as ./images\\patinete\\83c5baaddb.jpg\n",
      "SUCCESS - saved https://static.carrefour.es/hd_510x_/crs/cdn_static/catalog/hd/446920_00_1.jpg - as ./images\\patinete\\517d4b8ed9.jpg\n",
      "SUCCESS - saved https://encrypted-tbn0.gstatic.com/images?q=tbn:ANd9GcQTuLD4tKMiQ_LmnE5oDp_Zo6D4dR00O54KZlvu7yfa2EAeQtouKq1foq-Q-Qr37THy-CI&usqp=CAU - as ./images\\patinete\\07accd85db.jpg\n",
      "SUCCESS - saved https://encrypted-tbn0.gstatic.com/images?q=tbn:ANd9GcQzSvK2keKRQjhIlsY3fFmk_-e-gG2nrLxBNA&usqp=CAU - as ./images\\patinete\\8d81ad1898.jpg\n",
      "SUCCESS - saved https://encrypted-tbn0.gstatic.com/images?q=tbn:ANd9GcRR7oArxqe16q2WXpAW5QW3cwiVWy0Hojw4Rg&usqp=CAU - as ./images\\patinete\\6f6e12b792.jpg\n",
      "SUCCESS - saved https://encrypted-tbn0.gstatic.com/images?q=tbn:ANd9GcTNWcbx01bfNNUuYXgRvD8NVAD8XZNvWVU8lg&usqp=CAU - as ./images\\patinete\\c0ef9dd220.jpg\n",
      "SUCCESS - saved https://encrypted-tbn0.gstatic.com/images?q=tbn:ANd9GcRksEdgF22u7yYfMre-127xG70YfweIqZb8iQ&usqp=CAU - as ./images\\patinete\\ba6509ddb2.jpg\n",
      "SUCCESS - saved https://encrypted-tbn0.gstatic.com/images?q=tbn:ANd9GcSqdltZYaiBKsqwDKHaHQmlpMAUleINIAPHfQ&usqp=CAU - as ./images\\patinete\\a755d5d45e.jpg\n",
      "SUCCESS - saved https://encrypted-tbn0.gstatic.com/images?q=tbn:ANd9GcQwkQoPjeDbrRCeCftFXkUgu0_NLiomhV9sPQ&usqp=CAU - as ./images\\patinete\\068570f34a.jpg\n",
      "SUCCESS - saved https://encrypted-tbn0.gstatic.com/images?q=tbn:ANd9GcSx5FT__x7VzC3McLm23B7cTrZMP7bzaGSXmA&usqp=CAU - as ./images\\patinete\\d0d7339e15.jpg\n",
      "SUCCESS - saved https://encrypted-tbn0.gstatic.com/images?q=tbn:ANd9GcSvnhCE3I8qQRnIcSK2oXvgDmYNSB89jnGIyg&usqp=CAU - as ./images\\patinete\\41d235f96d.jpg\n"
     ]
    },
    {
     "name": "stdout",
     "output_type": "stream",
     "text": [
      "SUCCESS - saved https://encrypted-tbn0.gstatic.com/images?q=tbn:ANd9GcT9KrWth1LnSnl8pLy_lZgHZZ_hNNyQGWdhRg&usqp=CAU - as ./images\\patinete\\9655809ef8.jpg\n",
      "SUCCESS - saved https://encrypted-tbn0.gstatic.com/images?q=tbn:ANd9GcQbLZHl4BjcYr_hdGs1cTNAVFeKeKOdj1HT0w&usqp=CAU - as ./images\\patinete\\0a6eacb44d.jpg\n",
      "SUCCESS - saved https://encrypted-tbn0.gstatic.com/images?q=tbn:ANd9GcQlftheRBIc1wTPWbAfqJoLdg6OnvWmzluslw&usqp=CAU - as ./images\\patinete\\df7403d165.jpg\n",
      "SUCCESS - saved https://encrypted-tbn0.gstatic.com/images?q=tbn:ANd9GcS8tcRcSMYD_b56NmDlAEDyA3RuGFI-TZxX6w&usqp=CAU - as ./images\\patinete\\3c42144376.jpg\n",
      "SUCCESS - saved https://encrypted-tbn0.gstatic.com/images?q=tbn:ANd9GcTtyrtpDNiWSe-lzI46gzcCQvU6pwxtkzTqwg&usqp=CAU - as ./images\\patinete\\c73d0f4096.jpg\n",
      "SUCCESS - saved https://encrypted-tbn0.gstatic.com/images?q=tbn:ANd9GcRw9ukfSFjBTyTzkIsrzSKcZB7LeY1SQwk1jA&usqp=CAU - as ./images\\patinete\\abd479ed13.jpg\n",
      "SUCCESS - saved https://encrypted-tbn0.gstatic.com/images?q=tbn:ANd9GcS74D3uTI4M1Fns8fX0MGNe3kr8E8A08cakBQ&usqp=CAU - as ./images\\patinete\\fa4bda8ce3.jpg\n",
      "SUCCESS - saved https://encrypted-tbn0.gstatic.com/images?q=tbn:ANd9GcTBD2Xj4Cy9pGO5d5MRDxvAjP9snNKq7D2jcA&usqp=CAU - as ./images\\patinete\\9c94e6b32a.jpg\n",
      "SUCCESS - saved https://encrypted-tbn0.gstatic.com/images?q=tbn:ANd9GcT1D2xyPemSO1lgg3D65uinhWBNBztthO6FGg&usqp=CAU - as ./images\\patinete\\d1c7e4757e.jpg\n",
      "SUCCESS - saved https://encrypted-tbn0.gstatic.com/images?q=tbn:ANd9GcSc8O8FrZfjH5DKDiXX4jKQZRh_2ebzen6Ncw&usqp=CAU - as ./images\\patinete\\d12a1bbf62.jpg\n",
      "SUCCESS - saved https://encrypted-tbn0.gstatic.com/images?q=tbn:ANd9GcTUNqR1blwkrPebrkVS5gsEeZ2wK-V4k3eOWw&usqp=CAU - as ./images\\patinete\\c56720f0dc.jpg\n",
      "SUCCESS - saved https://encrypted-tbn0.gstatic.com/images?q=tbn:ANd9GcSr5nUKNeeWSbfDO1EigfEIBhXyyaO-E8UlMg&usqp=CAU - as ./images\\patinete\\c76511b71b.jpg\n",
      "SUCCESS - saved https://encrypted-tbn0.gstatic.com/images?q=tbn:ANd9GcSPPT1NMMOEca3TLpWJEM9tvtdVt3TlAde2og&usqp=CAU - as ./images\\patinete\\6d5fa9b9b2.jpg\n",
      "SUCCESS - saved https://encrypted-tbn0.gstatic.com/images?q=tbn:ANd9GcQFUjs51DHi6Io7XDqwXU5x2Cn0sKyTn3tVZg&usqp=CAU - as ./images\\patinete\\94ddbe52fa.jpg\n",
      "SUCCESS - saved https://encrypted-tbn0.gstatic.com/images?q=tbn:ANd9GcSg-4cPawr7mH7q7pfCTSk5ci6OtUh2Rpf8NA&usqp=CAU - as ./images\\patinete\\1b967a3131.jpg\n",
      "SUCCESS - saved https://encrypted-tbn0.gstatic.com/images?q=tbn:ANd9GcQG8L1RJDWtRpa-RTPMjkuluwmo-qUMnjEe4g&usqp=CAU - as ./images\\patinete\\db52420936.jpg\n",
      "SUCCESS - saved https://encrypted-tbn0.gstatic.com/images?q=tbn:ANd9GcRQ0t1bOGFYa6AwtAnLzz-I1QtEom9psm9rog&usqp=CAU - as ./images\\patinete\\f513ad0b71.jpg\n",
      "SUCCESS - saved https://encrypted-tbn0.gstatic.com/images?q=tbn:ANd9GcTo2psg1OfcwGyErnIhuwdf7NtqJnaSOiLJPg&usqp=CAU - as ./images\\patinete\\151edd9f5b.jpg\n",
      "SUCCESS - saved https://zwheel-shop.com/wp-content/uploads/2019/10/e8-zsnake-01.jpg - as ./images\\patinete\\3dc072d5fb.jpg\n",
      "SUCCESS - saved https://m.media-amazon.com/images/I/41b-9xsu02L._AC_SX466_.jpg - as ./images\\patinete\\635c26e758.jpg\n",
      "SUCCESS - saved https://smartgyro.es/5986-large_default/patinete-electrico-smartgyro-speedway.jpg - as ./images\\patinete\\5b6bbfd908.jpg\n",
      "SUCCESS - saved https://encrypted-tbn0.gstatic.com/images?q=tbn:ANd9GcS-OhZdfMWfy743OfMdKDGoAT4LiSDiJFL_PA&usqp=CAU - as ./images\\patinete\\badfac2b87.jpg\n",
      "SUCCESS - saved https://encrypted-tbn0.gstatic.com/images?q=tbn:ANd9GcRGAQBqfgWIZpIlCIHwJtFw5o1tTz1f3gTN_A&usqp=CAU - as ./images\\patinete\\4d06709273.jpg\n",
      "SUCCESS - saved https://encrypted-tbn0.gstatic.com/images?q=tbn:ANd9GcRW46Ve1utylxwSfvwe7rk2_EDkjv0wOezxwg&usqp=CAU - as ./images\\patinete\\2982535164.jpg\n",
      "SUCCESS - saved https://encrypted-tbn0.gstatic.com/images?q=tbn:ANd9GcQxrIbivXXBst7ZclIkR7qASs9S6qER5ZODIw&usqp=CAU - as ./images\\patinete\\5bc5f6d0f0.jpg\n",
      "SUCCESS - saved https://encrypted-tbn0.gstatic.com/images?q=tbn:ANd9GcSuDwa22jjjD09sbkKvyFe_vx3nqHuuprx_LQ&usqp=CAU - as ./images\\patinete\\5007da3bad.jpg\n",
      "SUCCESS - saved https://encrypted-tbn0.gstatic.com/images?q=tbn:ANd9GcRcMnZhAP07NJ8VTKAGBRbHJz9ez0OMeF4Tog&usqp=CAU - as ./images\\patinete\\379ac42656.jpg\n",
      "SUCCESS - saved https://encrypted-tbn0.gstatic.com/images?q=tbn:ANd9GcRRPqY5zXAaolPSmru0RYRg4v1nTrFewEw_0Vt7P9RF8TsZmd6zop6SxUifR0hMJMbFxEw&usqp=CAU - as ./images\\patinete\\a2908bc57f.jpg\n",
      "SUCCESS - saved https://encrypted-tbn0.gstatic.com/images?q=tbn:ANd9GcSTepI3qHvBRM7bEpSllj-JtLdyzPtA69lRnw&usqp=CAU - as ./images\\patinete\\2977a06aec.jpg\n",
      "SUCCESS - saved https://encrypted-tbn0.gstatic.com/images?q=tbn:ANd9GcQdvunrH-L-3F2lTAWw1XcxMllI2s5bxu8wbA&usqp=CAU - as ./images\\patinete\\c32af9d7ee.jpg\n",
      "SUCCESS - saved https://encrypted-tbn0.gstatic.com/images?q=tbn:ANd9GcR9jmR9GBxgkjB9oAV2eEYuxI8I924C99tS4Q&usqp=CAU - as ./images\\patinete\\b31250327e.jpg\n",
      "SUCCESS - saved https://encrypted-tbn0.gstatic.com/images?q=tbn:ANd9GcSMq6t1VpyWF-nPszghYLQA_C_AmO8N7xNuTg&usqp=CAU - as ./images\\patinete\\55e6137ed4.jpg\n",
      "SUCCESS - saved https://encrypted-tbn0.gstatic.com/images?q=tbn:ANd9GcT8qDlrk1CtfQ7KtQqb7kDaKE4YQOJl_AshXw&usqp=CAU - as ./images\\patinete\\692d9f92aa.jpg\n",
      "SUCCESS - saved https://encrypted-tbn0.gstatic.com/images?q=tbn:ANd9GcR3SGW14NQwtqmyqg8saQ3rY6LhvqVdZXaChQ&usqp=CAU - as ./images\\patinete\\f3c591d84e.jpg\n"
     ]
    }
   ],
   "source": [
    "search_term = 'patinete'\n",
    "search_and_download(search_term,'chromedriver.exe',number_images=100)"
   ]
  },
  {
   "cell_type": "code",
   "execution_count": 7,
   "id": "7fa8a16a",
   "metadata": {},
   "outputs": [
    {
     "name": "stdout",
     "output_type": "stream",
     "text": [
      "0 100\n",
      "Found: 100 search results. Extracting links from 0:100\n",
      "88 100\n",
      "Found: 212 search results. Extracting links from 100:212\n",
      "Found: 100 image links, done!\n",
      "SUCCESS - saved https://encrypted-tbn0.gstatic.com/images?q=tbn:ANd9GcSJ8Hz_2aJnPnD3jX0Q4Nw3G38QB5_wkSzVzw&usqp=CAU - as ./images\\bicicleta\\6a14f57379.jpg\n",
      "SUCCESS - saved https://encrypted-tbn0.gstatic.com/images?q=tbn:ANd9GcTc9K4_oLEe0VydhvlRGMa0XcLKiB8CeMu2Ww&usqp=CAU - as ./images\\bicicleta\\96dafa8eab.jpg\n",
      "SUCCESS - saved https://encrypted-tbn0.gstatic.com/images?q=tbn:ANd9GcTQluXt8KJUNMbYjjEK6Z9EpStalKcRdbUX3A&usqp=CAU - as ./images\\bicicleta\\b6871a0697.jpg\n",
      "SUCCESS - saved https://encrypted-tbn0.gstatic.com/images?q=tbn:ANd9GcRcWqRIniIi_MNnTJ5zXkqfnVemT1CTFdhkrw&usqp=CAU - as ./images\\bicicleta\\131fc1c7ea.jpg\n",
      "SUCCESS - saved https://encrypted-tbn0.gstatic.com/images?q=tbn:ANd9GcR3LytSWVbKgG1D-mAoUjAGppr8F7X3VrFjcw&usqp=CAU - as ./images\\bicicleta\\6d116a2b01.jpg\n",
      "SUCCESS - saved https://encrypted-tbn0.gstatic.com/images?q=tbn:ANd9GcRY96Ib-HIenxhgzTQY2GBPdieOyRCUuScpvw&usqp=CAU - as ./images\\bicicleta\\6142cb06d4.jpg\n",
      "SUCCESS - saved https://contents.mediadecathlon.com/p2091636/k$cc0790528e1a07724f38362c6dc52705/sq/8744546.jpg?format=auto&f=800x0 - as ./images\\bicicleta\\df08903c81.jpg\n",
      "SUCCESS - saved https://encrypted-tbn0.gstatic.com/images?q=tbn:ANd9GcSbPiGBv-P4eJxgtmGVC8e9MriHyVy3uNoExQ&usqp=CAU - as ./images\\bicicleta\\cf771e3871.jpg\n",
      "SUCCESS - saved https://encrypted-tbn0.gstatic.com/images?q=tbn:ANd9GcStEAKSViz8RU9SBoX-0GrnyFGAaGfDPmLMsw&usqp=CAU - as ./images\\bicicleta\\7622feeae6.jpg\n",
      "SUCCESS - saved https://encrypted-tbn0.gstatic.com/images?q=tbn:ANd9GcT2MgoJ-xIAYjM1S-FqqyBU5h4eGAtrmOGDJQ&usqp=CAU - as ./images\\bicicleta\\cbb1374faf.jpg\n",
      "SUCCESS - saved https://encrypted-tbn0.gstatic.com/images?q=tbn:ANd9GcTPqt6FahMHN_HfrAQYWZ_n_wWqk7-9jU4Qsw&usqp=CAU - as ./images\\bicicleta\\065eceabae.jpg\n",
      "SUCCESS - saved https://encrypted-tbn0.gstatic.com/images?q=tbn:ANd9GcR8HmZ4qjJPfHYka4rY6yfh3NFqG_G4-oGhzw&usqp=CAU - as ./images\\bicicleta\\e7737106dd.jpg\n",
      "SUCCESS - saved https://encrypted-tbn0.gstatic.com/images?q=tbn:ANd9GcQdRba6DFnj0RqotJNUY5dw5IG6_5I04icqUw&usqp=CAU - as ./images\\bicicleta\\372e2cdd26.jpg\n",
      "SUCCESS - saved https://encrypted-tbn0.gstatic.com/images?q=tbn:ANd9GcR1sp-v32JN-TX9qw3Zf8lkOU9aHigUCQxuHw&usqp=CAU - as ./images\\bicicleta\\5862967d4d.jpg\n",
      "SUCCESS - saved https://encrypted-tbn0.gstatic.com/images?q=tbn:ANd9GcTxHIxMUa97YZ3pzZKQX36F4lnPZ37HSNoVng&usqp=CAU - as ./images\\bicicleta\\1a2deb4fcb.jpg\n",
      "SUCCESS - saved https://encrypted-tbn0.gstatic.com/images?q=tbn:ANd9GcQNvhHlGPv_7GsTyFQMBMiJdX3_O2L_jDOSlA&usqp=CAU - as ./images\\bicicleta\\95b423a361.jpg\n",
      "SUCCESS - saved https://encrypted-tbn0.gstatic.com/images?q=tbn:ANd9GcT0-cHXIa82Js7Yry7i2IOneCo-ia555FFliQ&usqp=CAU - as ./images\\bicicleta\\63ceb054c7.jpg\n",
      "SUCCESS - saved https://www.bikester.es/on/demandware.static/-/Library-Sites-bikester/default/dwfdca9699/Blog/mtb_electric_2008.png - as ./images\\bicicleta\\866fa2db62.jpg\n",
      "SUCCESS - saved https://encrypted-tbn0.gstatic.com/images?q=tbn:ANd9GcSHJqZM3yEjohylafNdqMwCRmW6nL43vueheg&usqp=CAU - as ./images\\bicicleta\\63b466e0a5.jpg\n",
      "SUCCESS - saved https://encrypted-tbn0.gstatic.com/images?q=tbn:ANd9GcRTwndvZy0jmzic_eFGNsip-xYWPTOXyjRC4A&usqp=CAU - as ./images\\bicicleta\\f0ac2d05c8.jpg\n",
      "SUCCESS - saved https://upload.wikimedia.org/wikipedia/commons/thumb/4/49/Bicicleta_estilo_cl%C3%A1sico.JPG/250px-Bicicleta_estilo_cl%C3%A1sico.JPG - as ./images\\bicicleta\\d62711f63c.jpg\n",
      "SUCCESS - saved https://encrypted-tbn0.gstatic.com/images?q=tbn:ANd9GcSWChpgCQnx6mA7ftlNtdRyZqk4Vgben1D1sA&usqp=CAU - as ./images\\bicicleta\\ece5452732.jpg\n",
      "SUCCESS - saved https://img.remediosdigitales.com/6b169c/ducati-e-bike-mig-rr-2019-1/450_1000.jpg - as ./images\\bicicleta\\76fda358c2.jpg\n",
      "SUCCESS - saved https://encrypted-tbn0.gstatic.com/images?q=tbn:ANd9GcTYtnip1ijgP1NjzE7IytRPuOtl8koKehz32g&usqp=CAU - as ./images\\bicicleta\\a6b3f46114.jpg\n",
      "SUCCESS - saved https://encrypted-tbn0.gstatic.com/images?q=tbn:ANd9GcSLW2QCwWaMdDRiu46T2TgK5rkEkG6v1_1VtQ&usqp=CAU - as ./images\\bicicleta\\1132309510.jpg\n",
      "SUCCESS - saved https://encrypted-tbn0.gstatic.com/images?q=tbn:ANd9GcTi0Zug4eCOazgTiyozNX4_O0I0Mk2PnD27kQ&usqp=CAU - as ./images\\bicicleta\\a16baa669d.jpg\n",
      "SUCCESS - saved https://encrypted-tbn0.gstatic.com/images?q=tbn:ANd9GcRyXC4I7mkBjU7uJM4jpodypkxzFstVUJGQBw&usqp=CAU - as ./images\\bicicleta\\b525196ff9.jpg\n",
      "SUCCESS - saved https://encrypted-tbn0.gstatic.com/images?q=tbn:ANd9GcTbcpuEQURcUF2FxUrLnFpifJXjTRH--bANJw&usqp=CAU - as ./images\\bicicleta\\a5e251523c.jpg\n",
      "SUCCESS - saved https://encrypted-tbn0.gstatic.com/images?q=tbn:ANd9GcS_uWCXdjvRxbiEyd3rdIR51ifRpKE_ZA3Gyg&usqp=CAU - as ./images\\bicicleta\\e3f685d466.jpg\n",
      "SUCCESS - saved https://encrypted-tbn0.gstatic.com/images?q=tbn:ANd9GcQOuoGHpuDFNLrSFDX7_LwOoe17mLyPmP15-g&usqp=CAU - as ./images\\bicicleta\\d952715315.jpg\n",
      "SUCCESS - saved https://encrypted-tbn0.gstatic.com/images?q=tbn:ANd9GcSnP__cyXYbY_C08Q3eSckD7fEpdFyXoR3Sxg&usqp=CAU - as ./images\\bicicleta\\4049b26c2b.jpg\n",
      "SUCCESS - saved https://encrypted-tbn0.gstatic.com/images?q=tbn:ANd9GcT6mOjDX2CkITS-zteopX65OU64IeTJadFeXQ&usqp=CAU - as ./images\\bicicleta\\0d9f601c58.jpg\n",
      "SUCCESS - saved https://encrypted-tbn0.gstatic.com/images?q=tbn:ANd9GcRwqw5ot3ylPBmLniBiI6oFOa1kf-xu3R-eug&usqp=CAU - as ./images\\bicicleta\\c862b5608e.jpg\n",
      "SUCCESS - saved https://encrypted-tbn0.gstatic.com/images?q=tbn:ANd9GcSKxm42a6DvsN-9E1v557p-_kNnO6W8Q-46pA&usqp=CAU - as ./images\\bicicleta\\1e370b5a9b.jpg\n",
      "SUCCESS - saved https://encrypted-tbn0.gstatic.com/images?q=tbn:ANd9GcQRjpGi25nnjx0h4m2w6A7qgFTmldHB59Gkrw&usqp=CAU - as ./images\\bicicleta\\e6869e6cbf.jpg\n",
      "SUCCESS - saved https://encrypted-tbn0.gstatic.com/images?q=tbn:ANd9GcReymbOk4OrAjiWrjL4SHRnXu3eeox3MmfBWA&usqp=CAU - as ./images\\bicicleta\\a00fc338ef.jpg\n",
      "SUCCESS - saved https://encrypted-tbn0.gstatic.com/images?q=tbn:ANd9GcToTvwB98joZZncB93DcxldmPPHNg91RnoH5A&usqp=CAU - as ./images\\bicicleta\\1cdc4ca412.jpg\n",
      "SUCCESS - saved https://encrypted-tbn0.gstatic.com/images?q=tbn:ANd9GcREvbUvjdKMmmRYI1GTOPIwtDjqTQoV62mghw&usqp=CAU - as ./images\\bicicleta\\b48b93c07a.jpg\n",
      "SUCCESS - saved https://encrypted-tbn0.gstatic.com/images?q=tbn:ANd9GcQeOZzIC-6_My_AaIQpcfKGiNZuXXWYPHP-6w&usqp=CAU - as ./images\\bicicleta\\b67aac6666.jpg\n",
      "SUCCESS - saved https://encrypted-tbn0.gstatic.com/images?q=tbn:ANd9GcRUtnfsD3r5Aa9YP2J82GEkgKD_vpnPj-FBCw&usqp=CAU - as ./images\\bicicleta\\8c004f945a.jpg\n",
      "SUCCESS - saved https://encrypted-tbn0.gstatic.com/images?q=tbn:ANd9GcQ_P6JLf1gpVmHDysL4fqHIiEDZaujYoSyllg&usqp=CAU - as ./images\\bicicleta\\3ed25713f8.jpg\n",
      "SUCCESS - saved https://encrypted-tbn0.gstatic.com/images?q=tbn:ANd9GcTeGSv0uEJbliJMsIz16nrWoJDPMpksbt76vKzHNyhGSb0GYgnHUZ4MwBxyKZMtsEc4RE4&usqp=CAU - as ./images\\bicicleta\\59de8d87fc.jpg\n",
      "SUCCESS - saved https://ciclosfera.com/img/c497e9aa30642ffb2a162cc9aaa84d18.872.0.0.0.5e188e33.webp - as ./images\\bicicleta\\3db8e82e65.jpg\n",
      "SUCCESS - saved https://encrypted-tbn0.gstatic.com/images?q=tbn:ANd9GcSsILyxDdwc9U5JEppXwYwfX0CVbewhIJLdmw&usqp=CAU - as ./images\\bicicleta\\edcbafd101.jpg\n",
      "SUCCESS - saved https://encrypted-tbn0.gstatic.com/images?q=tbn:ANd9GcQ7_UPTru1sqc7qiUQy7-I9yxX5GWAtKFjkgg&usqp=CAU - as ./images\\bicicleta\\c1665ec7fa.jpg\n",
      "SUCCESS - saved https://encrypted-tbn0.gstatic.com/images?q=tbn:ANd9GcT0L4fJwCcNjhB8ywjxsyVAC1CqshSGELAo1g&usqp=CAU - as ./images\\bicicleta\\2df5aaa746.jpg\n",
      "SUCCESS - saved https://encrypted-tbn0.gstatic.com/images?q=tbn:ANd9GcTa7ZK9fItdXm4TxXFGbyU8pbxh1e24wdQU6g&usqp=CAU - as ./images\\bicicleta\\9817a1fe17.jpg\n",
      "SUCCESS - saved https://encrypted-tbn0.gstatic.com/images?q=tbn:ANd9GcTUdVKcaLTI40TydcInqb6q-xPw3gUrS4reWQ&usqp=CAU - as ./images\\bicicleta\\2ee18b08cf.jpg\n",
      "SUCCESS - saved https://encrypted-tbn0.gstatic.com/images?q=tbn:ANd9GcQ8Xg_fuis-hXzUu3nQsf1PsKXLAO2jF5Jubg&usqp=CAU - as ./images\\bicicleta\\4f4b624a16.jpg\n",
      "SUCCESS - saved https://encrypted-tbn0.gstatic.com/images?q=tbn:ANd9GcT0D7rvFm93UycAfMMzNFeA9GMd0G2H4VL2cA&usqp=CAU - as ./images\\bicicleta\\d60cd504bc.jpg\n",
      "SUCCESS - saved https://encrypted-tbn0.gstatic.com/images?q=tbn:ANd9GcQHUWVcg1qGLsoXFBxK5ekPyBDUhZNeqxuyGw&usqp=CAU - as ./images\\bicicleta\\664333328f.jpg\n",
      "SUCCESS - saved https://encrypted-tbn0.gstatic.com/images?q=tbn:ANd9GcTLxJsTz9ejmRPUqjHsl_LWOi2zQTTwSDpeCQ&usqp=CAU - as ./images\\bicicleta\\b76c91ad8c.jpg\n"
     ]
    },
    {
     "name": "stdout",
     "output_type": "stream",
     "text": [
      "SUCCESS - saved https://encrypted-tbn0.gstatic.com/images?q=tbn:ANd9GcSiHVp6-c9wmPE_SNs9tnsw-ASNjbAmptKo4g&usqp=CAU - as ./images\\bicicleta\\f5d5be0697.jpg\n",
      "SUCCESS - saved https://encrypted-tbn0.gstatic.com/images?q=tbn:ANd9GcSTtuK5JF_GSDxL3vtYmR8jPC7sZZ18rkyBHQ&usqp=CAU - as ./images\\bicicleta\\d7b29db780.jpg\n",
      "SUCCESS - saved https://encrypted-tbn0.gstatic.com/images?q=tbn:ANd9GcROWWjttwip9yxZW1Hi4tLCvtYTmo6kyD7XZg&usqp=CAU - as ./images\\bicicleta\\a683eff019.jpg\n",
      "SUCCESS - saved https://encrypted-tbn0.gstatic.com/images?q=tbn:ANd9GcTkWo7hOer1l-jb5ExLFfxrfIVcOtAuIyYF6g&usqp=CAU - as ./images\\bicicleta\\4d1b6ee2b5.jpg\n",
      "SUCCESS - saved https://encrypted-tbn0.gstatic.com/images?q=tbn:ANd9GcS39GMVkSLxvZvgnUyZ3vNzo0d-FHOnl0tbNA&usqp=CAU - as ./images\\bicicleta\\684aac3083.jpg\n",
      "SUCCESS - saved https://encrypted-tbn0.gstatic.com/images?q=tbn:ANd9GcRGXznbjd_kN4yPoaX4IsC53XF7HUlkHjPlrA&usqp=CAU - as ./images\\bicicleta\\0117a230f6.jpg\n",
      "SUCCESS - saved https://encrypted-tbn0.gstatic.com/images?q=tbn:ANd9GcRwF-UQb8sXhBN9n7kKiUE5JsPBR9i6-4W1YQ&usqp=CAU - as ./images\\bicicleta\\2de3b7e2ca.jpg\n",
      "SUCCESS - saved https://encrypted-tbn0.gstatic.com/images?q=tbn:ANd9GcTYxoiCGJGy0JEOmlF7zqKV0RvQHzWhFFwxig&usqp=CAU - as ./images\\bicicleta\\17f3175a77.jpg\n",
      "SUCCESS - saved https://encrypted-tbn0.gstatic.com/images?q=tbn:ANd9GcSKQ5vK6-3VLjrpuQ8JdaC6Oo3FyFL04BENHQ&usqp=CAU - as ./images\\bicicleta\\fec8e14f4b.jpg\n",
      "SUCCESS - saved https://encrypted-tbn0.gstatic.com/images?q=tbn:ANd9GcRxzTHCMrgZsfbk0kc5xJbYbpYp68-XSeKxug&usqp=CAU - as ./images\\bicicleta\\5c9fb56c1f.jpg\n",
      "SUCCESS - saved https://encrypted-tbn0.gstatic.com/images?q=tbn:ANd9GcRvlbamCMt54fi0QZnqIcDRADxpzZqJQby_fg&usqp=CAU - as ./images\\bicicleta\\071a30812d.jpg\n",
      "SUCCESS - saved https://contents.mediadecathlon.com/p1732641/k$78a7b55f376e1f05c8c023e633f3b9d0/sq/bicicleta-ninos-mtb-rockrider-st-500-24-pulgadas-8-12-anos-azul.jpg?format=auto&f=800x0 - as ./images\\bicicleta\\d8779e9419.jpg\n",
      "SUCCESS - saved https://encrypted-tbn0.gstatic.com/images?q=tbn:ANd9GcSWPyHz3LMU78theRNdN-tKAkWUuR0RI81OUQ&usqp=CAU - as ./images\\bicicleta\\400fa95883.jpg\n",
      "SUCCESS - saved https://encrypted-tbn0.gstatic.com/images?q=tbn:ANd9GcQ_UKLxRdgNLcubw_YgBrea5j9AT-CPneqJog&usqp=CAU - as ./images\\bicicleta\\f504bf99fa.jpg\n",
      "SUCCESS - saved https://imagenes.elpais.com/resizer/qU_x2T45dIKK7P7AKydja3jzFJ4=/414x0/filters:focal(372x201:382x211)/cloudfront-eu-central-1.images.arcpublishing.com/prisa/GL46VOJ6LREINAZGJD67RB6S2A.jpg - as ./images\\bicicleta\\e023db262e.jpg\n",
      "SUCCESS - saved https://encrypted-tbn0.gstatic.com/images?q=tbn:ANd9GcQIFwmNwgaLj_VymsTB3zdsAqzwLmzMw-4lng&usqp=CAU - as ./images\\bicicleta\\45df70a731.jpg\n",
      "SUCCESS - saved https://encrypted-tbn0.gstatic.com/images?q=tbn:ANd9GcQhT_iQrQRFr0WRsXGh-c-GGUqHbg0QZmiGjg&usqp=CAU - as ./images\\bicicleta\\2605973987.jpg\n",
      "SUCCESS - saved https://encrypted-tbn0.gstatic.com/images?q=tbn:ANd9GcTZfaE18-Hot8hCHbQXAKZFfqsID8x6Pcbvpg&usqp=CAU - as ./images\\bicicleta\\39843f719b.jpg\n",
      "SUCCESS - saved https://encrypted-tbn0.gstatic.com/images?q=tbn:ANd9GcRqM8ICJMYE7cHwURLeWY50rJQtRtJ98-08Nw&usqp=CAU - as ./images\\bicicleta\\dc395e8bd7.jpg\n",
      "SUCCESS - saved https://encrypted-tbn0.gstatic.com/images?q=tbn:ANd9GcSyHnc4MF4tWnva8IbgtDHUVRUQCwuG-K_0WA&usqp=CAU - as ./images\\bicicleta\\cebbf4c63d.jpg\n",
      "SUCCESS - saved https://encrypted-tbn0.gstatic.com/images?q=tbn:ANd9GcRbmzC0Jhj6tOnP-A72EL1m3bLLsi7wVqnuUA&usqp=CAU - as ./images\\bicicleta\\9dc59d0dc6.jpg\n",
      "SUCCESS - saved https://i.blogs.es/77d3c5/rungu-bicicleta-tres-ruedas/840_560.jpg - as ./images\\bicicleta\\7b458537a4.jpg\n",
      "SUCCESS - saved https://encrypted-tbn0.gstatic.com/images?q=tbn:ANd9GcRd4iSLBmXMM5DSlhBKs8T4q5zFE8x3qgv8Dw&usqp=CAU - as ./images\\bicicleta\\6e63d9eb51.jpg\n",
      "SUCCESS - saved https://encrypted-tbn0.gstatic.com/images?q=tbn:ANd9GcQ0GioBAgHEvW1tjWC55aUXtYoO5y_6nF6CAg&usqp=CAU - as ./images\\bicicleta\\7f1e318764.jpg\n",
      "SUCCESS - saved https://encrypted-tbn0.gstatic.com/images?q=tbn:ANd9GcSgO0cPuj3t6QVdxGKETKAue0VCBmilcmaumA&usqp=CAU - as ./images\\bicicleta\\670f8140d9.jpg\n",
      "SUCCESS - saved https://encrypted-tbn0.gstatic.com/images?q=tbn:ANd9GcRlDfsYIE7LvDfUXyiWXYDQYtyJd3Af9QcfMQ&usqp=CAU - as ./images\\bicicleta\\b83a6822d0.jpg\n",
      "SUCCESS - saved https://encrypted-tbn0.gstatic.com/images?q=tbn:ANd9GcR_BHt3q0CWJzodjMfQKAnl79lZniu8oR4OYg&usqp=CAU - as ./images\\bicicleta\\ae711def4d.jpg\n",
      "SUCCESS - saved https://encrypted-tbn0.gstatic.com/images?q=tbn:ANd9GcTMi6-aZNrqSH6M0dOUtw6xlVSXTINmqqEDMg&usqp=CAU - as ./images\\bicicleta\\5ef0fe92e0.jpg\n",
      "SUCCESS - saved https://encrypted-tbn0.gstatic.com/images?q=tbn:ANd9GcRpK3POedVtL6Aeir1YvxEQwz0W7ZpPxhqrfA&usqp=CAU - as ./images\\bicicleta\\b9dccc7db8.jpg\n",
      "SUCCESS - saved https://encrypted-tbn0.gstatic.com/images?q=tbn:ANd9GcQsobO3K4oe1uqkSAXCPcK5ge3jtWUEek7uOA&usqp=CAU - as ./images\\bicicleta\\9ad16ba41d.jpg\n",
      "SUCCESS - saved https://encrypted-tbn0.gstatic.com/images?q=tbn:ANd9GcQle8b4Tx6AvtiT_hTGKouEBRvtZpazXotRlA&usqp=CAU - as ./images\\bicicleta\\bef01167eb.jpg\n",
      "SUCCESS - saved https://encrypted-tbn0.gstatic.com/images?q=tbn:ANd9GcR5O5niu4UPE_X_Emlm9xsJZC8wZnAbbAdIEQ&usqp=CAU - as ./images\\bicicleta\\3f6d0c6494.jpg\n",
      "SUCCESS - saved https://encrypted-tbn0.gstatic.com/images?q=tbn:ANd9GcSE-_mZtLQOyjPtzpMibDDY-mYWn4W1TiLNlA&usqp=CAU - as ./images\\bicicleta\\21968795af.jpg\n",
      "SUCCESS - saved https://encrypted-tbn0.gstatic.com/images?q=tbn:ANd9GcQLTS75SyXjANyczGHuXoBynn3hw6QOAyP48w&usqp=CAU - as ./images\\bicicleta\\ef762a4fe2.jpg\n",
      "SUCCESS - saved https://encrypted-tbn0.gstatic.com/images?q=tbn:ANd9GcQ7q5Hd0wHhpG2v-wYqeYJYjcifgLTxXVabdw&usqp=CAU - as ./images\\bicicleta\\af83479559.jpg\n",
      "SUCCESS - saved https://cdn.computerhoy.com/sites/navi.axelspringer.es/public/styles/480/public/media/image/2018/04/295799-mejores-opciones-bicicletas-madrid.jpg?itok=kiZnOf-W - as ./images\\bicicleta\\d81150676e.jpg\n",
      "SUCCESS - saved https://encrypted-tbn0.gstatic.com/images?q=tbn:ANd9GcSHULzoSJq51YqJKc-4xGFBkKRwU89g9DkEwg&usqp=CAU - as ./images\\bicicleta\\2d22d54f6d.jpg\n",
      "SUCCESS - saved https://encrypted-tbn0.gstatic.com/images?q=tbn:ANd9GcQ4M9sz3jPLvhgXVh9c7e11QpipVkSMOn0CN5lUw4Hn8b-G7yr45q-j427Vp_I9cOsOyMI&usqp=CAU - as ./images\\bicicleta\\d8d47b5e2c.jpg\n",
      "SUCCESS - saved https://encrypted-tbn0.gstatic.com/images?q=tbn:ANd9GcR_B4bIPX4hPazDpttWuJs0Knu20tzlhuHhPw&usqp=CAU - as ./images\\bicicleta\\2be8eca2dd.jpg\n",
      "SUCCESS - saved https://encrypted-tbn0.gstatic.com/images?q=tbn:ANd9GcQ_WKb9o9tIvCpvTmhe3Ng1cVF6CEOuVTC74w&usqp=CAU - as ./images\\bicicleta\\3dfbab2fa1.jpg\n",
      "SUCCESS - saved https://encrypted-tbn0.gstatic.com/images?q=tbn:ANd9GcRhqSdQNMwkT2LNgPh-qxHzjGPomaC5NIv2JA&usqp=CAU - as ./images\\bicicleta\\0b650a8001.jpg\n",
      "SUCCESS - saved https://encrypted-tbn0.gstatic.com/images?q=tbn:ANd9GcS62npPgkc5rlZIDi45kyt6sC4R8XxaqvwB5Q&usqp=CAU - as ./images\\bicicleta\\9c6772a3fa.jpg\n",
      "SUCCESS - saved https://encrypted-tbn0.gstatic.com/images?q=tbn:ANd9GcQZ5aIxSLDpSL6ju2tqehKxP0Rh_FoXPnUtlg&usqp=CAU - as ./images\\bicicleta\\79359155c4.jpg\n",
      "SUCCESS - saved https://encrypted-tbn0.gstatic.com/images?q=tbn:ANd9GcTDxyZzDvR-92JXt9LZ3u1yoKnJisJjye8Z8g&usqp=CAU - as ./images\\bicicleta\\e77238b672.jpg\n",
      "SUCCESS - saved https://encrypted-tbn0.gstatic.com/images?q=tbn:ANd9GcTT33uTNzhHLnTmFxDy28koy1UdalqZFZQUPA&usqp=CAU - as ./images\\bicicleta\\fe9658dbb1.jpg\n",
      "SUCCESS - saved https://encrypted-tbn0.gstatic.com/images?q=tbn:ANd9GcQroNcZqoqApCMeXzfdGNRAuiMFRO6RHqNWYQ&usqp=CAU - as ./images\\bicicleta\\3c9a345373.jpg\n",
      "SUCCESS - saved https://encrypted-tbn0.gstatic.com/images?q=tbn:ANd9GcQDnoNdheKOM4_uxJ-nDPFoQZfrD0i_E2LIXQ&usqp=CAU - as ./images\\bicicleta\\b8b4cae93f.jpg\n",
      "SUCCESS - saved https://encrypted-tbn0.gstatic.com/images?q=tbn:ANd9GcTOU1Vp0OxetX6JaYM3yhNhboRnz-O3bd830g&usqp=CAU - as ./images\\bicicleta\\cc27c4ab24.jpg\n"
     ]
    }
   ],
   "source": [
    "search_term = 'bicicleta'\n",
    "search_and_download(search_term,'chromedriver.exe',number_images=100)"
   ]
  },
  {
   "cell_type": "markdown",
   "id": "173aac00",
   "metadata": {},
   "source": [
    "# 2. Data Augmentation"
   ]
  },
  {
   "cell_type": "code",
   "execution_count": 8,
   "id": "18145974",
   "metadata": {},
   "outputs": [],
   "source": [
    "from keras.preprocessing.image import ImageDataGenerator\n",
    "import os\n",
    "from os.path import isfile, join\n",
    "import pandas as pd\n",
    "import numpy as np\n",
    "from skimage.io import imread"
   ]
  },
  {
   "cell_type": "code",
   "execution_count": 9,
   "id": "155e73f7",
   "metadata": {},
   "outputs": [],
   "source": [
    "# 1. Iniciar el data generator\n",
    "datagen = ImageDataGenerator(rotation_range=10,\n",
    "                            width_shift_range=0.1,\n",
    "                            height_shift_range=0.1,\n",
    "                            shear_range=0.15,\n",
    "                            zoom_range=0.1,\n",
    "                            channel_shift_range=10,\n",
    "                            horizontal_flip=True)"
   ]
  },
  {
   "cell_type": "code",
   "execution_count": 10,
   "id": "345d554e",
   "metadata": {},
   "outputs": [],
   "source": [
    "# 2. Aplicar las transfromaciones en una imagen\n",
    "patinetes = ['images/patinete/'+ f for f in os.listdir('images/patinete') if isfile(join('images/patinete', f))]\n",
    "image_path = patinetes[0]\n",
    "image = np.expand_dims(imread(image_path),axis=0)"
   ]
  },
  {
   "cell_type": "code",
   "execution_count": 11,
   "id": "a2f629b4",
   "metadata": {},
   "outputs": [],
   "source": [
    "# 3. Selecciona dónde quieres guardar las imágenes transformadas\n",
    "save_here = 'images/patinete/aug'\n",
    "try:\n",
    "    os.stat(save_here)\n",
    "except:\n",
    "    os.mkdir(save_here)"
   ]
  },
  {
   "cell_type": "code",
   "execution_count": 12,
   "id": "bd84e021",
   "metadata": {},
   "outputs": [],
   "source": [
    "# Fit de la imagen original\n",
    "datagen.fit(image)"
   ]
  },
  {
   "cell_type": "code",
   "execution_count": 13,
   "id": "f7041ba0",
   "metadata": {},
   "outputs": [],
   "source": [
    "for x, val in zip(datagen.flow(image,           #image we chose\n",
    "        save_to_dir=save_here,     #this is where we figure out where to save\n",
    "         save_prefix='aug',        # it will save the images as 'aug_0912' some number for every new augmented image\n",
    "        save_format='png'),range(10)):     # here we define a range because we want 10 augmented images \n",
    "    pass"
   ]
  },
  {
   "cell_type": "code",
   "execution_count": 14,
   "id": "543cdeed",
   "metadata": {},
   "outputs": [],
   "source": [
    "# Para todos las imágenes de la clase 1\n",
    "for image_path in patinetes:\n",
    "    image = np.expand_dims(imread(image_path),axis=0)\n",
    "    datagen.fit(image)\n",
    "    for x, val in zip(datagen.flow(image,                    #image we chose\n",
    "        save_to_dir=save_here,     #this is where we figure out where to save\n",
    "         save_prefix='aug',        # it will save the images as 'aug_0912' some number for every new augmented image\n",
    "        save_format='png'),range(3)):     # here we define a range because we want 10 augmented images \n",
    "        pass"
   ]
  },
  {
   "cell_type": "code",
   "execution_count": 15,
   "id": "ab8b39ba",
   "metadata": {},
   "outputs": [],
   "source": [
    "# Realiza la misma operación para las bicicletas\n",
    "bicicletas = ['images/bicicleta/'+ f for f in os.listdir('images/bicicleta') if isfile(join('images/bicicleta', f))]\n",
    "save_here = 'images/bicicleta/aug'\n",
    "try:\n",
    "    os.stat(save_here)\n",
    "except:\n",
    "    os.mkdir(save_here)  \n",
    "    \n",
    "for image_path in bicicletas:\n",
    "    image = np.expand_dims(imread(image_path),axis=0)\n",
    "    datagen.fit(image)\n",
    "    for x, val in zip(datagen.flow(image,                    #image we chose\n",
    "        save_to_dir=save_here,     #this is where we figure out where to save\n",
    "         save_prefix='aug',        # it will save the images as 'aug_0912' some number for every new augmented image\n",
    "        save_format='png'),range(3)):     # here we define a range because we want 10 augmented images \n",
    "        pass"
   ]
  },
  {
   "cell_type": "markdown",
   "id": "357cdc23",
   "metadata": {},
   "source": [
    "# 3. Preparar los datos"
   ]
  },
  {
   "cell_type": "code",
   "execution_count": 16,
   "id": "dd9c10c0",
   "metadata": {},
   "outputs": [],
   "source": [
    "import matplotlib.pyplot as plt\n",
    "import numpy as np\n",
    "from skimage.io import imread\n",
    "import cv2"
   ]
  },
  {
   "cell_type": "code",
   "execution_count": 17,
   "id": "0e2ca588",
   "metadata": {},
   "outputs": [],
   "source": [
    "# Read data\n",
    "X = []\n",
    "Y = []\n",
    "for file in os.listdir('images/patinete/aug'):\n",
    "    image = imread('images/patinete/aug/'+file)\n",
    "    smallimage = cv2.resize(image,(64,64))\n",
    "    X.append(smallimage)\n",
    "    Y.append(0)\n",
    "    \n",
    "for file in os.listdir('images/bicicleta/aug'):\n",
    "    image = imread('images/bicicleta/aug/'+file)\n",
    "    smallimage = cv2.resize(image,(64,64))\n",
    "    X.append(smallimage)\n",
    "    Y.append(1)"
   ]
  },
  {
   "cell_type": "code",
   "execution_count": 18,
   "id": "6bfeff1e",
   "metadata": {},
   "outputs": [],
   "source": [
    "X,Y = np.array(X), np.array(Y)"
   ]
  },
  {
   "cell_type": "code",
   "execution_count": 19,
   "id": "76c091cd",
   "metadata": {},
   "outputs": [
    {
     "name": "stdout",
     "output_type": "stream",
     "text": [
      "Min: 0.0\n",
      "Max: 1.0\n"
     ]
    }
   ],
   "source": [
    "X = X/255.0\n",
    "print('Min:',np.min(X))\n",
    "print('Max:',np.max(X))"
   ]
  },
  {
   "cell_type": "code",
   "execution_count": 20,
   "id": "6004aa05",
   "metadata": {},
   "outputs": [],
   "source": [
    "from sklearn.utils import shuffle\n",
    "X, Y = shuffle(X, Y, random_state=42)"
   ]
  },
  {
   "cell_type": "code",
   "execution_count": 21,
   "id": "2c7ce674",
   "metadata": {},
   "outputs": [
    {
     "name": "stdout",
     "output_type": "stream",
     "text": [
      "(636, 64, 64, 3)\n",
      "(159, 64, 64, 3)\n"
     ]
    }
   ],
   "source": [
    "from sklearn.model_selection import train_test_split\n",
    "\n",
    "X_train, X_test, y_train, y_test = train_test_split(X, Y, test_size=0.20, \n",
    "                                                    random_state=40)\n",
    "print(X_train.shape); print(X_test.shape)"
   ]
  },
  {
   "cell_type": "markdown",
   "id": "42b4b1b9",
   "metadata": {},
   "source": [
    "#  Transfer Learning"
   ]
  },
  {
   "cell_type": "code",
   "execution_count": 22,
   "id": "abc1349a",
   "metadata": {},
   "outputs": [],
   "source": [
    "import tensorflow as tf\n",
    "from tensorflow.keras.preprocessing import image\n",
    "from tensorflow.keras import datasets, layers, models\n",
    "import os\n",
    "os.environ['KMP_DUPLICATE_LIB_OK']='True'"
   ]
  },
  {
   "cell_type": "code",
   "execution_count": 23,
   "id": "6ae22e8a",
   "metadata": {},
   "outputs": [],
   "source": [
    "from tensorflow.keras.applications.vgg16 import VGG16\n",
    "base_model = VGG16(input_shape=(64,64,3),\n",
    "                  include_top = False,\n",
    "                   weights = 'imagenet'\n",
    "                  )"
   ]
  },
  {
   "cell_type": "code",
   "execution_count": 24,
   "id": "ef095f6e",
   "metadata": {
    "scrolled": true
   },
   "outputs": [
    {
     "name": "stdout",
     "output_type": "stream",
     "text": [
      "Model: \"vgg16\"\n",
      "_________________________________________________________________\n",
      "Layer (type)                 Output Shape              Param #   \n",
      "=================================================================\n",
      "input_1 (InputLayer)         [(None, 64, 64, 3)]       0         \n",
      "_________________________________________________________________\n",
      "block1_conv1 (Conv2D)        (None, 64, 64, 64)        1792      \n",
      "_________________________________________________________________\n",
      "block1_conv2 (Conv2D)        (None, 64, 64, 64)        36928     \n",
      "_________________________________________________________________\n",
      "block1_pool (MaxPooling2D)   (None, 32, 32, 64)        0         \n",
      "_________________________________________________________________\n",
      "block2_conv1 (Conv2D)        (None, 32, 32, 128)       73856     \n",
      "_________________________________________________________________\n",
      "block2_conv2 (Conv2D)        (None, 32, 32, 128)       147584    \n",
      "_________________________________________________________________\n",
      "block2_pool (MaxPooling2D)   (None, 16, 16, 128)       0         \n",
      "_________________________________________________________________\n",
      "block3_conv1 (Conv2D)        (None, 16, 16, 256)       295168    \n",
      "_________________________________________________________________\n",
      "block3_conv2 (Conv2D)        (None, 16, 16, 256)       590080    \n",
      "_________________________________________________________________\n",
      "block3_conv3 (Conv2D)        (None, 16, 16, 256)       590080    \n",
      "_________________________________________________________________\n",
      "block3_pool (MaxPooling2D)   (None, 8, 8, 256)         0         \n",
      "_________________________________________________________________\n",
      "block4_conv1 (Conv2D)        (None, 8, 8, 512)         1180160   \n",
      "_________________________________________________________________\n",
      "block4_conv2 (Conv2D)        (None, 8, 8, 512)         2359808   \n",
      "_________________________________________________________________\n",
      "block4_conv3 (Conv2D)        (None, 8, 8, 512)         2359808   \n",
      "_________________________________________________________________\n",
      "block4_pool (MaxPooling2D)   (None, 4, 4, 512)         0         \n",
      "_________________________________________________________________\n",
      "block5_conv1 (Conv2D)        (None, 4, 4, 512)         2359808   \n",
      "_________________________________________________________________\n",
      "block5_conv2 (Conv2D)        (None, 4, 4, 512)         2359808   \n",
      "_________________________________________________________________\n",
      "block5_conv3 (Conv2D)        (None, 4, 4, 512)         2359808   \n",
      "_________________________________________________________________\n",
      "block5_pool (MaxPooling2D)   (None, 2, 2, 512)         0         \n",
      "=================================================================\n",
      "Total params: 14,714,688\n",
      "Trainable params: 14,714,688\n",
      "Non-trainable params: 0\n",
      "_________________________________________________________________\n"
     ]
    }
   ],
   "source": [
    "base_model.summary()"
   ]
  },
  {
   "cell_type": "code",
   "execution_count": 25,
   "id": "b5814b17",
   "metadata": {},
   "outputs": [],
   "source": [
    "for layer in base_model.layers:\n",
    "    layer.trainable = False"
   ]
  },
  {
   "cell_type": "code",
   "execution_count": 26,
   "id": "9364d3cd",
   "metadata": {},
   "outputs": [],
   "source": [
    "    \n",
    "##### FULLY CONNECTED LAYER #####\n",
    "# Flatten the output layer to 1 dimension\n",
    "x = layers.Flatten()(base_model.output) # Añado una flatten a la salida del base_model, al cual le quité el top CAPA(CAPA ANTERIOR)\n",
    "\n",
    "# Add a fully connected layer with 512 hidden units and ReLU activation\n",
    "x = layers.Dense(512, activation='relu')(x) # Añado una densa a x (flatten)\n",
    "\n",
    "# Add a dropout rate of 0.5\n",
    "x = layers.Dropout(0.5)(x)\n",
    "\n",
    "# Add a final sigmoid layer for classification\n",
    "x = layers.Dense(1, activation='sigmoid')(x)\n",
    "\n",
    "model = tf.keras.models.Model(base_model.input, x)\n",
    "\n",
    "model.compile(optimizer = 'adam', loss = 'binary_crossentropy',metrics = ['acc'])"
   ]
  },
  {
   "cell_type": "code",
   "execution_count": 27,
   "id": "44edc410",
   "metadata": {},
   "outputs": [
    {
     "name": "stdout",
     "output_type": "stream",
     "text": [
      "Epoch 1/10\n",
      "20/20 [==============================] - 7s 279ms/step - loss: 0.3112 - acc: 0.8726\n",
      "Epoch 2/10\n",
      "20/20 [==============================] - 6s 304ms/step - loss: 0.0780 - acc: 0.9717\n",
      "Epoch 3/10\n",
      "20/20 [==============================] - 7s 339ms/step - loss: 0.0396 - acc: 0.9843\n",
      "Epoch 4/10\n",
      "20/20 [==============================] - 7s 364ms/step - loss: 0.0204 - acc: 0.9984\n",
      "Epoch 5/10\n",
      "20/20 [==============================] - 8s 403ms/step - loss: 0.0119 - acc: 1.0000\n",
      "Epoch 6/10\n",
      "20/20 [==============================] - 8s 415ms/step - loss: 0.0106 - acc: 0.9984\n",
      "Epoch 7/10\n",
      "20/20 [==============================] - 7s 370ms/step - loss: 0.0055 - acc: 1.0000\n",
      "Epoch 8/10\n",
      "20/20 [==============================] - 7s 363ms/step - loss: 0.0066 - acc: 0.9969\n",
      "Epoch 9/10\n",
      "20/20 [==============================] - 7s 370ms/step - loss: 0.0069 - acc: 0.9984\n",
      "Epoch 10/10\n",
      "20/20 [==============================] - 7s 351ms/step - loss: 0.0102 - acc: 0.9984\n"
     ]
    }
   ],
   "source": [
    "vgghist = model.fit(X_train,y_train,\n",
    "                    epochs = 10)"
   ]
  },
  {
   "cell_type": "code",
   "execution_count": 28,
   "id": "44d1e588",
   "metadata": {},
   "outputs": [
    {
     "name": "stdout",
     "output_type": "stream",
     "text": [
      "5/5 [==============================] - 2s 377ms/step - loss: 0.0183 - acc: 0.9937\n",
      "test loss, test accuracy [0.018335385248064995, 0.9937106966972351]\n"
     ]
    }
   ],
   "source": [
    "results = model.evaluate(X_test, y_test)\n",
    "print(\"test loss, test accuracy\", results)"
   ]
  },
  {
   "cell_type": "code",
   "execution_count": 31,
   "id": "1cf8bfa7",
   "metadata": {},
   "outputs": [
    {
     "data": {
      "text/plain": [
       "<matplotlib.image.AxesImage at 0x2a900591ac0>"
      ]
     },
     "execution_count": 31,
     "metadata": {},
     "output_type": "execute_result"
    },
    {
     "data": {
      "image/png": "[encoded data removed]",
      "text/plain": [
       "<Figure size 432x288 with 1 Axes>"
      ]
     },
     "metadata": {
      "needs_background": "light"
     },
     "output_type": "display_data"
    }
   ],
   "source": [
    "plt.imshow(X_test[4]) "
   ]
  },
  {
   "cell_type": "code",
   "execution_count": 32,
   "id": "0076c159",
   "metadata": {},
   "outputs": [
    {
     "data": {
      "text/plain": [
       "array([[0.9999996]], dtype=float32)"
      ]
     },
     "execution_count": 32,
     "metadata": {},
     "output_type": "execute_result"
    }
   ],
   "source": [
    "model.predict(np.expand_dims(X_test[4], axis=0))"
   ]
  }
 ],
 "metadata": {
  "kernelspec": {
   "display_name": "Python 3 (ipykernel)",
   "language": "python",
   "name": "python3"
  },
  "language_info": {
   "codemirror_mode": {
    "name": "ipython",
    "version": 3
   },
   "file_extension": ".py",
   "mimetype": "text/x-python",
   "name": "python",
   "nbconvert_exporter": "python",
   "pygments_lexer": "ipython3",
   "version": "3.9.7"
  }
 },
 "nbformat": 4,
 "nbformat_minor": 5
}
