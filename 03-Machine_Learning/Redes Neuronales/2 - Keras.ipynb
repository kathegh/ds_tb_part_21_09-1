{
 "cells": [
  {
   "cell_type": "markdown",
   "id": "existing-volunteer",
   "metadata": {},
   "source": [
    "# Keras\n",
    "Librería para programar redes neuronales de una manera más sencilla que con TensorFlow. Keras se encuentra en una capa de abstracción por encima de TensorFlow.\n",
    "\n",
    "[Documentación](https://keras.io/guides/)"
   ]
  },
  {
   "cell_type": "code",
   "execution_count": null,
   "id": "stable-exploration",
   "metadata": {},
   "outputs": [],
   "source": [
    "# !pip install tensorflow\n",
    "# !pip install keras"
   ]
  },
  {
   "cell_type": "markdown",
   "id": "blocked-reflection",
   "metadata": {},
   "source": [
    "Empezamos importando librerías"
   ]
  },
  {
   "cell_type": "code",
   "execution_count": 2,
   "id": "thrown-charity",
   "metadata": {},
   "outputs": [],
   "source": [
    "import tensorflow as tf\n",
    "from tensorflow import keras\n",
    "\n",
    "import pandas as pd\n",
    "import numpy as np"
   ]
  },
  {
   "cell_type": "markdown",
   "id": "arctic-batman",
   "metadata": {},
   "source": [
    "#### Clasificación"
   ]
  },
  {
   "cell_type": "markdown",
   "id": "descending-accountability",
   "metadata": {},
   "source": [
    "Utilizaremos el dataset de diabetes"
   ]
  },
  {
   "cell_type": "code",
   "execution_count": 3,
   "id": "african-score",
   "metadata": {},
   "outputs": [
    {
     "data": {
      "text/html": [
       "<div>\n",
       "<style scoped>\n",
       "    .dataframe tbody tr th:only-of-type {\n",
       "        vertical-align: middle;\n",
       "    }\n",
       "\n",
       "    .dataframe tbody tr th {\n",
       "        vertical-align: top;\n",
       "    }\n",
       "\n",
       "    .dataframe thead th {\n",
       "        text-align: right;\n",
       "    }\n",
       "</style>\n",
       "<table border=\"1\" class=\"dataframe\">\n",
       "  <thead>\n",
       "    <tr style=\"text-align: right;\">\n",
       "      <th></th>\n",
       "      <th>Pregnancies</th>\n",
       "      <th>Glucose</th>\n",
       "      <th>BloodPressure</th>\n",
       "      <th>SkinThickness</th>\n",
       "      <th>Insulin</th>\n",
       "      <th>BMI</th>\n",
       "      <th>DiabetesPedigreeFunction</th>\n",
       "      <th>Age</th>\n",
       "      <th>Outcome</th>\n",
       "    </tr>\n",
       "  </thead>\n",
       "  <tbody>\n",
       "    <tr>\n",
       "      <th>0</th>\n",
       "      <td>6</td>\n",
       "      <td>148</td>\n",
       "      <td>72</td>\n",
       "      <td>35</td>\n",
       "      <td>0</td>\n",
       "      <td>33.6</td>\n",
       "      <td>0.627</td>\n",
       "      <td>50</td>\n",
       "      <td>1</td>\n",
       "    </tr>\n",
       "    <tr>\n",
       "      <th>1</th>\n",
       "      <td>1</td>\n",
       "      <td>85</td>\n",
       "      <td>66</td>\n",
       "      <td>29</td>\n",
       "      <td>0</td>\n",
       "      <td>26.6</td>\n",
       "      <td>0.351</td>\n",
       "      <td>31</td>\n",
       "      <td>0</td>\n",
       "    </tr>\n",
       "    <tr>\n",
       "      <th>2</th>\n",
       "      <td>8</td>\n",
       "      <td>183</td>\n",
       "      <td>64</td>\n",
       "      <td>0</td>\n",
       "      <td>0</td>\n",
       "      <td>23.3</td>\n",
       "      <td>0.672</td>\n",
       "      <td>32</td>\n",
       "      <td>1</td>\n",
       "    </tr>\n",
       "    <tr>\n",
       "      <th>3</th>\n",
       "      <td>1</td>\n",
       "      <td>89</td>\n",
       "      <td>66</td>\n",
       "      <td>23</td>\n",
       "      <td>94</td>\n",
       "      <td>28.1</td>\n",
       "      <td>0.167</td>\n",
       "      <td>21</td>\n",
       "      <td>0</td>\n",
       "    </tr>\n",
       "    <tr>\n",
       "      <th>4</th>\n",
       "      <td>0</td>\n",
       "      <td>137</td>\n",
       "      <td>40</td>\n",
       "      <td>35</td>\n",
       "      <td>168</td>\n",
       "      <td>43.1</td>\n",
       "      <td>2.288</td>\n",
       "      <td>33</td>\n",
       "      <td>1</td>\n",
       "    </tr>\n",
       "  </tbody>\n",
       "</table>\n",
       "</div>"
      ],
      "text/plain": [
       "   Pregnancies  Glucose  BloodPressure  SkinThickness  Insulin   BMI  \\\n",
       "0            6      148             72             35        0  33.6   \n",
       "1            1       85             66             29        0  26.6   \n",
       "2            8      183             64              0        0  23.3   \n",
       "3            1       89             66             23       94  28.1   \n",
       "4            0      137             40             35      168  43.1   \n",
       "\n",
       "   DiabetesPedigreeFunction  Age  Outcome  \n",
       "0                     0.627   50        1  \n",
       "1                     0.351   31        0  \n",
       "2                     0.672   32        1  \n",
       "3                     0.167   21        0  \n",
       "4                     2.288   33        1  "
      ]
     },
     "execution_count": 3,
     "metadata": {},
     "output_type": "execute_result"
    }
   ],
   "source": [
    "df = pd.read_csv('https://raw.githubusercontent.com/npradaschnor/Pima-Indians-Diabetes-Dataset/master/diabetes.csv')\n",
    "df.head()"
   ]
  },
  {
   "cell_type": "code",
   "execution_count": 4,
   "id": "synthetic-uniform",
   "metadata": {},
   "outputs": [
    {
     "name": "stdout",
     "output_type": "stream",
     "text": [
      "(537, 8)\n",
      "(231, 8)\n"
     ]
    }
   ],
   "source": [
    "from sklearn.model_selection import train_test_split\n",
    "X = df.drop(columns='Outcome').values\n",
    "y = df['Outcome'].values\n",
    "\n",
    "X_train, X_test, y_train, y_test = train_test_split(X, y, test_size=0.30, random_state=40)\n",
    "print(X_train.shape); print(X_test.shape)"
   ]
  },
  {
   "cell_type": "code",
   "execution_count": 5,
   "id": "expired-magic",
   "metadata": {},
   "outputs": [],
   "source": [
    "from sklearn.preprocessing import MinMaxScaler\n",
    "scaler = MinMaxScaler()\n",
    "scaler.fit(X_train)\n",
    "X_train_scal = scaler.transform(X_train)\n",
    "X_test_scal = scaler.transform(X_test)"
   ]
  },
  {
   "cell_type": "code",
   "execution_count": 6,
   "id": "divine-delaware",
   "metadata": {},
   "outputs": [
    {
     "data": {
      "text/plain": [
       "(231, 2)"
      ]
     },
     "execution_count": 6,
     "metadata": {},
     "output_type": "execute_result"
    }
   ],
   "source": [
    "from tensorflow.keras.utils import to_categorical\n",
    "\n",
    "y_train = to_categorical(y_train)\n",
    "y_test = to_categorical(y_test)\n",
    "\n",
    "y_test.shape"
   ]
  },
  {
   "cell_type": "code",
   "execution_count": 7,
   "id": "a53f65d6",
   "metadata": {
    "collapsed": true
   },
   "outputs": [
    {
     "data": {
      "text/plain": [
       "array([[0., 1.],\n",
       "       [0., 1.],\n",
       "       [0., 1.],\n",
       "       [1., 0.],\n",
       "       [1., 0.],\n",
       "       [0., 1.],\n",
       "       [1., 0.],\n",
       "       [0., 1.],\n",
       "       [1., 0.],\n",
       "       [0., 1.],\n",
       "       [0., 1.],\n",
       "       [1., 0.],\n",
       "       [1., 0.],\n",
       "       [1., 0.],\n",
       "       [0., 1.],\n",
       "       [0., 1.],\n",
       "       [1., 0.],\n",
       "       [1., 0.],\n",
       "       [1., 0.],\n",
       "       [1., 0.],\n",
       "       [1., 0.],\n",
       "       [1., 0.],\n",
       "       [0., 1.],\n",
       "       [0., 1.],\n",
       "       [0., 1.],\n",
       "       [0., 1.],\n",
       "       [0., 1.],\n",
       "       [1., 0.],\n",
       "       [1., 0.],\n",
       "       [0., 1.],\n",
       "       [1., 0.],\n",
       "       [1., 0.],\n",
       "       [1., 0.],\n",
       "       [1., 0.],\n",
       "       [1., 0.],\n",
       "       [0., 1.],\n",
       "       [1., 0.],\n",
       "       [0., 1.],\n",
       "       [0., 1.],\n",
       "       [0., 1.],\n",
       "       [0., 1.],\n",
       "       [0., 1.],\n",
       "       [1., 0.],\n",
       "       [1., 0.],\n",
       "       [1., 0.],\n",
       "       [1., 0.],\n",
       "       [1., 0.],\n",
       "       [1., 0.],\n",
       "       [1., 0.],\n",
       "       [1., 0.],\n",
       "       [1., 0.],\n",
       "       [0., 1.],\n",
       "       [1., 0.],\n",
       "       [0., 1.],\n",
       "       [0., 1.],\n",
       "       [1., 0.],\n",
       "       [1., 0.],\n",
       "       [0., 1.],\n",
       "       [1., 0.],\n",
       "       [0., 1.],\n",
       "       [1., 0.],\n",
       "       [1., 0.],\n",
       "       [1., 0.],\n",
       "       [1., 0.],\n",
       "       [1., 0.],\n",
       "       [1., 0.],\n",
       "       [0., 1.],\n",
       "       [1., 0.],\n",
       "       [0., 1.],\n",
       "       [1., 0.],\n",
       "       [1., 0.],\n",
       "       [1., 0.],\n",
       "       [0., 1.],\n",
       "       [1., 0.],\n",
       "       [0., 1.],\n",
       "       [1., 0.],\n",
       "       [1., 0.],\n",
       "       [1., 0.],\n",
       "       [0., 1.],\n",
       "       [0., 1.],\n",
       "       [1., 0.],\n",
       "       [1., 0.],\n",
       "       [1., 0.],\n",
       "       [0., 1.],\n",
       "       [1., 0.],\n",
       "       [0., 1.],\n",
       "       [1., 0.],\n",
       "       [0., 1.],\n",
       "       [0., 1.],\n",
       "       [0., 1.],\n",
       "       [1., 0.],\n",
       "       [1., 0.],\n",
       "       [1., 0.],\n",
       "       [1., 0.],\n",
       "       [1., 0.],\n",
       "       [0., 1.],\n",
       "       [1., 0.],\n",
       "       [1., 0.],\n",
       "       [0., 1.],\n",
       "       [1., 0.],\n",
       "       [1., 0.],\n",
       "       [1., 0.],\n",
       "       [0., 1.],\n",
       "       [1., 0.],\n",
       "       [1., 0.],\n",
       "       [1., 0.],\n",
       "       [1., 0.],\n",
       "       [1., 0.],\n",
       "       [1., 0.],\n",
       "       [1., 0.],\n",
       "       [1., 0.],\n",
       "       [0., 1.],\n",
       "       [0., 1.],\n",
       "       [1., 0.],\n",
       "       [1., 0.],\n",
       "       [0., 1.],\n",
       "       [1., 0.],\n",
       "       [1., 0.],\n",
       "       [1., 0.],\n",
       "       [0., 1.],\n",
       "       [1., 0.],\n",
       "       [1., 0.],\n",
       "       [0., 1.],\n",
       "       [1., 0.],\n",
       "       [1., 0.],\n",
       "       [1., 0.],\n",
       "       [0., 1.],\n",
       "       [0., 1.],\n",
       "       [1., 0.],\n",
       "       [1., 0.],\n",
       "       [1., 0.],\n",
       "       [0., 1.],\n",
       "       [1., 0.],\n",
       "       [0., 1.],\n",
       "       [1., 0.],\n",
       "       [0., 1.],\n",
       "       [1., 0.],\n",
       "       [1., 0.],\n",
       "       [0., 1.],\n",
       "       [0., 1.],\n",
       "       [1., 0.],\n",
       "       [1., 0.],\n",
       "       [0., 1.],\n",
       "       [0., 1.],\n",
       "       [0., 1.],\n",
       "       [0., 1.],\n",
       "       [1., 0.],\n",
       "       [0., 1.],\n",
       "       [1., 0.],\n",
       "       [1., 0.],\n",
       "       [0., 1.],\n",
       "       [0., 1.],\n",
       "       [1., 0.],\n",
       "       [1., 0.],\n",
       "       [1., 0.],\n",
       "       [1., 0.],\n",
       "       [1., 0.],\n",
       "       [1., 0.],\n",
       "       [0., 1.],\n",
       "       [0., 1.],\n",
       "       [0., 1.],\n",
       "       [1., 0.],\n",
       "       [1., 0.],\n",
       "       [1., 0.],\n",
       "       [1., 0.],\n",
       "       [1., 0.],\n",
       "       [0., 1.],\n",
       "       [1., 0.],\n",
       "       [1., 0.],\n",
       "       [1., 0.],\n",
       "       [0., 1.],\n",
       "       [1., 0.],\n",
       "       [1., 0.],\n",
       "       [1., 0.],\n",
       "       [1., 0.],\n",
       "       [1., 0.],\n",
       "       [0., 1.],\n",
       "       [0., 1.],\n",
       "       [0., 1.],\n",
       "       [0., 1.],\n",
       "       [0., 1.],\n",
       "       [0., 1.],\n",
       "       [1., 0.],\n",
       "       [1., 0.],\n",
       "       [1., 0.],\n",
       "       [1., 0.],\n",
       "       [1., 0.],\n",
       "       [1., 0.],\n",
       "       [0., 1.],\n",
       "       [1., 0.],\n",
       "       [0., 1.],\n",
       "       [0., 1.],\n",
       "       [1., 0.],\n",
       "       [0., 1.],\n",
       "       [1., 0.],\n",
       "       [1., 0.],\n",
       "       [1., 0.],\n",
       "       [0., 1.],\n",
       "       [0., 1.],\n",
       "       [0., 1.],\n",
       "       [1., 0.],\n",
       "       [1., 0.],\n",
       "       [1., 0.],\n",
       "       [0., 1.],\n",
       "       [1., 0.],\n",
       "       [0., 1.],\n",
       "       [0., 1.],\n",
       "       [0., 1.],\n",
       "       [0., 1.],\n",
       "       [1., 0.],\n",
       "       [0., 1.],\n",
       "       [1., 0.],\n",
       "       [1., 0.],\n",
       "       [1., 0.],\n",
       "       [0., 1.],\n",
       "       [1., 0.],\n",
       "       [1., 0.],\n",
       "       [1., 0.],\n",
       "       [0., 1.],\n",
       "       [0., 1.],\n",
       "       [0., 1.],\n",
       "       [1., 0.],\n",
       "       [1., 0.],\n",
       "       [1., 0.],\n",
       "       [0., 1.],\n",
       "       [1., 0.],\n",
       "       [1., 0.],\n",
       "       [1., 0.],\n",
       "       [1., 0.],\n",
       "       [0., 1.],\n",
       "       [1., 0.]], dtype=float32)"
      ]
     },
     "execution_count": 7,
     "metadata": {},
     "output_type": "execute_result"
    }
   ],
   "source": [
    "y_test"
   ]
  },
  {
   "cell_type": "markdown",
   "id": "broad-occupation",
   "metadata": {},
   "source": [
    "Montamos la arquitectura de la red neuronal. Se va a componer de:\n",
    "* **Sequential**: Para iniciar la red neuronal. No cuenta como capa.\n",
    "* **Dense**: Es una hidden layer. Se compondrá de `n` neuronas y de una función de activación que se aplicará a todas las neuronas de la capa.\n",
    "\n",
    "Recuerda que es un problema de clasificación y que por tanto la última capa se compondrá de tantas neuronas como clases tengas.\n",
    "\n",
    "En cuanto a las funciones de activación es recomendable usar relu en las hidden layer, que tarda menos en entrenar, mientras que la ultima (output) suele ser una softmax."
   ]
  },
  {
   "cell_type": "code",
   "execution_count": 8,
   "id": "optional-interval",
   "metadata": {},
   "outputs": [],
   "source": [
    "from keras.models import Sequential\n",
    "from keras.layers import Dense\n",
    "\n",
    "model = Sequential()\n",
    "\n",
    "model.add(Dense(500, activation='relu',input_dim=8))\n",
    "model.add(Dense(100, activation='relu'))\n",
    "model.add(Dense(50, activation='relu'))\n",
    "model.add(Dense(2, activation='softmax'))\n"
   ]
  },
  {
   "cell_type": "code",
   "execution_count": 9,
   "id": "worse-gasoline",
   "metadata": {},
   "outputs": [],
   "source": [
    "model.compile(optimizer='adam',\n",
    "             loss = 'categorical_crossentropy',\n",
    "             metrics=['accuracy'])"
   ]
  },
  {
   "cell_type": "code",
   "execution_count": 10,
   "id": "elect-transsexual",
   "metadata": {},
   "outputs": [
    {
     "name": "stdout",
     "output_type": "stream",
     "text": [
      "Model: \"sequential\"\n",
      "_________________________________________________________________\n",
      "Layer (type)                 Output Shape              Param #   \n",
      "=================================================================\n",
      "dense (Dense)                (None, 500)               4500      \n",
      "_________________________________________________________________\n",
      "dense_1 (Dense)              (None, 100)               50100     \n",
      "_________________________________________________________________\n",
      "dense_2 (Dense)              (None, 50)                5050      \n",
      "_________________________________________________________________\n",
      "dense_3 (Dense)              (None, 2)                 102       \n",
      "=================================================================\n",
      "Total params: 59,752\n",
      "Trainable params: 59,752\n",
      "Non-trainable params: 0\n",
      "_________________________________________________________________\n"
     ]
    }
   ],
   "source": [
    "model.summary()"
   ]
  },
  {
   "cell_type": "markdown",
   "id": "favorite-desperate",
   "metadata": {},
   "source": [
    "Entrenamos el modelo. Usamos los datos de entrenamiento. El batch_size es la cantidad de muestras que utiliza el SGD, y las epochs son las iteraciones que realiza en el entrenamiento."
   ]
  },
  {
   "cell_type": "code",
   "execution_count": 12,
   "id": "athletic-palmer",
   "metadata": {
    "scrolled": true
   },
   "outputs": [
    {
     "name": "stdout",
     "output_type": "stream",
     "text": [
      "Epoch 1/100\n",
      "8/8 [==============================] - 1s 37ms/step - loss: 0.6714 - accuracy: 0.6460 - val_loss: 0.6890 - val_accuracy: 0.6111\n",
      "Epoch 2/100\n",
      "8/8 [==============================] - 0s 8ms/step - loss: 0.6469 - accuracy: 0.6729 - val_loss: 0.6907 - val_accuracy: 0.6111\n",
      "Epoch 3/100\n",
      "8/8 [==============================] - 0s 7ms/step - loss: 0.6278 - accuracy: 0.6749 - val_loss: 0.6523 - val_accuracy: 0.6111\n",
      "Epoch 4/100\n",
      "8/8 [==============================] - 0s 6ms/step - loss: 0.6083 - accuracy: 0.6936 - val_loss: 0.6456 - val_accuracy: 0.6111\n",
      "Epoch 5/100\n",
      "8/8 [==============================] - 0s 7ms/step - loss: 0.5832 - accuracy: 0.6998 - val_loss: 0.6081 - val_accuracy: 0.6852\n",
      "Epoch 6/100\n",
      "8/8 [==============================] - 0s 7ms/step - loss: 0.5600 - accuracy: 0.6998 - val_loss: 0.6120 - val_accuracy: 0.7037\n",
      "Epoch 7/100\n",
      "8/8 [==============================] - 0s 6ms/step - loss: 0.5494 - accuracy: 0.7081 - val_loss: 0.5478 - val_accuracy: 0.6852\n",
      "Epoch 8/100\n",
      "8/8 [==============================] - 0s 6ms/step - loss: 0.5381 - accuracy: 0.7433 - val_loss: 0.6022 - val_accuracy: 0.6852\n",
      "Epoch 9/100\n",
      "8/8 [==============================] - 0s 7ms/step - loss: 0.5240 - accuracy: 0.7267 - val_loss: 0.5218 - val_accuracy: 0.7222\n",
      "Epoch 10/100\n",
      "8/8 [==============================] - 0s 6ms/step - loss: 0.5164 - accuracy: 0.7288 - val_loss: 0.5018 - val_accuracy: 0.7407\n",
      "Epoch 11/100\n",
      "8/8 [==============================] - 0s 6ms/step - loss: 0.5020 - accuracy: 0.7578 - val_loss: 0.5432 - val_accuracy: 0.7037\n",
      "Epoch 12/100\n",
      "8/8 [==============================] - 0s 7ms/step - loss: 0.4951 - accuracy: 0.7536 - val_loss: 0.4714 - val_accuracy: 0.8519\n",
      "Epoch 13/100\n",
      "8/8 [==============================] - 0s 7ms/step - loss: 0.4842 - accuracy: 0.7660 - val_loss: 0.5139 - val_accuracy: 0.7222\n",
      "Epoch 14/100\n",
      "8/8 [==============================] - 0s 7ms/step - loss: 0.4836 - accuracy: 0.7619 - val_loss: 0.4499 - val_accuracy: 0.8519\n",
      "Epoch 15/100\n",
      "8/8 [==============================] - 0s 7ms/step - loss: 0.4625 - accuracy: 0.7909 - val_loss: 0.5330 - val_accuracy: 0.7037\n",
      "Epoch 16/100\n",
      "8/8 [==============================] - 0s 8ms/step - loss: 0.4640 - accuracy: 0.7660 - val_loss: 0.4348 - val_accuracy: 0.8519\n",
      "Epoch 17/100\n",
      "8/8 [==============================] - 0s 7ms/step - loss: 0.4604 - accuracy: 0.7867 - val_loss: 0.4966 - val_accuracy: 0.7407\n",
      "Epoch 18/100\n",
      "8/8 [==============================] - 0s 7ms/step - loss: 0.4555 - accuracy: 0.7805 - val_loss: 0.4311 - val_accuracy: 0.7593\n",
      "Epoch 19/100\n",
      "8/8 [==============================] - 0s 6ms/step - loss: 0.4494 - accuracy: 0.7867 - val_loss: 0.4122 - val_accuracy: 0.8704\n",
      "Epoch 20/100\n",
      "8/8 [==============================] - 0s 8ms/step - loss: 0.4512 - accuracy: 0.7930 - val_loss: 0.4516 - val_accuracy: 0.7778\n",
      "Epoch 21/100\n",
      "8/8 [==============================] - 0s 7ms/step - loss: 0.4457 - accuracy: 0.7950 - val_loss: 0.4214 - val_accuracy: 0.7593\n",
      "Epoch 22/100\n",
      "8/8 [==============================] - 0s 6ms/step - loss: 0.4415 - accuracy: 0.7950 - val_loss: 0.4118 - val_accuracy: 0.7778\n",
      "Epoch 23/100\n",
      "8/8 [==============================] - 0s 7ms/step - loss: 0.4321 - accuracy: 0.7971 - val_loss: 0.4066 - val_accuracy: 0.7778\n",
      "Epoch 24/100\n",
      "8/8 [==============================] - 0s 6ms/step - loss: 0.4301 - accuracy: 0.8054 - val_loss: 0.4432 - val_accuracy: 0.7778\n",
      "Epoch 25/100\n",
      "8/8 [==============================] - 0s 7ms/step - loss: 0.4343 - accuracy: 0.7971 - val_loss: 0.4205 - val_accuracy: 0.7963\n",
      "Epoch 26/100\n",
      "8/8 [==============================] - 0s 6ms/step - loss: 0.4229 - accuracy: 0.7971 - val_loss: 0.4340 - val_accuracy: 0.7778\n",
      "Epoch 27/100\n",
      "8/8 [==============================] - 0s 7ms/step - loss: 0.4176 - accuracy: 0.8095 - val_loss: 0.3998 - val_accuracy: 0.8148\n",
      "Epoch 28/100\n",
      "8/8 [==============================] - 0s 6ms/step - loss: 0.4154 - accuracy: 0.8075 - val_loss: 0.4386 - val_accuracy: 0.7778\n",
      "Epoch 29/100\n",
      "8/8 [==============================] - 0s 7ms/step - loss: 0.4210 - accuracy: 0.8054 - val_loss: 0.4097 - val_accuracy: 0.7778\n",
      "Epoch 30/100\n",
      "8/8 [==============================] - 0s 6ms/step - loss: 0.4070 - accuracy: 0.8199 - val_loss: 0.4058 - val_accuracy: 0.7963\n",
      "Epoch 31/100\n",
      "8/8 [==============================] - 0s 7ms/step - loss: 0.4126 - accuracy: 0.8157 - val_loss: 0.4014 - val_accuracy: 0.8704\n",
      "Epoch 32/100\n",
      "8/8 [==============================] - 0s 6ms/step - loss: 0.4265 - accuracy: 0.8095 - val_loss: 0.4503 - val_accuracy: 0.7407\n",
      "Epoch 33/100\n",
      "8/8 [==============================] - 0s 6ms/step - loss: 0.4048 - accuracy: 0.8178 - val_loss: 0.3968 - val_accuracy: 0.8148\n",
      "Epoch 34/100\n",
      "8/8 [==============================] - 0s 8ms/step - loss: 0.3993 - accuracy: 0.8282 - val_loss: 0.4284 - val_accuracy: 0.7778\n",
      "Epoch 35/100\n",
      "8/8 [==============================] - 0s 7ms/step - loss: 0.4080 - accuracy: 0.8199 - val_loss: 0.4576 - val_accuracy: 0.7593\n",
      "Epoch 36/100\n",
      "8/8 [==============================] - 0s 6ms/step - loss: 0.4162 - accuracy: 0.7971 - val_loss: 0.4182 - val_accuracy: 0.8519\n",
      "Epoch 37/100\n",
      "8/8 [==============================] - 0s 6ms/step - loss: 0.4162 - accuracy: 0.8178 - val_loss: 0.4278 - val_accuracy: 0.7593\n",
      "Epoch 38/100\n",
      "8/8 [==============================] - 0s 7ms/step - loss: 0.3935 - accuracy: 0.8302 - val_loss: 0.4144 - val_accuracy: 0.7778\n",
      "Epoch 39/100\n",
      "8/8 [==============================] - 0s 7ms/step - loss: 0.3875 - accuracy: 0.8302 - val_loss: 0.4060 - val_accuracy: 0.8704\n",
      "Epoch 40/100\n",
      "8/8 [==============================] - 0s 7ms/step - loss: 0.4050 - accuracy: 0.8157 - val_loss: 0.4345 - val_accuracy: 0.7778\n",
      "Epoch 41/100\n",
      "8/8 [==============================] - 0s 6ms/step - loss: 0.3873 - accuracy: 0.8219 - val_loss: 0.4330 - val_accuracy: 0.7778\n",
      "Epoch 42/100\n",
      "8/8 [==============================] - 0s 6ms/step - loss: 0.4057 - accuracy: 0.8033 - val_loss: 0.4034 - val_accuracy: 0.8519\n",
      "Epoch 43/100\n",
      "8/8 [==============================] - 0s 6ms/step - loss: 0.3916 - accuracy: 0.8137 - val_loss: 0.4151 - val_accuracy: 0.7963\n",
      "Epoch 44/100\n",
      "8/8 [==============================] - 0s 7ms/step - loss: 0.3780 - accuracy: 0.8344 - val_loss: 0.4055 - val_accuracy: 0.7963\n",
      "Epoch 45/100\n",
      "8/8 [==============================] - 0s 7ms/step - loss: 0.3719 - accuracy: 0.8447 - val_loss: 0.4051 - val_accuracy: 0.7963\n",
      "Epoch 46/100\n",
      "8/8 [==============================] - 0s 8ms/step - loss: 0.3672 - accuracy: 0.8364 - val_loss: 0.4091 - val_accuracy: 0.7963\n",
      "Epoch 47/100\n",
      "8/8 [==============================] - 0s 6ms/step - loss: 0.3635 - accuracy: 0.8447 - val_loss: 0.4073 - val_accuracy: 0.8148\n",
      "Epoch 48/100\n",
      "8/8 [==============================] - 0s 7ms/step - loss: 0.3579 - accuracy: 0.8447 - val_loss: 0.4474 - val_accuracy: 0.7778\n",
      "Epoch 49/100\n",
      "8/8 [==============================] - 0s 7ms/step - loss: 0.3691 - accuracy: 0.8406 - val_loss: 0.4079 - val_accuracy: 0.7963\n",
      "Epoch 50/100\n",
      "8/8 [==============================] - 0s 7ms/step - loss: 0.3631 - accuracy: 0.8427 - val_loss: 0.4063 - val_accuracy: 0.8148\n",
      "Epoch 51/100\n",
      "8/8 [==============================] - 0s 7ms/step - loss: 0.3772 - accuracy: 0.8137 - val_loss: 0.4745 - val_accuracy: 0.7778\n",
      "Epoch 52/100\n",
      "8/8 [==============================] - 0s 6ms/step - loss: 0.3679 - accuracy: 0.8406 - val_loss: 0.4370 - val_accuracy: 0.7963\n",
      "Epoch 53/100\n",
      "8/8 [==============================] - 0s 7ms/step - loss: 0.3552 - accuracy: 0.8364 - val_loss: 0.4224 - val_accuracy: 0.7778\n",
      "Epoch 54/100\n",
      "8/8 [==============================] - 0s 7ms/step - loss: 0.3518 - accuracy: 0.8468 - val_loss: 0.4183 - val_accuracy: 0.8148\n",
      "Epoch 55/100\n",
      "8/8 [==============================] - 0s 8ms/step - loss: 0.3527 - accuracy: 0.8551 - val_loss: 0.4325 - val_accuracy: 0.7778\n",
      "Epoch 56/100\n",
      "8/8 [==============================] - 0s 8ms/step - loss: 0.3407 - accuracy: 0.8509 - val_loss: 0.4465 - val_accuracy: 0.7963\n",
      "Epoch 57/100\n",
      "8/8 [==============================] - 0s 6ms/step - loss: 0.3479 - accuracy: 0.8385 - val_loss: 0.4270 - val_accuracy: 0.8148\n",
      "Epoch 58/100\n",
      "8/8 [==============================] - 0s 6ms/step - loss: 0.3429 - accuracy: 0.8530 - val_loss: 0.4333 - val_accuracy: 0.7778\n",
      "Epoch 59/100\n"
     ]
    },
    {
     "name": "stdout",
     "output_type": "stream",
     "text": [
      "8/8 [==============================] - 0s 7ms/step - loss: 0.3431 - accuracy: 0.8385 - val_loss: 0.4474 - val_accuracy: 0.7778\n",
      "Epoch 60/100\n",
      "8/8 [==============================] - 0s 6ms/step - loss: 0.3355 - accuracy: 0.8592 - val_loss: 0.4697 - val_accuracy: 0.7963\n",
      "Epoch 61/100\n",
      "8/8 [==============================] - 0s 6ms/step - loss: 0.3254 - accuracy: 0.8613 - val_loss: 0.4339 - val_accuracy: 0.7778\n",
      "Epoch 62/100\n",
      "8/8 [==============================] - 0s 7ms/step - loss: 0.3405 - accuracy: 0.8654 - val_loss: 0.4342 - val_accuracy: 0.8333\n",
      "Epoch 63/100\n",
      "8/8 [==============================] - 0s 7ms/step - loss: 0.3274 - accuracy: 0.8571 - val_loss: 0.4742 - val_accuracy: 0.7963\n",
      "Epoch 64/100\n",
      "8/8 [==============================] - 0s 6ms/step - loss: 0.3220 - accuracy: 0.8778 - val_loss: 0.4535 - val_accuracy: 0.7778\n",
      "Epoch 65/100\n",
      "8/8 [==============================] - 0s 6ms/step - loss: 0.3160 - accuracy: 0.8716 - val_loss: 0.4643 - val_accuracy: 0.7963\n",
      "Epoch 66/100\n",
      "8/8 [==============================] - 0s 7ms/step - loss: 0.3222 - accuracy: 0.8634 - val_loss: 0.4921 - val_accuracy: 0.7963\n",
      "Epoch 67/100\n",
      "8/8 [==============================] - 0s 7ms/step - loss: 0.3162 - accuracy: 0.8696 - val_loss: 0.4619 - val_accuracy: 0.7963\n",
      "Epoch 68/100\n",
      "8/8 [==============================] - 0s 8ms/step - loss: 0.3184 - accuracy: 0.8613 - val_loss: 0.4516 - val_accuracy: 0.7963\n",
      "Epoch 69/100\n",
      "8/8 [==============================] - 0s 6ms/step - loss: 0.3309 - accuracy: 0.8613 - val_loss: 0.4675 - val_accuracy: 0.8333\n",
      "Epoch 70/100\n",
      "8/8 [==============================] - 0s 7ms/step - loss: 0.3288 - accuracy: 0.8634 - val_loss: 0.4683 - val_accuracy: 0.7778\n",
      "Epoch 71/100\n",
      "8/8 [==============================] - 0s 7ms/step - loss: 0.3175 - accuracy: 0.8634 - val_loss: 0.5148 - val_accuracy: 0.7963\n",
      "Epoch 72/100\n",
      "8/8 [==============================] - 0s 7ms/step - loss: 0.3256 - accuracy: 0.8509 - val_loss: 0.4675 - val_accuracy: 0.7963\n",
      "Epoch 73/100\n",
      "8/8 [==============================] - 0s 6ms/step - loss: 0.3199 - accuracy: 0.8675 - val_loss: 0.4812 - val_accuracy: 0.8148\n",
      "Epoch 74/100\n",
      "8/8 [==============================] - 0s 7ms/step - loss: 0.3305 - accuracy: 0.8530 - val_loss: 0.4720 - val_accuracy: 0.7778\n",
      "Epoch 75/100\n",
      "8/8 [==============================] - 0s 7ms/step - loss: 0.3166 - accuracy: 0.8613 - val_loss: 0.5316 - val_accuracy: 0.7778\n",
      "Epoch 76/100\n",
      "8/8 [==============================] - 0s 7ms/step - loss: 0.3268 - accuracy: 0.8509 - val_loss: 0.4814 - val_accuracy: 0.7593\n",
      "Epoch 77/100\n",
      "8/8 [==============================] - 0s 7ms/step - loss: 0.3062 - accuracy: 0.8675 - val_loss: 0.4689 - val_accuracy: 0.7778\n",
      "Epoch 78/100\n",
      "8/8 [==============================] - 0s 7ms/step - loss: 0.2857 - accuracy: 0.8841 - val_loss: 0.4826 - val_accuracy: 0.7963\n",
      "Epoch 79/100\n",
      "8/8 [==============================] - 0s 7ms/step - loss: 0.2916 - accuracy: 0.8799 - val_loss: 0.4794 - val_accuracy: 0.7963\n",
      "Epoch 80/100\n",
      "8/8 [==============================] - 0s 6ms/step - loss: 0.2892 - accuracy: 0.8820 - val_loss: 0.4831 - val_accuracy: 0.8148\n",
      "Epoch 81/100\n",
      "8/8 [==============================] - 0s 6ms/step - loss: 0.2911 - accuracy: 0.8778 - val_loss: 0.4799 - val_accuracy: 0.8148\n",
      "Epoch 82/100\n",
      "8/8 [==============================] - 0s 7ms/step - loss: 0.2951 - accuracy: 0.8861 - val_loss: 0.5013 - val_accuracy: 0.7963\n",
      "Epoch 83/100\n",
      "8/8 [==============================] - 0s 6ms/step - loss: 0.2891 - accuracy: 0.8820 - val_loss: 0.5095 - val_accuracy: 0.7778\n",
      "Epoch 84/100\n",
      "8/8 [==============================] - 0s 7ms/step - loss: 0.2811 - accuracy: 0.8882 - val_loss: 0.4889 - val_accuracy: 0.7778\n",
      "Epoch 85/100\n",
      "8/8 [==============================] - 0s 8ms/step - loss: 0.2664 - accuracy: 0.8986 - val_loss: 0.5119 - val_accuracy: 0.7593\n",
      "Epoch 86/100\n",
      "8/8 [==============================] - 0s 7ms/step - loss: 0.2655 - accuracy: 0.9006 - val_loss: 0.5000 - val_accuracy: 0.7963\n",
      "Epoch 87/100\n",
      "8/8 [==============================] - 0s 6ms/step - loss: 0.2682 - accuracy: 0.8923 - val_loss: 0.5163 - val_accuracy: 0.7778\n",
      "Epoch 88/100\n",
      "8/8 [==============================] - 0s 6ms/step - loss: 0.2671 - accuracy: 0.9006 - val_loss: 0.5170 - val_accuracy: 0.7593\n",
      "Epoch 89/100\n",
      "8/8 [==============================] - 0s 7ms/step - loss: 0.2596 - accuracy: 0.8986 - val_loss: 0.5719 - val_accuracy: 0.7963\n",
      "Epoch 90/100\n",
      "8/8 [==============================] - 0s 6ms/step - loss: 0.2717 - accuracy: 0.8882 - val_loss: 0.5102 - val_accuracy: 0.7963\n",
      "Epoch 91/100\n",
      "8/8 [==============================] - 0s 8ms/step - loss: 0.2613 - accuracy: 0.8882 - val_loss: 0.5185 - val_accuracy: 0.7778\n",
      "Epoch 92/100\n",
      "8/8 [==============================] - 0s 6ms/step - loss: 0.2540 - accuracy: 0.9027 - val_loss: 0.5311 - val_accuracy: 0.7963\n",
      "Epoch 93/100\n",
      "8/8 [==============================] - 0s 7ms/step - loss: 0.2621 - accuracy: 0.8923 - val_loss: 0.5414 - val_accuracy: 0.7778\n",
      "Epoch 94/100\n",
      "8/8 [==============================] - 0s 7ms/step - loss: 0.2614 - accuracy: 0.8944 - val_loss: 0.5269 - val_accuracy: 0.8333\n",
      "Epoch 95/100\n",
      "8/8 [==============================] - 0s 8ms/step - loss: 0.2614 - accuracy: 0.9006 - val_loss: 0.5333 - val_accuracy: 0.7963\n",
      "Epoch 96/100\n",
      "8/8 [==============================] - 0s 6ms/step - loss: 0.2483 - accuracy: 0.9089 - val_loss: 0.5447 - val_accuracy: 0.7778\n",
      "Epoch 97/100\n",
      "8/8 [==============================] - 0s 7ms/step - loss: 0.2426 - accuracy: 0.9048 - val_loss: 0.5385 - val_accuracy: 0.7778\n",
      "Epoch 98/100\n",
      "8/8 [==============================] - 0s 6ms/step - loss: 0.2386 - accuracy: 0.9048 - val_loss: 0.5503 - val_accuracy: 0.7778\n",
      "Epoch 99/100\n",
      "8/8 [==============================] - 0s 7ms/step - loss: 0.2386 - accuracy: 0.9048 - val_loss: 0.5481 - val_accuracy: 0.7778\n",
      "Epoch 100/100\n",
      "8/8 [==============================] - 0s 8ms/step - loss: 0.2303 - accuracy: 0.9172 - val_loss: 0.5538 - val_accuracy: 0.7778\n"
     ]
    }
   ],
   "source": [
    "history = model.fit(X_train_scal,\n",
    "                   y_train,\n",
    "                   batch_size=64,\n",
    "                   epochs = 100,\n",
    "                   validation_split=0.1)"
   ]
  },
  {
   "cell_type": "markdown",
   "id": "aggressive-ownership",
   "metadata": {},
   "source": [
    "Veamos el histórico del entrenamiento, para poder representarlo posteriormente."
   ]
  },
  {
   "cell_type": "code",
   "execution_count": 16,
   "id": "formal-memory",
   "metadata": {
    "collapsed": true
   },
   "outputs": [
    {
     "name": "stdout",
     "output_type": "stream",
     "text": [
      "{'verbose': 1, 'epochs': 100, 'steps': 8}\n",
      "[0, 1, 2, 3, 4, 5, 6, 7, 8, 9, 10, 11, 12, 13, 14, 15, 16, 17, 18, 19, 20, 21, 22, 23, 24, 25, 26, 27, 28, 29, 30, 31, 32, 33, 34, 35, 36, 37, 38, 39, 40, 41, 42, 43, 44, 45, 46, 47, 48, 49, 50, 51, 52, 53, 54, 55, 56, 57, 58, 59, 60, 61, 62, 63, 64, 65, 66, 67, 68, 69, 70, 71, 72, 73, 74, 75, 76, 77, 78, 79, 80, 81, 82, 83, 84, 85, 86, 87, 88, 89, 90, 91, 92, 93, 94, 95, 96, 97, 98, 99]\n",
      "{'loss': [0.6714332103729248, 0.6468717455863953, 0.6278209686279297, 0.6082765460014343, 0.583166778087616, 0.5600470900535583, 0.5494205355644226, 0.5380867123603821, 0.5240230560302734, 0.5164279341697693, 0.501987874507904, 0.495084673166275, 0.4842175841331482, 0.48364317417144775, 0.4624786078929901, 0.4639962315559387, 0.46036601066589355, 0.45553916692733765, 0.4494372308254242, 0.45117101073265076, 0.44571220874786377, 0.44149771332740784, 0.4320956766605377, 0.4301375448703766, 0.4342915713787079, 0.42288869619369507, 0.41759052872657776, 0.4153832495212555, 0.4209648072719574, 0.4069597125053406, 0.4126017093658447, 0.42652440071105957, 0.404792457818985, 0.3993365466594696, 0.40803152322769165, 0.4162308871746063, 0.41618844866752625, 0.3935462534427643, 0.38746947050094604, 0.4050065577030182, 0.38732683658599854, 0.405699759721756, 0.3916029632091522, 0.37798142433166504, 0.3718808591365814, 0.36723634600639343, 0.3635447025299072, 0.3579263389110565, 0.369088351726532, 0.3630695343017578, 0.37715157866477966, 0.3678966164588928, 0.35517796874046326, 0.35180020332336426, 0.35271283984184265, 0.3407336473464966, 0.3478909134864807, 0.3429209589958191, 0.3431198000907898, 0.3354569971561432, 0.3253779113292694, 0.34050631523132324, 0.3274354934692383, 0.3219570517539978, 0.3160085678100586, 0.32224297523498535, 0.3161543905735016, 0.31836435198783875, 0.33092233538627625, 0.32878369092941284, 0.317535936832428, 0.3255537450313568, 0.3199109733104706, 0.3305486738681793, 0.3165675401687622, 0.3268238604068756, 0.3062463402748108, 0.28566405177116394, 0.29157450795173645, 0.28919315338134766, 0.29109224677085876, 0.2950875163078308, 0.28912121057510376, 0.2810754179954529, 0.2663585841655731, 0.265491783618927, 0.26823690533638, 0.2671075761318207, 0.25962117314338684, 0.2716716229915619, 0.2612855136394501, 0.2539917826652527, 0.2621239423751831, 0.261363685131073, 0.2613670527935028, 0.24829941987991333, 0.24264007806777954, 0.2385503500699997, 0.2385682910680771, 0.23029884696006775], 'accuracy': [0.6459627151489258, 0.672877848148346, 0.6749482154846191, 0.693581759929657, 0.6997929811477661, 0.6997929811477661, 0.7080745100975037, 0.7432712316513062, 0.7267080545425415, 0.7287784814834595, 0.7577639818191528, 0.7536231875419617, 0.7660455703735352, 0.761904776096344, 0.7908902764320374, 0.7660455703735352, 0.7867494821548462, 0.7805383205413818, 0.7867494821548462, 0.7929606437683105, 0.7950310707092285, 0.7950310707092285, 0.7971014380455017, 0.805383026599884, 0.7971014380455017, 0.7971014380455017, 0.8095238208770752, 0.8074533939361572, 0.805383026599884, 0.8198757767677307, 0.8157349824905396, 0.8095238208770752, 0.8178054094314575, 0.828157365322113, 0.8198757767677307, 0.7971014380455017, 0.8178054094314575, 0.8302277326583862, 0.8302277326583862, 0.8157349824905396, 0.8219461441040039, 0.8033125996589661, 0.8136646151542664, 0.8343685269355774, 0.8447204828262329, 0.8364388942718506, 0.8447204828262329, 0.8447204828262329, 0.8405796885490417, 0.8426501154899597, 0.8136646151542664, 0.8405796885490417, 0.8364388942718506, 0.8467909097671509, 0.8550724387168884, 0.850931704044342, 0.8385093212127686, 0.8530020713806152, 0.8385093212127686, 0.8592132329940796, 0.8612836599349976, 0.8654244542121887, 0.8571428656578064, 0.8778467774391174, 0.8716356158256531, 0.8633540272712708, 0.8695651888847351, 0.8612836599349976, 0.8612836599349976, 0.8633540272712708, 0.8633540272712708, 0.850931704044342, 0.8674948215484619, 0.8530020713806152, 0.8612836599349976, 0.850931704044342, 0.8674948215484619, 0.8840579986572266, 0.8799172043800354, 0.8819875717163086, 0.8778467774391174, 0.8861283659934998, 0.8819875717163086, 0.888198733329773, 0.8985507488250732, 0.9006211161613464, 0.8923395276069641, 0.9006211161613464, 0.8985507488250732, 0.888198733329773, 0.888198733329773, 0.9026914834976196, 0.8923395276069641, 0.8944099545478821, 0.9006211161613464, 0.9089027047157288, 0.9047619104385376, 0.9047619104385376, 0.9047619104385376, 0.9171842932701111], 'val_loss': [0.6890135407447815, 0.6907026767730713, 0.6522907614707947, 0.6455550193786621, 0.6080804467201233, 0.6120038628578186, 0.5477648377418518, 0.6022403836250305, 0.521821916103363, 0.5018239617347717, 0.5431708693504333, 0.47140565514564514, 0.5138973593711853, 0.44990652799606323, 0.532951831817627, 0.4348151683807373, 0.49657079577445984, 0.43113192915916443, 0.4121667444705963, 0.4516081213951111, 0.42142218351364136, 0.4117879271507263, 0.40658697485923767, 0.4431648254394531, 0.42054393887519836, 0.43402713537216187, 0.3997901976108551, 0.43864142894744873, 0.409681499004364, 0.4057992398738861, 0.4013860523700714, 0.4503103792667389, 0.3968110680580139, 0.42835986614227295, 0.457551509141922, 0.4182373583316803, 0.427768737077713, 0.41437020897865295, 0.4059655964374542, 0.4345041811466217, 0.4330011308193207, 0.4034149944782257, 0.415107786655426, 0.40550655126571655, 0.4050847589969635, 0.4090687334537506, 0.40727823972702026, 0.447384774684906, 0.4079047441482544, 0.40625062584877014, 0.4745098352432251, 0.4369855523109436, 0.4224167466163635, 0.4183281362056732, 0.4325249493122101, 0.4464792013168335, 0.4269954264163971, 0.43329232931137085, 0.4473966062068939, 0.46972373127937317, 0.43392637372016907, 0.43421798944473267, 0.4741736650466919, 0.4534939229488373, 0.46432194113731384, 0.49213966727256775, 0.46189025044441223, 0.4516455829143524, 0.4675365090370178, 0.46832841634750366, 0.5147632956504822, 0.46748146414756775, 0.48115482926368713, 0.47196507453918457, 0.5315579771995544, 0.4813797175884247, 0.46894073486328125, 0.4825592339038849, 0.4793510437011719, 0.4831337332725525, 0.4798925220966339, 0.5013117790222168, 0.5094860792160034, 0.48891696333885193, 0.5119460225105286, 0.5000139474868774, 0.5163236260414124, 0.5169606804847717, 0.5718768835067749, 0.5101954936981201, 0.5184530019760132, 0.5310664176940918, 0.5413737297058105, 0.526871383190155, 0.5332872867584229, 0.5446731448173523, 0.5385405421257019, 0.5503140091896057, 0.5480998754501343, 0.5538166761398315], 'val_accuracy': [0.6111111044883728, 0.6111111044883728, 0.6111111044883728, 0.6111111044883728, 0.6851851940155029, 0.7037037014961243, 0.6851851940155029, 0.6851851940155029, 0.7222222089767456, 0.7407407164573669, 0.7037037014961243, 0.8518518805503845, 0.7222222089767456, 0.8518518805503845, 0.7037037014961243, 0.8518518805503845, 0.7407407164573669, 0.7592592835426331, 0.8703703880310059, 0.7777777910232544, 0.7592592835426331, 0.7777777910232544, 0.7777777910232544, 0.7777777910232544, 0.7962962985038757, 0.7777777910232544, 0.8148148059844971, 0.7777777910232544, 0.7777777910232544, 0.7962962985038757, 0.8703703880310059, 0.7407407164573669, 0.8148148059844971, 0.7777777910232544, 0.7592592835426331, 0.8518518805503845, 0.7592592835426331, 0.7777777910232544, 0.8703703880310059, 0.7777777910232544, 0.7777777910232544, 0.8518518805503845, 0.7962962985038757, 0.7962962985038757, 0.7962962985038757, 0.7962962985038757, 0.8148148059844971, 0.7777777910232544, 0.7962962985038757, 0.8148148059844971, 0.7777777910232544, 0.7962962985038757, 0.7777777910232544, 0.8148148059844971, 0.7777777910232544, 0.7962962985038757, 0.8148148059844971, 0.7777777910232544, 0.7777777910232544, 0.7962962985038757, 0.7777777910232544, 0.8333333134651184, 0.7962962985038757, 0.7777777910232544, 0.7962962985038757, 0.7962962985038757, 0.7962962985038757, 0.7962962985038757, 0.8333333134651184, 0.7777777910232544, 0.7962962985038757, 0.7962962985038757, 0.8148148059844971, 0.7777777910232544, 0.7777777910232544, 0.7592592835426331, 0.7777777910232544, 0.7962962985038757, 0.7962962985038757, 0.8148148059844971, 0.8148148059844971, 0.7962962985038757, 0.7777777910232544, 0.7777777910232544, 0.7592592835426331, 0.7962962985038757, 0.7777777910232544, 0.7592592835426331, 0.7962962985038757, 0.7962962985038757, 0.7777777910232544, 0.7962962985038757, 0.7777777910232544, 0.8333333134651184, 0.7962962985038757, 0.7777777910232544, 0.7777777910232544, 0.7777777910232544, 0.7777777910232544, 0.7777777910232544]}\n"
     ]
    }
   ],
   "source": [
    "print(history.params)\n",
    "print(history.epoch)\n",
    "print(history.history)"
   ]
  },
  {
   "cell_type": "code",
   "execution_count": 18,
   "id": "general-closing",
   "metadata": {},
   "outputs": [
    {
     "data": {
      "image/png": "[encoded data removed]",
      "text/plain": [
       "<Figure size 576x360 with 1 Axes>"
      ]
     },
     "metadata": {
      "needs_background": "light"
     },
     "output_type": "display_data"
    }
   ],
   "source": [
    "import matplotlib.pyplot as plt\n",
    "\n",
    "pd.DataFrame(history.history).plot(figsize=(8,5))\n",
    "plt.grid()\n",
    "plt.show()"
   ]
  },
  {
   "cell_type": "markdown",
   "id": "driven-result",
   "metadata": {},
   "source": [
    "Si el modelo no ha ido bien, prueba a cambiar el learning rate, cambia de optimizador y después prueba a cambiar capas, neuronas y funciones de activación.\n",
    "\n",
    "Ya tenemos el modelo entrenado. Medimos el desempeño"
   ]
  },
  {
   "cell_type": "code",
   "execution_count": 27,
   "id": "declared-commercial",
   "metadata": {
    "scrolled": true
   },
   "outputs": [
    {
     "data": {
      "text/plain": [
       "array([1, 1, 1, 0, 0, 0, 0, 0, 0, 0, 0, 0, 1, 0, 0, 1, 1, 1, 0, 0, 0, 0,\n",
       "       0, 0, 0, 1, 0, 1, 0, 0, 1, 0, 1, 0, 1, 0, 0, 0, 0, 0, 0, 1, 0, 0,\n",
       "       1, 0, 1, 0, 1, 0, 0, 0, 1, 0, 0, 0, 0, 0, 1, 0, 1, 0, 1, 0, 1, 0,\n",
       "       1, 0, 1, 0, 0, 0, 0, 0, 0, 0, 0, 1, 0, 1, 1, 0, 1, 0, 1, 1, 0, 0,\n",
       "       0, 1, 0, 0, 0, 0, 1, 1, 0, 0, 1, 1, 0, 0, 0, 0, 1, 0, 0, 1, 0, 0,\n",
       "       0, 0, 0, 0, 1, 0, 0, 0, 0, 1, 1, 1, 0, 1, 0, 1, 0, 0, 0, 0, 0, 1,\n",
       "       0, 0, 0, 0, 1, 0, 0, 1, 0, 0, 1, 1, 0, 1, 1, 0, 0, 0, 0, 1, 0, 1,\n",
       "       0, 0, 0, 0, 0, 0, 0, 0, 0, 0, 0, 0, 1, 0, 0, 1, 0, 0, 0, 0, 1, 1,\n",
       "       0, 0, 1, 0, 0, 0, 0, 0, 0, 0, 0, 0, 0, 0, 1, 0, 0, 0, 1, 0, 0, 1,\n",
       "       0, 0, 0, 0, 0, 0, 1, 0, 0, 0, 0, 1, 0, 1, 1, 0, 1, 1, 0, 0, 0, 0,\n",
       "       0, 1, 0, 0, 1, 1, 0, 1, 0, 1, 0, 0, 0, 0, 0, 0, 0, 1, 0, 0, 0, 1,\n",
       "       0, 0, 1, 1, 0, 1, 1, 0, 0, 0, 0, 1, 0, 0, 0, 1, 0, 1, 1, 1, 0, 0,\n",
       "       1, 1, 1, 0, 0, 1, 0, 0, 0, 0, 0, 0, 0, 0, 1, 1, 1, 0, 1, 0, 1, 0,\n",
       "       0, 0, 1, 0, 1, 0, 0, 0, 0, 0, 0, 0, 0, 0, 0, 0, 0, 0, 0, 1, 1, 0,\n",
       "       0, 0, 0, 0, 0, 0, 1, 0, 1, 0, 1, 0, 1, 0, 0, 0, 0, 0, 0, 0, 1, 0,\n",
       "       0, 0, 0, 1, 0, 0, 0, 0, 1, 1, 0, 0, 0, 0, 0, 0, 1, 1, 0, 0, 0, 0,\n",
       "       1, 0, 1, 1, 0, 0, 0, 0, 0, 1, 0, 0, 0, 1, 0, 0, 1, 0, 0, 0, 0, 1,\n",
       "       0, 0, 0, 0, 1, 0, 1, 1, 0, 0, 1, 1, 1, 0, 0, 0, 0, 0, 1, 1, 0, 1,\n",
       "       1, 0, 0, 0, 0, 1, 0, 1, 0, 0, 0, 1, 0, 0, 1, 0, 0, 0, 1, 1, 0, 1,\n",
       "       1, 0, 0, 0, 1, 1, 0, 0, 1, 0, 0, 0, 0, 0, 0, 0, 0, 0, 0, 0, 0, 1,\n",
       "       0, 1, 0, 0, 0, 1, 0, 0, 0, 0, 0, 1, 0, 0, 0, 1, 0, 1, 1, 0, 1, 0,\n",
       "       1, 1, 1, 1, 1, 1, 0, 0, 0, 0, 1, 0, 0, 0, 1, 0, 0, 0, 0, 0, 0, 0,\n",
       "       0, 1, 1, 1, 0, 0, 1, 0, 0, 0, 0, 0, 1, 0, 1, 0, 1, 0, 1, 0, 0, 0,\n",
       "       1, 0, 1, 1, 0, 0, 0, 0, 1, 1, 1, 1, 1, 0, 0, 0, 0, 0, 0, 0, 0, 1,\n",
       "       0, 0, 0, 1, 1, 0, 1, 0, 1], dtype=int64)"
      ]
     },
     "execution_count": 27,
     "metadata": {},
     "output_type": "execute_result"
    }
   ],
   "source": [
    "np.argmax(model.predict(X_train_scal),axis=1)"
   ]
  },
  {
   "cell_type": "code",
   "execution_count": 24,
   "id": "b774f9d3",
   "metadata": {},
   "outputs": [
    {
     "data": {
      "text/plain": [
       "array([[0., 1.],\n",
       "       [0., 1.],\n",
       "       [0., 1.],\n",
       "       ...,\n",
       "       [1., 0.],\n",
       "       [0., 1.],\n",
       "       [0., 1.]], dtype=float32)"
      ]
     },
     "execution_count": 24,
     "metadata": {},
     "output_type": "execute_result"
    }
   ],
   "source": [
    "y_train"
   ]
  },
  {
   "cell_type": "code",
   "execution_count": 23,
   "id": "19b2232a",
   "metadata": {},
   "outputs": [
    {
     "name": "stdout",
     "output_type": "stream",
     "text": [
      "              precision    recall  f1-score   support\n",
      "\n",
      "           0       0.92      0.94      0.93       358\n",
      "           1       0.88      0.83      0.86       179\n",
      "\n",
      "    accuracy                           0.91       537\n",
      "   macro avg       0.90      0.89      0.89       537\n",
      "weighted avg       0.91      0.91      0.91       537\n",
      "\n"
     ]
    },
    {
     "data": {
      "text/plain": [
       "array([[338,  20],\n",
       "       [ 30, 149]], dtype=int64)"
      ]
     },
     "execution_count": 23,
     "metadata": {},
     "output_type": "execute_result"
    }
   ],
   "source": [
    "from sklearn.metrics import classification_report, confusion_matrix\n",
    "pred_train = np.argmax(model.predict(X_train_scal),axis=1)\n",
    "print(classification_report(np.argmax(y_train,axis=1),pred_train))\n",
    "confusion_matrix(np.argmax(y_train,axis=1),pred_train)"
   ]
  },
  {
   "cell_type": "code",
   "execution_count": 25,
   "id": "active-scottish",
   "metadata": {},
   "outputs": [
    {
     "name": "stdout",
     "output_type": "stream",
     "text": [
      "              precision    recall  f1-score   support\n",
      "\n",
      "           0       0.75      0.83      0.79       142\n",
      "           1       0.67      0.55      0.60        89\n",
      "\n",
      "    accuracy                           0.72       231\n",
      "   macro avg       0.71      0.69      0.70       231\n",
      "weighted avg       0.72      0.72      0.72       231\n",
      "\n"
     ]
    },
    {
     "data": {
      "text/plain": [
       "array([[118,  24],\n",
       "       [ 40,  49]], dtype=int64)"
      ]
     },
     "execution_count": 25,
     "metadata": {},
     "output_type": "execute_result"
    }
   ],
   "source": [
    "pred_test= np.argmax(model.predict(X_test_scal),axis=1)\n",
    "print(classification_report(np.argmax(y_test,axis=1),pred_test))\n",
    "confusion_matrix(np.argmax(y_test,axis=1),pred_test)"
   ]
  },
  {
   "cell_type": "markdown",
   "id": "coastal-aruba",
   "metadata": {},
   "source": [
    "**Regresión**"
   ]
  },
  {
   "cell_type": "code",
   "execution_count": 28,
   "id": "flexible-platinum",
   "metadata": {},
   "outputs": [
    {
     "data": {
      "text/html": [
       "<div>\n",
       "<style scoped>\n",
       "    .dataframe tbody tr th:only-of-type {\n",
       "        vertical-align: middle;\n",
       "    }\n",
       "\n",
       "    .dataframe tbody tr th {\n",
       "        vertical-align: top;\n",
       "    }\n",
       "\n",
       "    .dataframe thead th {\n",
       "        text-align: right;\n",
       "    }\n",
       "</style>\n",
       "<table border=\"1\" class=\"dataframe\">\n",
       "  <thead>\n",
       "    <tr style=\"text-align: right;\">\n",
       "      <th></th>\n",
       "      <th>MedInc</th>\n",
       "      <th>HouseAge</th>\n",
       "      <th>AveRooms</th>\n",
       "      <th>AveBedrms</th>\n",
       "      <th>Population</th>\n",
       "      <th>AveOccup</th>\n",
       "      <th>Latitude</th>\n",
       "      <th>Longitude</th>\n",
       "      <th>target</th>\n",
       "    </tr>\n",
       "  </thead>\n",
       "  <tbody>\n",
       "    <tr>\n",
       "      <th>0</th>\n",
       "      <td>8.3252</td>\n",
       "      <td>41.0</td>\n",
       "      <td>6.984127</td>\n",
       "      <td>1.023810</td>\n",
       "      <td>322.0</td>\n",
       "      <td>2.555556</td>\n",
       "      <td>37.88</td>\n",
       "      <td>-122.23</td>\n",
       "      <td>4.526</td>\n",
       "    </tr>\n",
       "    <tr>\n",
       "      <th>1</th>\n",
       "      <td>8.3014</td>\n",
       "      <td>21.0</td>\n",
       "      <td>6.238137</td>\n",
       "      <td>0.971880</td>\n",
       "      <td>2401.0</td>\n",
       "      <td>2.109842</td>\n",
       "      <td>37.86</td>\n",
       "      <td>-122.22</td>\n",
       "      <td>3.585</td>\n",
       "    </tr>\n",
       "    <tr>\n",
       "      <th>2</th>\n",
       "      <td>7.2574</td>\n",
       "      <td>52.0</td>\n",
       "      <td>8.288136</td>\n",
       "      <td>1.073446</td>\n",
       "      <td>496.0</td>\n",
       "      <td>2.802260</td>\n",
       "      <td>37.85</td>\n",
       "      <td>-122.24</td>\n",
       "      <td>3.521</td>\n",
       "    </tr>\n",
       "    <tr>\n",
       "      <th>3</th>\n",
       "      <td>5.6431</td>\n",
       "      <td>52.0</td>\n",
       "      <td>5.817352</td>\n",
       "      <td>1.073059</td>\n",
       "      <td>558.0</td>\n",
       "      <td>2.547945</td>\n",
       "      <td>37.85</td>\n",
       "      <td>-122.25</td>\n",
       "      <td>3.413</td>\n",
       "    </tr>\n",
       "    <tr>\n",
       "      <th>4</th>\n",
       "      <td>3.8462</td>\n",
       "      <td>52.0</td>\n",
       "      <td>6.281853</td>\n",
       "      <td>1.081081</td>\n",
       "      <td>565.0</td>\n",
       "      <td>2.181467</td>\n",
       "      <td>37.85</td>\n",
       "      <td>-122.25</td>\n",
       "      <td>3.422</td>\n",
       "    </tr>\n",
       "  </tbody>\n",
       "</table>\n",
       "</div>"
      ],
      "text/plain": [
       "   MedInc  HouseAge  AveRooms  AveBedrms  Population  AveOccup  Latitude  \\\n",
       "0  8.3252      41.0  6.984127   1.023810       322.0  2.555556     37.88   \n",
       "1  8.3014      21.0  6.238137   0.971880      2401.0  2.109842     37.86   \n",
       "2  7.2574      52.0  8.288136   1.073446       496.0  2.802260     37.85   \n",
       "3  5.6431      52.0  5.817352   1.073059       558.0  2.547945     37.85   \n",
       "4  3.8462      52.0  6.281853   1.081081       565.0  2.181467     37.85   \n",
       "\n",
       "   Longitude  target  \n",
       "0    -122.23   4.526  \n",
       "1    -122.22   3.585  \n",
       "2    -122.24   3.521  \n",
       "3    -122.25   3.413  \n",
       "4    -122.25   3.422  "
      ]
     },
     "execution_count": 28,
     "metadata": {},
     "output_type": "execute_result"
    }
   ],
   "source": [
    "# Cargamos datos\n",
    "from sklearn.datasets import fetch_california_housing\n",
    "from sklearn.model_selection import train_test_split\n",
    "from sklearn.preprocessing import MinMaxScaler\n",
    "\n",
    "housing = fetch_california_housing()\n",
    "df = pd.DataFrame(housing.data, columns = housing.feature_names)\n",
    "df['target'] = housing['target']\n",
    "df.head()"
   ]
  },
  {
   "cell_type": "code",
   "execution_count": 42,
   "id": "e3abfb23",
   "metadata": {},
   "outputs": [
    {
     "data": {
      "text/plain": [
       "(20640, 9)"
      ]
     },
     "execution_count": 42,
     "metadata": {},
     "output_type": "execute_result"
    }
   ],
   "source": [
    "df.shape"
   ]
  },
  {
   "cell_type": "code",
   "execution_count": 43,
   "id": "47b00b1d",
   "metadata": {},
   "outputs": [
    {
     "data": {
      "text/plain": [
       "<AxesSubplot:>"
      ]
     },
     "execution_count": 43,
     "metadata": {},
     "output_type": "execute_result"
    },
    {
     "data": {
      "image/png": "[encoded data removed]",
      "text/plain": [
       "<Figure size 432x288 with 1 Axes>"
      ]
     },
     "metadata": {
      "needs_background": "light"
     },
     "output_type": "display_data"
    }
   ],
   "source": [
    "df.target.hist(bins=100)"
   ]
  },
  {
   "cell_type": "markdown",
   "id": "incorporate-creation",
   "metadata": {},
   "source": [
    "En este ejemplo, preparamos nuestro conjunto de validación"
   ]
  },
  {
   "cell_type": "code",
   "execution_count": 29,
   "id": "express-orientation",
   "metadata": {},
   "outputs": [],
   "source": [
    "X_train_full, X_test, y_train_full, y_test = train_test_split(housing.data,housing.target)\n",
    "\n",
    "X_train, X_valid, y_train, y_valid = train_test_split(X_train_full, y_train_full)\n",
    "\n",
    "scaler = MinMaxScaler()\n",
    "scaler2 = MinMaxScaler()\n",
    "\n",
    "X_train = scaler.fit_transform(X_train)\n",
    "X_valid = scaler.transform(X_valid)\n",
    "X_test = scaler.transform(X_test)\n",
    "\n",
    "y_train = scaler2.fit_transform(y_train.reshape(-1,1))\n",
    "y_valid = scaler2.transform(y_valid.reshape(-1,1))"
   ]
  },
  {
   "cell_type": "code",
   "execution_count": 30,
   "id": "biological-seeking",
   "metadata": {},
   "outputs": [
    {
     "data": {
      "text/plain": [
       "(11610, 8)"
      ]
     },
     "execution_count": 30,
     "metadata": {},
     "output_type": "execute_result"
    }
   ],
   "source": [
    "X_train.shape"
   ]
  },
  {
   "cell_type": "markdown",
   "id": "enhanced-credits",
   "metadata": {},
   "source": [
    "Montamos el modelo. Simplemente se compondrá de una hidden layer, a la que le configuramos una capa previa de entrada de tamaño 8  (las features).\n",
    "\n",
    "Se trata de un modelo de regresión, por lo que la capa de salida es una única neurona."
   ]
  },
  {
   "cell_type": "code",
   "execution_count": 31,
   "id": "worse-consolidation",
   "metadata": {
    "scrolled": true
   },
   "outputs": [],
   "source": [
    "model = keras.models.Sequential([\n",
    "    keras.layers.Dense(input_shape=X_train.shape[1:],\n",
    "                       units=7,\n",
    "                       activation='tanh'\n",
    "                      ),\n",
    "    keras.layers.Dense(units=1)\n",
    "])"
   ]
  },
  {
   "cell_type": "code",
   "execution_count": 47,
   "id": "a2565c3e",
   "metadata": {},
   "outputs": [
    {
     "name": "stdout",
     "output_type": "stream",
     "text": [
      "Model: \"sequential_1\"\n",
      "_________________________________________________________________\n",
      "Layer (type)                 Output Shape              Param #   \n",
      "=================================================================\n",
      "dense_4 (Dense)              (None, 7)                 63        \n",
      "_________________________________________________________________\n",
      "dense_5 (Dense)              (None, 1)                 8         \n",
      "=================================================================\n",
      "Total params: 71\n",
      "Trainable params: 71\n",
      "Non-trainable params: 0\n",
      "_________________________________________________________________\n"
     ]
    }
   ],
   "source": [
    "model.summary()"
   ]
  },
  {
   "cell_type": "code",
   "execution_count": 32,
   "id": "junior-cambodia",
   "metadata": {
    "scrolled": true
   },
   "outputs": [
    {
     "name": "stdout",
     "output_type": "stream",
     "text": [
      "Epoch 1/50\n",
      "363/363 [==============================] - 1s 1ms/step - loss: 0.0577 - val_loss: 0.0363\n",
      "Epoch 2/50\n",
      "363/363 [==============================] - 0s 855us/step - loss: 0.0333 - val_loss: 0.0321\n",
      "Epoch 3/50\n",
      "363/363 [==============================] - 0s 882us/step - loss: 0.0302 - val_loss: 0.0301\n",
      "Epoch 4/50\n",
      "363/363 [==============================] - 0s 853us/step - loss: 0.0286 - val_loss: 0.0289\n",
      "Epoch 5/50\n",
      "363/363 [==============================] - 0s 856us/step - loss: 0.0275 - val_loss: 0.0279\n",
      "Epoch 6/50\n",
      "363/363 [==============================] - 0s 879us/step - loss: 0.0267 - val_loss: 0.0272\n",
      "Epoch 7/50\n",
      "363/363 [==============================] - 0s 926us/step - loss: 0.0259 - val_loss: 0.0266\n",
      "Epoch 8/50\n",
      "363/363 [==============================] - 0s 970us/step - loss: 0.0252 - val_loss: 0.0258\n",
      "Epoch 9/50\n",
      "363/363 [==============================] - 0s 1ms/step - loss: 0.0246 - val_loss: 0.0253\n",
      "Epoch 10/50\n",
      "363/363 [==============================] - 0s 950us/step - loss: 0.0242 - val_loss: 0.0247\n",
      "Epoch 11/50\n",
      "363/363 [==============================] - 0s 1ms/step - loss: 0.0237 - val_loss: 0.0248\n",
      "Epoch 12/50\n",
      "363/363 [==============================] - 0s 868us/step - loss: 0.0235 - val_loss: 0.0244\n",
      "Epoch 13/50\n",
      "363/363 [==============================] - 0s 884us/step - loss: 0.0232 - val_loss: 0.0237\n",
      "Epoch 14/50\n",
      "363/363 [==============================] - 0s 1ms/step - loss: 0.0230 - val_loss: 0.0238\n",
      "Epoch 15/50\n",
      "363/363 [==============================] - 0s 966us/step - loss: 0.0228 - val_loss: 0.0234\n",
      "Epoch 16/50\n",
      "363/363 [==============================] - 0s 986us/step - loss: 0.0227 - val_loss: 0.0233\n",
      "Epoch 17/50\n",
      "363/363 [==============================] - 0s 984us/step - loss: 0.0226 - val_loss: 0.0231\n",
      "Epoch 18/50\n",
      "363/363 [==============================] - 0s 911us/step - loss: 0.0226 - val_loss: 0.0232\n",
      "Epoch 19/50\n",
      "363/363 [==============================] - 0s 1ms/step - loss: 0.0224 - val_loss: 0.0232\n",
      "Epoch 20/50\n",
      "363/363 [==============================] - 0s 889us/step - loss: 0.0225 - val_loss: 0.0230\n",
      "Epoch 21/50\n",
      "363/363 [==============================] - 0s 1ms/step - loss: 0.0224 - val_loss: 0.0229\n",
      "Epoch 22/50\n",
      "363/363 [==============================] - 0s 983us/step - loss: 0.0223 - val_loss: 0.0229\n",
      "Epoch 23/50\n",
      "363/363 [==============================] - 0s 1ms/step - loss: 0.0223 - val_loss: 0.0229\n",
      "Epoch 24/50\n",
      "363/363 [==============================] - 0s 1ms/step - loss: 0.0223 - val_loss: 0.0229\n",
      "Epoch 25/50\n",
      "363/363 [==============================] - 1s 1ms/step - loss: 0.0222 - val_loss: 0.0228\n",
      "Epoch 26/50\n",
      "363/363 [==============================] - 1s 2ms/step - loss: 0.0223 - val_loss: 0.0227\n",
      "Epoch 27/50\n",
      "363/363 [==============================] - 1s 2ms/step - loss: 0.0223 - val_loss: 0.0229\n",
      "Epoch 28/50\n",
      "363/363 [==============================] - 0s 1ms/step - loss: 0.0222 - val_loss: 0.0227\n",
      "Epoch 29/50\n",
      "363/363 [==============================] - 0s 1ms/step - loss: 0.0222 - val_loss: 0.0227\n",
      "Epoch 30/50\n",
      "363/363 [==============================] - 1s 1ms/step - loss: 0.0221 - val_loss: 0.0230\n",
      "Epoch 31/50\n",
      "363/363 [==============================] - 0s 1ms/step - loss: 0.0221 - val_loss: 0.0228\n",
      "Epoch 32/50\n",
      "363/363 [==============================] - 0s 1ms/step - loss: 0.0221 - val_loss: 0.0226\n",
      "Epoch 33/50\n",
      "363/363 [==============================] - 0s 1ms/step - loss: 0.0221 - val_loss: 0.0226\n",
      "Epoch 34/50\n",
      "363/363 [==============================] - 0s 1ms/step - loss: 0.0220 - val_loss: 0.0226\n",
      "Epoch 35/50\n",
      "363/363 [==============================] - 0s 1ms/step - loss: 0.0221 - val_loss: 0.0227\n",
      "Epoch 36/50\n",
      "363/363 [==============================] - 0s 1ms/step - loss: 0.0220 - val_loss: 0.0225\n",
      "Epoch 37/50\n",
      "363/363 [==============================] - 0s 1ms/step - loss: 0.0220 - val_loss: 0.0226\n",
      "Epoch 38/50\n",
      "363/363 [==============================] - 1s 1ms/step - loss: 0.0220 - val_loss: 0.0225\n",
      "Epoch 39/50\n",
      "363/363 [==============================] - 0s 1ms/step - loss: 0.0220 - val_loss: 0.0226\n",
      "Epoch 40/50\n",
      "363/363 [==============================] - 0s 1ms/step - loss: 0.0220 - val_loss: 0.0226\n",
      "Epoch 41/50\n",
      "363/363 [==============================] - 0s 1ms/step - loss: 0.0219 - val_loss: 0.0227\n",
      "Epoch 42/50\n",
      "363/363 [==============================] - 0s 1ms/step - loss: 0.0219 - val_loss: 0.0224\n",
      "Epoch 43/50\n",
      "363/363 [==============================] - 0s 1ms/step - loss: 0.0219 - val_loss: 0.0224\n",
      "Epoch 44/50\n",
      "363/363 [==============================] - 0s 1ms/step - loss: 0.0219 - val_loss: 0.0225\n",
      "Epoch 45/50\n",
      "363/363 [==============================] - 0s 1ms/step - loss: 0.0218 - val_loss: 0.0229\n",
      "Epoch 46/50\n",
      "363/363 [==============================] - 0s 1ms/step - loss: 0.0218 - val_loss: 0.0223\n",
      "Epoch 47/50\n",
      "363/363 [==============================] - 1s 1ms/step - loss: 0.0218 - val_loss: 0.0224\n",
      "Epoch 48/50\n",
      "363/363 [==============================] - 1s 1ms/step - loss: 0.0218 - val_loss: 0.0223\n",
      "Epoch 49/50\n",
      "363/363 [==============================] - 1s 2ms/step - loss: 0.0217 - val_loss: 0.0223\n",
      "Epoch 50/50\n",
      "363/363 [==============================] - 0s 1ms/step - loss: 0.0217 - val_loss: 0.0222\n"
     ]
    }
   ],
   "source": [
    "model.compile(loss=\"mean_squared_error\",\n",
    "             optimizer=\"adam\")\n",
    "\n",
    "history = model.fit(X_train,\n",
    "                   y_train,\n",
    "                   epochs=50,\n",
    "                   validation_data=(X_valid, y_valid))"
   ]
  },
  {
   "cell_type": "code",
   "execution_count": 35,
   "id": "protecting-firewall",
   "metadata": {},
   "outputs": [
    {
     "data": {
      "image/png": "[encoded data removed]",
      "text/plain": [
       "<Figure size 576x360 with 1 Axes>"
      ]
     },
     "metadata": {
      "needs_background": "light"
     },
     "output_type": "display_data"
    }
   ],
   "source": [
    "pd.DataFrame(history.history).plot(figsize=(8,5))\n",
    "plt.grid()\n",
    "plt.show()"
   ]
  },
  {
   "cell_type": "code",
   "execution_count": 36,
   "id": "rural-patrol",
   "metadata": {},
   "outputs": [
    {
     "name": "stdout",
     "output_type": "stream",
     "text": [
      "162/162 [==============================] - 0s 939us/step - loss: 3.7897\n",
      "3.7897400856018066\n"
     ]
    }
   ],
   "source": [
    "mse_test = model.evaluate(X_test,y_test)\n",
    "print(mse_test)"
   ]
  },
  {
   "cell_type": "code",
   "execution_count": 37,
   "id": "focused-temperature",
   "metadata": {},
   "outputs": [
    {
     "data": {
      "text/plain": [
       "array([[0.41094944],\n",
       "       [0.55922616],\n",
       "       [0.63845277],\n",
       "       ...,\n",
       "       [0.43527153],\n",
       "       [0.5101648 ],\n",
       "       [0.22740018]], dtype=float32)"
      ]
     },
     "execution_count": 37,
     "metadata": {},
     "output_type": "execute_result"
    }
   ],
   "source": [
    "model.predict(X_test)"
   ]
  },
  {
   "cell_type": "code",
   "execution_count": 39,
   "id": "7cbbd695",
   "metadata": {
    "scrolled": true
   },
   "outputs": [
    {
     "data": {
      "text/plain": [
       "array([[2.143103 ],\n",
       "       [2.862248 ],\n",
       "       [3.2464986],\n",
       "       ...,\n",
       "       [2.2610655],\n",
       "       [2.6242993],\n",
       "       [1.2528853]], dtype=float32)"
      ]
     },
     "execution_count": 39,
     "metadata": {},
     "output_type": "execute_result"
    }
   ],
   "source": [
    "pred_test = model.predict(X_test)\n",
    "# Desnormalizar\n",
    "pred_test2 = scaler2.inverse_transform(pred_test)\n",
    "pred_test2"
   ]
  },
  {
   "cell_type": "code",
   "execution_count": 40,
   "id": "36eff789",
   "metadata": {},
   "outputs": [
    {
     "name": "stdout",
     "output_type": "stream",
     "text": [
      "Test error =  0.5106418595646502\n",
      "Test R2 =  0.38289092387628487\n"
     ]
    }
   ],
   "source": [
    "# Medimos desempeño\n",
    "from sklearn.metrics import mean_squared_error, r2_score\n",
    "mse_2 = mean_squared_error(pred_test2, y_test)\n",
    "r2_2 = r2_score(pred_test2, y_test)\n",
    "print(\"Test error = \", mse_2)\n",
    "print(\"Test R2 = \", r2_2)"
   ]
  },
  {
   "cell_type": "code",
   "execution_count": 41,
   "id": "modern-paris",
   "metadata": {},
   "outputs": [
    {
     "data": {
      "text/plain": [
       "<matplotlib.lines._AxLine at 0x29de7589910>"
      ]
     },
     "execution_count": 41,
     "metadata": {},
     "output_type": "execute_result"
    },
    {
     "data": {
      "image/png": "[encoded data removed]",
      "text/plain": [
       "<Figure size 432x288 with 1 Axes>"
      ]
     },
     "metadata": {
      "needs_background": "light"
     },
     "output_type": "display_data"
    }
   ],
   "source": [
    "fig, ax = plt.subplots()\n",
    "plt.plot(pred_test2, y_test, 'o')\n",
    "plt.axline([0,0],[1,1],color='red')"
   ]
  },
  {
   "cell_type": "markdown",
   "id": "incomplete-smell",
   "metadata": {},
   "source": [
    "### Guardar modelo\n",
    "Para guardar el modelo, en el formato de Keras (HDF5). "
   ]
  },
  {
   "cell_type": "code",
   "execution_count": 44,
   "id": "verified-appearance",
   "metadata": {},
   "outputs": [],
   "source": [
    "model.save('my_keras_model.h5')"
   ]
  },
  {
   "cell_type": "code",
   "execution_count": 45,
   "id": "infinite-filter",
   "metadata": {},
   "outputs": [],
   "source": [
    "# Lo volvemos a cargar\n",
    "model2 = keras.models.load_model('my_keras_model.h5')"
   ]
  },
  {
   "cell_type": "code",
   "execution_count": 46,
   "id": "71c10b51",
   "metadata": {},
   "outputs": [
    {
     "data": {
      "text/plain": [
       "array([[0.41094944],\n",
       "       [0.55922616],\n",
       "       [0.63845277],\n",
       "       ...,\n",
       "       [0.43527153],\n",
       "       [0.5101648 ],\n",
       "       [0.22740018]], dtype=float32)"
      ]
     },
     "execution_count": 46,
     "metadata": {},
     "output_type": "execute_result"
    }
   ],
   "source": [
    "model2.predict(X_test)"
   ]
  },
  {
   "cell_type": "markdown",
   "id": "ready-beach",
   "metadata": {},
   "source": [
    "### Callbacks\n",
    "Son funciones predefinidas de Keras a aplicar durante el entrenamiento\n",
    "Por ejemplo, `ModelCheckpoint` sirve para que el modelo se vaya guardando tras cada epoch. Así no perdemos el progreso en caso de que decidamos interrumpir el entrenamiento. El callback recibe como argumento el nombre del objeto donde queremos que se guarde el modelo entrenado."
   ]
  },
  {
   "cell_type": "code",
   "execution_count": 49,
   "id": "banner-palace",
   "metadata": {
    "scrolled": true
   },
   "outputs": [
    {
     "name": "stdout",
     "output_type": "stream",
     "text": [
      "Epoch 1/200\n",
      "363/363 [==============================] - 0s 676us/step - loss: 0.0218\n",
      "Epoch 2/200\n",
      "363/363 [==============================] - 0s 595us/step - loss: 0.0217\n",
      "Epoch 3/200\n",
      "363/363 [==============================] - ETA: 0s - loss: 0.021 - 0s 646us/step - loss: 0.0217\n",
      "Epoch 4/200\n",
      "363/363 [==============================] - 0s 642us/step - loss: 0.0217\n",
      "Epoch 5/200\n",
      "363/363 [==============================] - 0s 652us/step - loss: 0.0217\n",
      "Epoch 6/200\n",
      "363/363 [==============================] - 0s 667us/step - loss: 0.0217\n",
      "Epoch 7/200\n",
      "363/363 [==============================] - 0s 690us/step - loss: 0.0216\n",
      "Epoch 8/200\n",
      "363/363 [==============================] - 0s 640us/step - loss: 0.0217\n",
      "Epoch 9/200\n",
      "363/363 [==============================] - 0s 712us/step - loss: 0.0216\n",
      "Epoch 10/200\n",
      "363/363 [==============================] - 0s 791us/step - loss: 0.0216\n",
      "Epoch 11/200\n",
      "363/363 [==============================] - 0s 763us/step - loss: 0.0216\n",
      "Epoch 12/200\n",
      "363/363 [==============================] - 0s 706us/step - loss: 0.0216\n",
      "Epoch 13/200\n",
      "363/363 [==============================] - 0s 782us/step - loss: 0.0216\n",
      "Epoch 14/200\n",
      "363/363 [==============================] - 0s 658us/step - loss: 0.0216\n",
      "Epoch 15/200\n",
      "363/363 [==============================] - 0s 769us/step - loss: 0.0215\n",
      "Epoch 16/200\n",
      "363/363 [==============================] - 0s 860us/step - loss: 0.0215\n",
      "Epoch 17/200\n",
      "363/363 [==============================] - 0s 880us/step - loss: 0.0215\n",
      "Epoch 18/200\n",
      "363/363 [==============================] - 0s 866us/step - loss: 0.0215 0s - loss: 0\n",
      "Epoch 19/200\n",
      "363/363 [==============================] - 0s 688us/step - loss: 0.0215\n",
      "Epoch 20/200\n",
      "363/363 [==============================] - 0s 728us/step - loss: 0.0214 0s - loss: 0.021\n",
      "Epoch 21/200\n",
      "363/363 [==============================] - 0s 733us/step - loss: 0.0215\n",
      "Epoch 22/200\n",
      "363/363 [==============================] - 0s 712us/step - loss: 0.0214\n",
      "Epoch 23/200\n",
      "363/363 [==============================] - 0s 692us/step - loss: 0.0214\n",
      "Epoch 24/200\n",
      "363/363 [==============================] - 0s 690us/step - loss: 0.0213\n",
      "Epoch 25/200\n",
      "363/363 [==============================] - 0s 647us/step - loss: 0.0213\n",
      "Epoch 26/200\n",
      "363/363 [==============================] - 0s 767us/step - loss: 0.0213\n",
      "Epoch 27/200\n",
      "363/363 [==============================] - 0s 988us/step - loss: 0.0213\n",
      "Epoch 28/200\n",
      "363/363 [==============================] - 0s 788us/step - loss: 0.0213\n",
      "Epoch 29/200\n",
      "363/363 [==============================] - 0s 851us/step - loss: 0.0213\n",
      "Epoch 30/200\n",
      "363/363 [==============================] - 0s 684us/step - loss: 0.0213\n",
      "Epoch 31/200\n",
      "363/363 [==============================] - 0s 755us/step - loss: 0.0212\n",
      "Epoch 32/200\n",
      "363/363 [==============================] - 0s 709us/step - loss: 0.0211\n",
      "Epoch 33/200\n",
      "363/363 [==============================] - 0s 719us/step - loss: 0.0212\n",
      "Epoch 34/200\n",
      "363/363 [==============================] - 0s 696us/step - loss: 0.0212\n",
      "Epoch 35/200\n",
      "363/363 [==============================] - 0s 695us/step - loss: 0.0212\n",
      "Epoch 36/200\n",
      "363/363 [==============================] - 0s 745us/step - loss: 0.0211\n",
      "Epoch 37/200\n",
      "363/363 [==============================] - 0s 691us/step - loss: 0.0210\n",
      "Epoch 38/200\n",
      "363/363 [==============================] - 0s 695us/step - loss: 0.0211\n",
      "Epoch 39/200\n",
      "363/363 [==============================] - 0s 683us/step - loss: 0.0211\n",
      "Epoch 40/200\n",
      "363/363 [==============================] - 0s 694us/step - loss: 0.0211\n",
      "Epoch 41/200\n",
      "363/363 [==============================] - 0s 713us/step - loss: 0.0210\n",
      "Epoch 42/200\n",
      "363/363 [==============================] - 0s 730us/step - loss: 0.0211\n",
      "Epoch 43/200\n",
      "363/363 [==============================] - 0s 693us/step - loss: 0.0210\n",
      "Epoch 44/200\n",
      "363/363 [==============================] - 0s 704us/step - loss: 0.0209\n",
      "Epoch 45/200\n",
      "363/363 [==============================] - 0s 689us/step - loss: 0.0210\n",
      "Epoch 46/200\n",
      "363/363 [==============================] - 0s 694us/step - loss: 0.0209\n",
      "Epoch 47/200\n",
      "363/363 [==============================] - 0s 727us/step - loss: 0.0209\n",
      "Epoch 48/200\n",
      "363/363 [==============================] - ETA: 0s - loss: 0.020 - 0s 684us/step - loss: 0.0209\n",
      "Epoch 49/200\n",
      "363/363 [==============================] - 0s 721us/step - loss: 0.0208\n",
      "Epoch 50/200\n",
      "363/363 [==============================] - 0s 718us/step - loss: 0.0209\n",
      "Epoch 51/200\n",
      "363/363 [==============================] - 0s 754us/step - loss: 0.0208\n",
      "Epoch 52/200\n",
      "363/363 [==============================] - 0s 725us/step - loss: 0.0208\n",
      "Epoch 53/200\n",
      "363/363 [==============================] - 0s 735us/step - loss: 0.0209\n",
      "Epoch 54/200\n",
      "363/363 [==============================] - 0s 820us/step - loss: 0.0207\n",
      "Epoch 55/200\n",
      "363/363 [==============================] - 0s 727us/step - loss: 0.0208\n",
      "Epoch 56/200\n",
      "363/363 [==============================] - 0s 871us/step - loss: 0.0207\n",
      "Epoch 57/200\n",
      "363/363 [==============================] - 0s 770us/step - loss: 0.0206\n",
      "Epoch 58/200\n",
      "363/363 [==============================] - 0s 727us/step - loss: 0.0206\n",
      "Epoch 59/200\n",
      "363/363 [==============================] - 0s 761us/step - loss: 0.0206\n",
      "Epoch 60/200\n",
      "363/363 [==============================] - 0s 720us/step - loss: 0.0206\n",
      "Epoch 61/200\n",
      "363/363 [==============================] - 0s 750us/step - loss: 0.0205\n",
      "Epoch 62/200\n",
      "363/363 [==============================] - 0s 753us/step - loss: 0.0206\n",
      "Epoch 63/200\n",
      "363/363 [==============================] - 0s 738us/step - loss: 0.0205\n",
      "Epoch 64/200\n",
      "363/363 [==============================] - 0s 732us/step - loss: 0.0205\n",
      "Epoch 65/200\n",
      "363/363 [==============================] - 0s 797us/step - loss: 0.0205\n",
      "Epoch 66/200\n",
      "363/363 [==============================] - 0s 953us/step - loss: 0.0204 0s - loss: 0.\n",
      "Epoch 67/200\n",
      "363/363 [==============================] - 0s 1ms/step - loss: 0.0204\n",
      "Epoch 68/200\n",
      "363/363 [==============================] - 0s 1ms/step - loss: 0.0204\n",
      "Epoch 69/200\n",
      "363/363 [==============================] - 0s 1ms/step - loss: 0.0204\n",
      "Epoch 70/200\n",
      "363/363 [==============================] - 0s 1ms/step - loss: 0.0203\n",
      "Epoch 71/200\n",
      "363/363 [==============================] - 0s 1ms/step - loss: 0.0204\n",
      "Epoch 72/200\n",
      "363/363 [==============================] - 0s 1ms/step - loss: 0.0203A: 0s - loss: 0.02\n",
      "Epoch 73/200\n",
      "363/363 [==============================] - 0s 1ms/step - loss: 0.0203A: 0s - loss: \n",
      "Epoch 74/200\n",
      "363/363 [==============================] - 0s 1ms/step - loss: 0.0202\n",
      "Epoch 75/200\n",
      "363/363 [==============================] - 0s 1ms/step - loss: 0.0202A: 0s - loss: 0.\n",
      "Epoch 76/200\n",
      "363/363 [==============================] - 0s 1ms/step - loss: 0.0202\n",
      "Epoch 77/200\n",
      "363/363 [==============================] - 0s 1ms/step - loss: 0.0202\n",
      "Epoch 78/200\n",
      "363/363 [==============================] - 0s 1ms/step - loss: 0.0201\n",
      "Epoch 79/200\n",
      "363/363 [==============================] - 0s 1ms/step - loss: 0.0201\n",
      "Epoch 80/200\n",
      "363/363 [==============================] - 0s 1ms/step - loss: 0.0201\n",
      "Epoch 81/200\n",
      "363/363 [==============================] - 0s 1ms/step - loss: 0.0201\n",
      "Epoch 82/200\n",
      "363/363 [==============================] - 0s 1ms/step - loss: 0.0201\n",
      "Epoch 83/200\n",
      "363/363 [==============================] - 0s 996us/step - loss: 0.0200\n",
      "Epoch 84/200\n",
      "363/363 [==============================] - 0s 1ms/step - loss: 0.0199\n",
      "Epoch 85/200\n",
      "363/363 [==============================] - 0s 980us/step - loss: 0.0200\n",
      "Epoch 86/200\n",
      "363/363 [==============================] - 0s 1ms/step - loss: 0.0199\n",
      "Epoch 87/200\n",
      "363/363 [==============================] - 0s 1ms/step - loss: 0.0200\n",
      "Epoch 88/200\n",
      "363/363 [==============================] - 0s 1ms/step - loss: 0.0200\n",
      "Epoch 89/200\n",
      "363/363 [==============================] - 0s 881us/step - loss: 0.0199\n",
      "Epoch 90/200\n",
      "363/363 [==============================] - 0s 1ms/step - loss: 0.0199\n",
      "Epoch 91/200\n",
      "363/363 [==============================] - 0s 978us/step - loss: 0.0198\n",
      "Epoch 92/200\n",
      "363/363 [==============================] - 0s 940us/step - loss: 0.0198 0s - loss: 0\n",
      "Epoch 93/200\n",
      "363/363 [==============================] - 0s 1ms/step - loss: 0.0198\n",
      "Epoch 94/200\n",
      "363/363 [==============================] - 0s 1ms/step - loss: 0.0198A: 0s - loss:\n",
      "Epoch 95/200\n",
      "363/363 [==============================] - 0s 944us/step - loss: 0.0197\n",
      "Epoch 96/200\n"
     ]
    },
    {
     "name": "stdout",
     "output_type": "stream",
     "text": [
      "363/363 [==============================] - 0s 960us/step - loss: 0.0197\n",
      "Epoch 97/200\n",
      "363/363 [==============================] - 0s 958us/step - loss: 0.0197\n",
      "Epoch 98/200\n",
      "363/363 [==============================] - 0s 843us/step - loss: 0.0197\n",
      "Epoch 99/200\n",
      "363/363 [==============================] - 0s 859us/step - loss: 0.0197\n",
      "Epoch 100/200\n",
      "363/363 [==============================] - 0s 924us/step - loss: 0.0196\n",
      "Epoch 101/200\n",
      "363/363 [==============================] - 0s 886us/step - loss: 0.0197\n",
      "Epoch 102/200\n",
      "363/363 [==============================] - 0s 864us/step - loss: 0.0197\n",
      "Epoch 103/200\n",
      "363/363 [==============================] - 0s 1ms/step - loss: 0.0195\n",
      "Epoch 104/200\n",
      "363/363 [==============================] - 0s 990us/step - loss: 0.0196\n",
      "Epoch 105/200\n",
      "363/363 [==============================] - 0s 948us/step - loss: 0.0195\n",
      "Epoch 106/200\n",
      "363/363 [==============================] - 0s 1ms/step - loss: 0.0195\n",
      "Epoch 107/200\n",
      "363/363 [==============================] - 0s 1ms/step - loss: 0.0196\n",
      "Epoch 108/200\n",
      "363/363 [==============================] - 0s 995us/step - loss: 0.0195\n",
      "Epoch 109/200\n",
      "363/363 [==============================] - 0s 936us/step - loss: 0.0195\n",
      "Epoch 110/200\n",
      "363/363 [==============================] - 0s 924us/step - loss: 0.0195\n",
      "Epoch 111/200\n",
      "363/363 [==============================] - 0s 950us/step - loss: 0.0195\n",
      "Epoch 112/200\n",
      "363/363 [==============================] - 0s 1ms/step - loss: 0.0195\n",
      "Epoch 113/200\n",
      "363/363 [==============================] - 0s 925us/step - loss: 0.0195\n",
      "Epoch 114/200\n",
      "363/363 [==============================] - 0s 1ms/step - loss: 0.0194\n",
      "Epoch 115/200\n",
      "363/363 [==============================] - 0s 847us/step - loss: 0.0194\n",
      "Epoch 116/200\n",
      "363/363 [==============================] - 0s 1ms/step - loss: 0.0194\n",
      "Epoch 117/200\n",
      "363/363 [==============================] - 0s 1ms/step - loss: 0.0194\n",
      "Epoch 118/200\n",
      "363/363 [==============================] - 0s 1ms/step - loss: 0.0194\n",
      "Epoch 119/200\n",
      "363/363 [==============================] - 0s 1ms/step - loss: 0.0193\n",
      "Epoch 120/200\n",
      "363/363 [==============================] - 0s 1ms/step - loss: 0.0193\n",
      "Epoch 121/200\n",
      "363/363 [==============================] - 0s 1ms/step - loss: 0.0193\n",
      "Epoch 122/200\n",
      "363/363 [==============================] - 0s 1ms/step - loss: 0.0193\n",
      "Epoch 123/200\n",
      "363/363 [==============================] - 0s 1ms/step - loss: 0.0194\n",
      "Epoch 124/200\n",
      "363/363 [==============================] - 0s 1ms/step - loss: 0.0194\n",
      "Epoch 125/200\n",
      "363/363 [==============================] - 0s 1ms/step - loss: 0.0193\n",
      "Epoch 126/200\n",
      "363/363 [==============================] - 0s 1ms/step - loss: 0.0193\n",
      "Epoch 127/200\n",
      "363/363 [==============================] - 0s 1ms/step - loss: 0.0193\n",
      "Epoch 128/200\n",
      "363/363 [==============================] - 0s 1ms/step - loss: 0.0193\n",
      "Epoch 129/200\n",
      "363/363 [==============================] - 0s 920us/step - loss: 0.0192\n",
      "Epoch 130/200\n",
      "363/363 [==============================] - 0s 955us/step - loss: 0.0193\n",
      "Epoch 131/200\n",
      "363/363 [==============================] - 0s 1ms/step - loss: 0.0192\n",
      "Epoch 132/200\n",
      "363/363 [==============================] - 0s 1ms/step - loss: 0.0192\n",
      "Epoch 133/200\n",
      "363/363 [==============================] - 0s 1ms/step - loss: 0.0192\n",
      "Epoch 134/200\n",
      "363/363 [==============================] - 0s 995us/step - loss: 0.0191\n",
      "Epoch 135/200\n",
      "363/363 [==============================] - 0s 1ms/step - loss: 0.0192\n",
      "Epoch 136/200\n",
      "363/363 [==============================] - 0s 1ms/step - loss: 0.0192\n",
      "Epoch 137/200\n",
      "363/363 [==============================] - 0s 1ms/step - loss: 0.0192\n",
      "Epoch 138/200\n",
      "363/363 [==============================] - 0s 1ms/step - loss: 0.0192\n",
      "Epoch 139/200\n",
      "363/363 [==============================] - 0s 1ms/step - loss: 0.0192A: 0s - loss: 0.0\n",
      "Epoch 140/200\n",
      "363/363 [==============================] - 0s 1ms/step - loss: 0.0191\n",
      "Epoch 141/200\n",
      "363/363 [==============================] - 0s 964us/step - loss: 0.0193 0s - loss: 0.019\n",
      "Epoch 142/200\n",
      "363/363 [==============================] - 0s 1ms/step - loss: 0.0191\n",
      "Epoch 143/200\n",
      "363/363 [==============================] - 0s 1ms/step - loss: 0.0191\n",
      "Epoch 144/200\n",
      "363/363 [==============================] - 0s 991us/step - loss: 0.0192\n",
      "Epoch 145/200\n",
      "363/363 [==============================] - 0s 1ms/step - loss: 0.0191\n",
      "Epoch 146/200\n",
      "363/363 [==============================] - 0s 1ms/step - loss: 0.0191\n",
      "Epoch 147/200\n",
      "363/363 [==============================] - 0s 1ms/step - loss: 0.0191A: 0s - loss: 0.019\n",
      "Epoch 148/200\n",
      "363/363 [==============================] - 0s 1ms/step - loss: 0.0192A: 0s - loss: 0.01\n",
      "Epoch 149/200\n",
      "363/363 [==============================] - 0s 1ms/step - loss: 0.0191A: 0s - loss:\n",
      "Epoch 150/200\n",
      "363/363 [==============================] - 0s 1ms/step - loss: 0.0191\n",
      "Epoch 151/200\n",
      "363/363 [==============================] - 0s 1ms/step - loss: 0.0192\n",
      "Epoch 152/200\n",
      "363/363 [==============================] - 1s 2ms/step - loss: 0.0191\n",
      "Epoch 153/200\n",
      "363/363 [==============================] - 0s 1ms/step - loss: 0.0190\n",
      "Epoch 154/200\n",
      "363/363 [==============================] - 1s 2ms/step - loss: 0.0190A: 0s - loss: \n",
      "Epoch 155/200\n",
      "363/363 [==============================] - 1s 2ms/step - loss: 0.0190A: 0s - loss: 0.\n",
      "Epoch 156/200\n",
      "363/363 [==============================] - ETA: 0s - loss: 0.018 - 0s 1ms/step - loss: 0.0191\n",
      "Epoch 157/200\n",
      "363/363 [==============================] - 0s 912us/step - loss: 0.0191\n",
      "Epoch 158/200\n",
      "363/363 [==============================] - 0s 1ms/step - loss: 0.0191\n",
      "Epoch 159/200\n",
      "363/363 [==============================] - 0s 951us/step - loss: 0.0190\n",
      "Epoch 160/200\n",
      "363/363 [==============================] - 0s 1ms/step - loss: 0.0190\n",
      "Epoch 161/200\n",
      "363/363 [==============================] - 0s 1ms/step - loss: 0.0191\n",
      "Epoch 162/200\n",
      "363/363 [==============================] - 1s 1ms/step - loss: 0.0191A: 0s - loss: 0.018 - ETA: 0s - loss: 0.018 - ETA: 0s - loss:\n",
      "Epoch 163/200\n",
      "363/363 [==============================] - 0s 1ms/step - loss: 0.0190\n",
      "Epoch 164/200\n",
      "363/363 [==============================] - 0s 1ms/step - loss: 0.0190A: 0s - loss:\n",
      "Epoch 165/200\n",
      "363/363 [==============================] - 0s 1ms/step - loss: 0.0190\n",
      "Epoch 166/200\n",
      "363/363 [==============================] - 0s 1ms/step - loss: 0.0190\n",
      "Epoch 167/200\n",
      "363/363 [==============================] - 0s 1ms/step - loss: 0.0190\n",
      "Epoch 168/200\n",
      "363/363 [==============================] - 0s 967us/step - loss: 0.0190\n",
      "Epoch 169/200\n",
      "363/363 [==============================] - 0s 927us/step - loss: 0.0189\n",
      "Epoch 170/200\n",
      "363/363 [==============================] - 0s 1ms/step - loss: 0.0190\n",
      "Epoch 171/200\n",
      "363/363 [==============================] - 0s 1ms/step - loss: 0.0190\n",
      "Epoch 172/200\n",
      "363/363 [==============================] - ETA: 0s - loss: 0.018 - 0s 1ms/step - loss: 0.0190\n",
      "Epoch 173/200\n",
      "363/363 [==============================] - 0s 1ms/step - loss: 0.0189\n",
      "Epoch 174/200\n",
      "363/363 [==============================] - 0s 1ms/step - loss: 0.0189\n",
      "Epoch 175/200\n",
      "363/363 [==============================] - 0s 1ms/step - loss: 0.0190\n",
      "Epoch 176/200\n",
      "363/363 [==============================] - 0s 1ms/step - loss: 0.0189\n",
      "Epoch 177/200\n",
      "363/363 [==============================] - 1s 1ms/step - loss: 0.0189\n",
      "Epoch 178/200\n",
      "363/363 [==============================] - 0s 1ms/step - loss: 0.0190\n",
      "Epoch 179/200\n",
      "363/363 [==============================] - 1s 2ms/step - loss: 0.0191\n",
      "Epoch 180/200\n",
      "363/363 [==============================] - 1s 2ms/step - loss: 0.0190\n",
      "Epoch 181/200\n",
      "363/363 [==============================] - 1s 2ms/step - loss: 0.0189\n",
      "Epoch 182/200\n",
      "363/363 [==============================] - 0s 976us/step - loss: 0.0189\n",
      "Epoch 183/200\n",
      "363/363 [==============================] - 0s 1ms/step - loss: 0.0189A: 0s - loss: \n",
      "Epoch 184/200\n",
      "363/363 [==============================] - 0s 1ms/step - loss: 0.0189\n",
      "Epoch 185/200\n",
      "363/363 [==============================] - 0s 1ms/step - loss: 0.0189\n",
      "Epoch 186/200\n",
      "363/363 [==============================] - 0s 1ms/step - loss: 0.0188\n",
      "Epoch 187/200\n",
      "363/363 [==============================] - 0s 1ms/step - loss: 0.0190\n",
      "Epoch 188/200\n",
      "363/363 [==============================] - 0s 982us/step - loss: 0.0189\n",
      "Epoch 189/200\n"
     ]
    },
    {
     "name": "stdout",
     "output_type": "stream",
     "text": [
      "363/363 [==============================] - 0s 1ms/step - loss: 0.0188A: 0s - loss: \n",
      "Epoch 190/200\n",
      "363/363 [==============================] - 0s 1ms/step - loss: 0.0189\n",
      "Epoch 191/200\n",
      "363/363 [==============================] - 0s 1ms/step - loss: 0.0188\n",
      "Epoch 192/200\n",
      "363/363 [==============================] - 0s 938us/step - loss: 0.0188\n",
      "Epoch 193/200\n",
      "363/363 [==============================] - 0s 960us/step - loss: 0.0188\n",
      "Epoch 194/200\n",
      "363/363 [==============================] - 0s 1ms/step - loss: 0.0189\n",
      "Epoch 195/200\n",
      "363/363 [==============================] - 0s 1ms/step - loss: 0.0189\n",
      "Epoch 196/200\n",
      "363/363 [==============================] - 0s 1ms/step - loss: 0.0188A: 0s - loss: \n",
      "Epoch 197/200\n",
      "363/363 [==============================] - 0s 905us/step - loss: 0.0188\n",
      "Epoch 198/200\n",
      "363/363 [==============================] - 0s 982us/step - loss: 0.0188\n",
      "Epoch 199/200\n",
      "363/363 [==============================] - 0s 1ms/step - loss: 0.0189\n",
      "Epoch 200/200\n",
      "363/363 [==============================] - 0s 910us/step - loss: 0.0188\n"
     ]
    }
   ],
   "source": [
    "checkpoint_cb = keras.callbacks.ModelCheckpoint(\"callback_model.h5\")\n",
    "\n",
    "history = model.fit(X_train,y_train,epochs=200,callbacks=[checkpoint_cb])"
   ]
  },
  {
   "cell_type": "markdown",
   "id": "precious-settlement",
   "metadata": {},
   "source": [
    "### Early Stopping\n",
    "Interrumpe el entrenamiento cuando no ve progreso en el set de validación. Para ello tiene en cuenta un numero de epochs llamado `patience`. Se puede combinar con el callback"
   ]
  },
  {
   "cell_type": "code",
   "execution_count": 53,
   "id": "labeled-irrigation",
   "metadata": {
    "scrolled": true
   },
   "outputs": [
    {
     "name": "stdout",
     "output_type": "stream",
     "text": [
      "Epoch 1/100\n",
      "363/363 [==============================] - 0s 906us/step - loss: 0.0189 - val_loss: 0.0190\n",
      "Epoch 2/100\n",
      "363/363 [==============================] - 0s 860us/step - loss: 0.0188 - val_loss: 0.0193\n",
      "Epoch 3/100\n",
      "363/363 [==============================] - 0s 1ms/step - loss: 0.0188 - val_loss: 0.0190\n",
      "Epoch 4/100\n",
      "363/363 [==============================] - 0s 838us/step - loss: 0.0188 - val_loss: 0.0190\n",
      "Epoch 5/100\n",
      "363/363 [==============================] - 0s 906us/step - loss: 0.0187 - val_loss: 0.0191\n",
      "Epoch 6/100\n",
      "363/363 [==============================] - 0s 1ms/step - loss: 0.0187 - val_loss: 0.0192\n",
      "Epoch 7/100\n",
      "363/363 [==============================] - 0s 902us/step - loss: 0.0188 - val_loss: 0.0189\n",
      "Epoch 8/100\n",
      "363/363 [==============================] - 0s 816us/step - loss: 0.0187 - val_loss: 0.0190\n",
      "Epoch 9/100\n",
      "363/363 [==============================] - 0s 893us/step - loss: 0.0187 - val_loss: 0.0192\n",
      "Epoch 10/100\n",
      "363/363 [==============================] - 0s 1ms/step - loss: 0.0188 - val_loss: 0.0189\n",
      "Epoch 11/100\n",
      "363/363 [==============================] - 0s 968us/step - loss: 0.0188 - val_loss: 0.0190\n",
      "Epoch 12/100\n",
      "363/363 [==============================] - 0s 863us/step - loss: 0.0187 - val_loss: 0.0190\n",
      "Epoch 13/100\n",
      "363/363 [==============================] - 0s 1000us/step - loss: 0.0187 - val_loss: 0.0189\n",
      "Epoch 14/100\n",
      "363/363 [==============================] - 0s 1ms/step - loss: 0.0187 - val_loss: 0.0189\n",
      "Epoch 15/100\n",
      "363/363 [==============================] - 0s 960us/step - loss: 0.0188 - val_loss: 0.0195\n",
      "Epoch 16/100\n",
      "363/363 [==============================] - 0s 927us/step - loss: 0.0187 - val_loss: 0.0189\n",
      "Epoch 17/100\n",
      "363/363 [==============================] - 0s 1ms/step - loss: 0.0187 - val_loss: 0.0190\n",
      "Epoch 18/100\n",
      "363/363 [==============================] - 0s 998us/step - loss: 0.0188 - val_loss: 0.0190\n",
      "Epoch 19/100\n",
      "363/363 [==============================] - 0s 1ms/step - loss: 0.0187 - val_loss: 0.0190\n"
     ]
    }
   ],
   "source": [
    "early_stopping_cb = keras.callbacks.EarlyStopping(patience=5)\n",
    "\n",
    "history=model.fit(X_train,y_train,epochs=100,\n",
    "                 callbacks=[checkpoint_cb, early_stopping_cb],\n",
    "                 validation_data=(X_valid,y_valid))"
   ]
  }
 ],
 "metadata": {
  "kernelspec": {
   "display_name": "Python 3 (ipykernel)",
   "language": "python",
   "name": "python3"
  },
  "language_info": {
   "codemirror_mode": {
    "name": "ipython",
    "version": 3
   },
   "file_extension": ".py",
   "mimetype": "text/x-python",
   "name": "python",
   "nbconvert_exporter": "python",
   "pygments_lexer": "ipython3",
   "version": "3.9.7"
  }
 },
 "nbformat": 4,
 "nbformat_minor": 5
}
