{
 "cells": [
  {
   "cell_type": "markdown",
   "id": "5ce69fbd",
   "metadata": {},
   "source": [
    "# Predicción de cuotas de apuestas"
   ]
  },
  {
   "cell_type": "markdown",
   "id": "73cabfbf",
   "metadata": {},
   "source": [
    "En este ejercicio vamos a implementar una única red neuronal para predecir las cuotas de victoria, empate y derrota en partidos de fútbol"
   ]
  },
  {
   "cell_type": "markdown",
   "id": "a971754c",
   "metadata": {},
   "source": [
    "![img](https://www.ecestaticos.com/image/clipping/6192cd83066e196913e3045d412b937b/multan-a-la-casa-de-apuestas-digital-888-por-el-polemico-anuncio-de-carlos-sobera.jpg)"
   ]
  },
  {
   "cell_type": "markdown",
   "id": "e5c7918e",
   "metadata": {},
   "source": [
    "Los datos de cada casa de apuestas se encuentran en formato JSON dentro de la carpeta `data` con el nombre `bookmakerXXX.json`. Utiliza estos ficheros para crear un único dataframe con el que entrenar y probar el modelo.  \n",
    "Por último, utiliza el fichero `predicciones.json` para analizar las cuotas de un único partido"
   ]
  },
  {
   "cell_type": "code",
   "execution_count": null,
   "id": "26aeca62",
   "metadata": {},
   "outputs": [],
   "source": []
  }
 ],
 "metadata": {
  "kernelspec": {
   "display_name": "Python 3 (ipykernel)",
   "language": "python",
   "name": "python3"
  },
  "language_info": {
   "codemirror_mode": {
    "name": "ipython",
    "version": 3
   },
   "file_extension": ".py",
   "mimetype": "text/x-python",
   "name": "python",
   "nbconvert_exporter": "python",
   "pygments_lexer": "ipython3",
   "version": "3.9.7"
  }
 },
 "nbformat": 4,
 "nbformat_minor": 5
}
