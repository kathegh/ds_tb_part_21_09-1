{
 "cells": [
  {
   "cell_type": "code",
   "execution_count": 1,
   "id": "babb06c1-b71c-4e52-880b-f01ab0f13a66",
   "metadata": {},
   "outputs": [],
   "source": [
    "#kaggle competitions -c the bridgediamonds\n",
    "# price price in US dollars (\\$326--\\$18,823)\n",
    "\n",
    "#carat weight of the diamond (0.2--5.01)\n",
    "\n",
    "#cut quality of the cut (Fair, Good, Very Good, Premium, Ideal) escala del 1(peor) al 5 (mejor)\n",
    "\n",
    "#color diamond colour, from J (worst) to D (best)\n",
    "\n",
    "#clarity a measurement of how clear the diamond is (I1 (worst), SI2, SI1, VS2, VS1, VVS2, VVS1, IF (best))\n",
    "\n",
    "#x length in mm (0--10.74)\n",
    "\n",
    "#y width in mm (0--58.9)\n",
    "\n",
    "#z depth in mm (0--31.8)\n",
    "\n",
    "#depth total depth percentage = z / mean(x, y) = 2 * z / (x + y) (43--79)\n",
    "\n",
    "#table width of top of diamond relative to widest point (43--95)"
   ]
  },
  {
   "cell_type": "code",
   "execution_count": 56,
   "id": "fe3a6ca0-1273-4019-b156-aaded670376a",
   "metadata": {},
   "outputs": [],
   "source": [
    "import pandas as pd\n",
    "import numpy as np\n",
    "import pylab as plt"
   ]
  },
  {
   "cell_type": "code",
   "execution_count": 57,
   "id": "42b84845-c13e-4acc-bee5-1f521dcef77e",
   "metadata": {},
   "outputs": [
    {
     "data": {
      "text/html": [
       "<div>\n",
       "<style scoped>\n",
       "    .dataframe tbody tr th:only-of-type {\n",
       "        vertical-align: middle;\n",
       "    }\n",
       "\n",
       "    .dataframe tbody tr th {\n",
       "        vertical-align: top;\n",
       "    }\n",
       "\n",
       "    .dataframe thead th {\n",
       "        text-align: right;\n",
       "    }\n",
       "</style>\n",
       "<table border=\"1\" class=\"dataframe\">\n",
       "  <thead>\n",
       "    <tr style=\"text-align: right;\">\n",
       "      <th></th>\n",
       "      <th>carat</th>\n",
       "      <th>cut</th>\n",
       "      <th>color</th>\n",
       "      <th>clarity</th>\n",
       "      <th>depth</th>\n",
       "      <th>table</th>\n",
       "      <th>price</th>\n",
       "      <th>x</th>\n",
       "      <th>y</th>\n",
       "      <th>z</th>\n",
       "      <th>id</th>\n",
       "    </tr>\n",
       "  </thead>\n",
       "  <tbody>\n",
       "    <tr>\n",
       "      <th>0</th>\n",
       "      <td>1.01</td>\n",
       "      <td>Very Good</td>\n",
       "      <td>F</td>\n",
       "      <td>SI2</td>\n",
       "      <td>62.2</td>\n",
       "      <td>58.0</td>\n",
       "      <td>4332.0</td>\n",
       "      <td>6.33</td>\n",
       "      <td>6.38</td>\n",
       "      <td>3.95</td>\n",
       "      <td>0</td>\n",
       "    </tr>\n",
       "    <tr>\n",
       "      <th>1</th>\n",
       "      <td>0.90</td>\n",
       "      <td>Very Good</td>\n",
       "      <td>I</td>\n",
       "      <td>VS2</td>\n",
       "      <td>61.4</td>\n",
       "      <td>58.0</td>\n",
       "      <td>4089.0</td>\n",
       "      <td>6.22</td>\n",
       "      <td>6.25</td>\n",
       "      <td>3.83</td>\n",
       "      <td>1</td>\n",
       "    </tr>\n",
       "    <tr>\n",
       "      <th>2</th>\n",
       "      <td>0.53</td>\n",
       "      <td>Ideal</td>\n",
       "      <td>E</td>\n",
       "      <td>VVS2</td>\n",
       "      <td>62.2</td>\n",
       "      <td>54.0</td>\n",
       "      <td>2273.0</td>\n",
       "      <td>5.19</td>\n",
       "      <td>5.23</td>\n",
       "      <td>3.24</td>\n",
       "      <td>2</td>\n",
       "    </tr>\n",
       "    <tr>\n",
       "      <th>3</th>\n",
       "      <td>0.32</td>\n",
       "      <td>Ideal</td>\n",
       "      <td>I</td>\n",
       "      <td>IF</td>\n",
       "      <td>60.8</td>\n",
       "      <td>54.0</td>\n",
       "      <td>673.0</td>\n",
       "      <td>4.44</td>\n",
       "      <td>4.47</td>\n",
       "      <td>2.71</td>\n",
       "      <td>3</td>\n",
       "    </tr>\n",
       "    <tr>\n",
       "      <th>4</th>\n",
       "      <td>1.06</td>\n",
       "      <td>Ideal</td>\n",
       "      <td>G</td>\n",
       "      <td>VVS2</td>\n",
       "      <td>61.0</td>\n",
       "      <td>57.0</td>\n",
       "      <td>7900.0</td>\n",
       "      <td>6.55</td>\n",
       "      <td>6.57</td>\n",
       "      <td>4.00</td>\n",
       "      <td>4</td>\n",
       "    </tr>\n",
       "  </tbody>\n",
       "</table>\n",
       "</div>"
      ],
      "text/plain": [
       "   carat        cut color clarity  depth  table   price     x     y     z  id\n",
       "0   1.01  Very Good     F     SI2   62.2   58.0  4332.0  6.33  6.38  3.95   0\n",
       "1   0.90  Very Good     I     VS2   61.4   58.0  4089.0  6.22  6.25  3.83   1\n",
       "2   0.53      Ideal     E    VVS2   62.2   54.0  2273.0  5.19  5.23  3.24   2\n",
       "3   0.32      Ideal     I      IF   60.8   54.0   673.0  4.44  4.47  2.71   3\n",
       "4   1.06      Ideal     G    VVS2   61.0   57.0  7900.0  6.55  6.57  4.00   4"
      ]
     },
     "execution_count": 57,
     "metadata": {},
     "output_type": "execute_result"
    }
   ],
   "source": [
    "data_train=pd.read_csv(r'C:\\Katherine_Classes\\ds_tb_part_21_09-1\\data\\train.csv')\n",
    "\n",
    "data_train.head()"
   ]
  },
  {
   "cell_type": "code",
   "execution_count": 58,
   "id": "c6c54e32-e1c1-4831-913d-f3245daf9e3b",
   "metadata": {},
   "outputs": [
    {
     "name": "stdout",
     "output_type": "stream",
     "text": [
      "<class 'pandas.core.frame.DataFrame'>\n",
      "RangeIndex: 35940 entries, 0 to 35939\n",
      "Data columns (total 11 columns):\n",
      " #   Column   Non-Null Count  Dtype  \n",
      "---  ------   --------------  -----  \n",
      " 0   carat    35940 non-null  float64\n",
      " 1   cut      35940 non-null  object \n",
      " 2   color    35940 non-null  object \n",
      " 3   clarity  35940 non-null  object \n",
      " 4   depth    35940 non-null  float64\n",
      " 5   table    35940 non-null  float64\n",
      " 6   price    35940 non-null  float64\n",
      " 7   x        35940 non-null  float64\n",
      " 8   y        35940 non-null  float64\n",
      " 9   z        35940 non-null  float64\n",
      " 10  id       35940 non-null  int64  \n",
      "dtypes: float64(7), int64(1), object(3)\n",
      "memory usage: 3.0+ MB\n"
     ]
    }
   ],
   "source": [
    "data_train.info()"
   ]
  },
  {
   "cell_type": "code",
   "execution_count": 59,
   "id": "9a78c975-56d9-4327-a1ee-42f8c4117977",
   "metadata": {},
   "outputs": [
    {
     "data": {
      "text/html": [
       "<div>\n",
       "<style scoped>\n",
       "    .dataframe tbody tr th:only-of-type {\n",
       "        vertical-align: middle;\n",
       "    }\n",
       "\n",
       "    .dataframe tbody tr th {\n",
       "        vertical-align: top;\n",
       "    }\n",
       "\n",
       "    .dataframe thead th {\n",
       "        text-align: right;\n",
       "    }\n",
       "</style>\n",
       "<table border=\"1\" class=\"dataframe\">\n",
       "  <thead>\n",
       "    <tr style=\"text-align: right;\">\n",
       "      <th></th>\n",
       "      <th>carat</th>\n",
       "      <th>cut</th>\n",
       "      <th>color</th>\n",
       "      <th>clarity</th>\n",
       "      <th>depth</th>\n",
       "      <th>table</th>\n",
       "      <th>x</th>\n",
       "      <th>y</th>\n",
       "      <th>z</th>\n",
       "      <th>id</th>\n",
       "    </tr>\n",
       "  </thead>\n",
       "  <tbody>\n",
       "    <tr>\n",
       "      <th>0</th>\n",
       "      <td>0.70</td>\n",
       "      <td>Good</td>\n",
       "      <td>J</td>\n",
       "      <td>VVS2</td>\n",
       "      <td>64.3</td>\n",
       "      <td>56.0</td>\n",
       "      <td>5.57</td>\n",
       "      <td>5.63</td>\n",
       "      <td>3.60</td>\n",
       "      <td>0</td>\n",
       "    </tr>\n",
       "    <tr>\n",
       "      <th>1</th>\n",
       "      <td>0.31</td>\n",
       "      <td>Premium</td>\n",
       "      <td>E</td>\n",
       "      <td>VVS2</td>\n",
       "      <td>61.9</td>\n",
       "      <td>58.0</td>\n",
       "      <td>4.38</td>\n",
       "      <td>4.35</td>\n",
       "      <td>2.70</td>\n",
       "      <td>1</td>\n",
       "    </tr>\n",
       "    <tr>\n",
       "      <th>2</th>\n",
       "      <td>0.84</td>\n",
       "      <td>Premium</td>\n",
       "      <td>F</td>\n",
       "      <td>SI1</td>\n",
       "      <td>59.0</td>\n",
       "      <td>59.0</td>\n",
       "      <td>6.18</td>\n",
       "      <td>6.13</td>\n",
       "      <td>3.63</td>\n",
       "      <td>2</td>\n",
       "    </tr>\n",
       "    <tr>\n",
       "      <th>3</th>\n",
       "      <td>1.03</td>\n",
       "      <td>Fair</td>\n",
       "      <td>E</td>\n",
       "      <td>SI1</td>\n",
       "      <td>65.1</td>\n",
       "      <td>58.0</td>\n",
       "      <td>6.35</td>\n",
       "      <td>6.24</td>\n",
       "      <td>4.10</td>\n",
       "      <td>3</td>\n",
       "    </tr>\n",
       "    <tr>\n",
       "      <th>4</th>\n",
       "      <td>1.20</td>\n",
       "      <td>Premium</td>\n",
       "      <td>J</td>\n",
       "      <td>SI1</td>\n",
       "      <td>60.5</td>\n",
       "      <td>59.0</td>\n",
       "      <td>6.84</td>\n",
       "      <td>6.79</td>\n",
       "      <td>4.12</td>\n",
       "      <td>4</td>\n",
       "    </tr>\n",
       "  </tbody>\n",
       "</table>\n",
       "</div>"
      ],
      "text/plain": [
       "   carat      cut color clarity  depth  table     x     y     z  id\n",
       "0   0.70     Good     J    VVS2   64.3   56.0  5.57  5.63  3.60   0\n",
       "1   0.31  Premium     E    VVS2   61.9   58.0  4.38  4.35  2.70   1\n",
       "2   0.84  Premium     F     SI1   59.0   59.0  6.18  6.13  3.63   2\n",
       "3   1.03     Fair     E     SI1   65.1   58.0  6.35  6.24  4.10   3\n",
       "4   1.20  Premium     J     SI1   60.5   59.0  6.84  6.79  4.12   4"
      ]
     },
     "execution_count": 59,
     "metadata": {},
     "output_type": "execute_result"
    }
   ],
   "source": [
    "data_test=pd.read_csv(r'C:\\Katherine_Classes\\ds_tb_part_21_09-1\\data\\test.csv')\n",
    "\n",
    "data_test.head()"
   ]
  },
  {
   "cell_type": "code",
   "execution_count": 7,
   "id": "4deeea43-0328-433e-80e0-ce7195fb9005",
   "metadata": {},
   "outputs": [
    {
     "name": "stdout",
     "output_type": "stream",
     "text": [
      "<class 'pandas.core.frame.DataFrame'>\n",
      "RangeIndex: 12000 entries, 0 to 11999\n",
      "Data columns (total 10 columns):\n",
      " #   Column   Non-Null Count  Dtype  \n",
      "---  ------   --------------  -----  \n",
      " 0   carat    12000 non-null  float64\n",
      " 1   cut      12000 non-null  object \n",
      " 2   color    12000 non-null  object \n",
      " 3   clarity  12000 non-null  object \n",
      " 4   depth    12000 non-null  float64\n",
      " 5   table    12000 non-null  float64\n",
      " 6   x        12000 non-null  float64\n",
      " 7   y        12000 non-null  float64\n",
      " 8   z        12000 non-null  float64\n",
      " 9   id       12000 non-null  int64  \n",
      "dtypes: float64(6), int64(1), object(3)\n",
      "memory usage: 937.6+ KB\n"
     ]
    }
   ],
   "source": [
    "data_test.info()"
   ]
  },
  {
   "cell_type": "code",
   "execution_count": 8,
   "id": "3844dac0-a228-432f-8877-b070ad9c633c",
   "metadata": {},
   "outputs": [],
   "source": [
    "import warnings\n",
    "warnings.simplefilter('ignore')\n",
    "\n",
    "\n",
    "import pylab as plt\n",
    "%matplotlib inline"
   ]
  },
  {
   "cell_type": "code",
   "execution_count": 9,
   "id": "cd9352b0-4367-42d9-afb8-20b7d24b3c88",
   "metadata": {},
   "outputs": [
    {
     "data": {
      "image/png": "[encoded data removed]",
      "text/plain": [
       "<Figure size 576x576 with 1 Axes>"
      ]
     },
     "metadata": {
      "needs_background": "light"
     },
     "output_type": "display_data"
    }
   ],
   "source": [
    "# outliers (3*iqr)\n",
    "\n",
    "plt.figure(figsize=(8,8))\n",
    "\n",
    "data_train.boxplot(column=['table'])\n",
    "\n",
    "plt.xticks(rotation=45);"
   ]
  },
  {
   "cell_type": "code",
   "execution_count": 10,
   "id": "4852e0d9-b4c2-4389-818b-acb0405a2229",
   "metadata": {},
   "outputs": [
    {
     "data": {
      "image/png": "[encoded data removed]",
      "text/plain": [
       "<Figure size 576x576 with 1 Axes>"
      ]
     },
     "metadata": {
      "needs_background": "light"
     },
     "output_type": "display_data"
    }
   ],
   "source": [
    "# outliers (3*iqr)\n",
    "\n",
    "plt.figure(figsize=(8,8))\n",
    "\n",
    "data_train.boxplot(column=['carat'])\n",
    "\n",
    "plt.xticks(rotation=45);"
   ]
  },
  {
   "cell_type": "code",
   "execution_count": 11,
   "id": "cf996568-cb84-4cfc-b5f3-4acc7bd18afd",
   "metadata": {},
   "outputs": [
    {
     "data": {
      "text/plain": [
       "array(['Very Good', 'Ideal', 'Good', 'Premium', 'Very Geod', 'Fair'],\n",
       "      dtype=object)"
      ]
     },
     "execution_count": 11,
     "metadata": {},
     "output_type": "execute_result"
    }
   ],
   "source": [
    "data_train['cut'].unique()"
   ]
  },
  {
   "cell_type": "code",
   "execution_count": 12,
   "id": "bd533d72-358a-4ede-baa2-5e1eebb72f29",
   "metadata": {},
   "outputs": [],
   "source": [
    "data_train['cut']= data_train['cut'].apply(lambda x: x.replace('Very Geod', 'Very Good'))"
   ]
  },
  {
   "cell_type": "code",
   "execution_count": 13,
   "id": "0caba33e-eed8-4f64-bb7d-d05faee7696e",
   "metadata": {},
   "outputs": [
    {
     "data": {
      "text/plain": [
       "array(['Very Good', 'Ideal', 'Good', 'Premium', 'Fair'], dtype=object)"
      ]
     },
     "execution_count": 13,
     "metadata": {},
     "output_type": "execute_result"
    }
   ],
   "source": [
    "data_train['cut'].unique()"
   ]
  },
  {
   "cell_type": "code",
   "execution_count": 14,
   "id": "0673daf1-a906-48a4-b945-0352146a1ea6",
   "metadata": {},
   "outputs": [
    {
     "data": {
      "text/plain": [
       "array(['F', 'I', 'E', 'G', 'H', 'J', 'D'], dtype=object)"
      ]
     },
     "execution_count": 14,
     "metadata": {},
     "output_type": "execute_result"
    }
   ],
   "source": [
    "data_train['color'].unique()"
   ]
  },
  {
   "cell_type": "code",
   "execution_count": 15,
   "id": "e6d0d5a6-5385-416e-8129-a0e26adf41a9",
   "metadata": {},
   "outputs": [
    {
     "data": {
      "text/plain": [
       "array(['SI2', 'VS2', 'VVS2', 'IF', 'SI1', 'VVS1', 'VS1', 'I1'],\n",
       "      dtype=object)"
      ]
     },
     "execution_count": 15,
     "metadata": {},
     "output_type": "execute_result"
    }
   ],
   "source": [
    "data_train['clarity'].unique()"
   ]
  },
  {
   "cell_type": "code",
   "execution_count": 22,
   "id": "4a57a80f-7d72-4fc5-85de-e4b68ad13ead",
   "metadata": {},
   "outputs": [],
   "source": [
    "clarity_= {'I1':1, 'SI2':2, 'SI1':3, 'VS2':4, 'VS1':5, 'VVS2':6, 'VVS1':7, 'IF':8} "
   ]
  },
  {
   "cell_type": "code",
   "execution_count": 23,
   "id": "b3ad1372-a5a6-45c7-a877-83800af40fde",
   "metadata": {},
   "outputs": [],
   "source": [
    "data_train['clarity']= data_train['clarity'].map(clarity_)"
   ]
  },
  {
   "cell_type": "code",
   "execution_count": 24,
   "id": "0cb7af0c-b6f4-4608-98cb-3bf564a4da8b",
   "metadata": {},
   "outputs": [],
   "source": [
    "cut_={'Fair':1, 'Good':2, 'Very Good':3, 'Premium':4,'Ideal':5}"
   ]
  },
  {
   "cell_type": "code",
   "execution_count": 25,
   "id": "af60a89b-76a8-4688-8e77-d2514810dcd2",
   "metadata": {},
   "outputs": [],
   "source": [
    "data_train['cut']= data_train['cut'].map(cut_)"
   ]
  },
  {
   "cell_type": "code",
   "execution_count": 26,
   "id": "468fb3a0-64c6-479c-b4a5-260f9f1c7a23",
   "metadata": {},
   "outputs": [],
   "source": [
    "color_={'J':1, 'I':2, 'H':3, 'G':4, 'F':5, 'E':6, 'D':7}"
   ]
  },
  {
   "cell_type": "code",
   "execution_count": 27,
   "id": "7671b8e1-4e00-4d51-bb0f-fe6ce95fc771",
   "metadata": {},
   "outputs": [],
   "source": [
    "data_train['color']= data_train['color'].map(color_)"
   ]
  },
  {
   "cell_type": "code",
   "execution_count": 28,
   "id": "d50fdc26-0237-4b3c-ac58-f8881f1b2bc3",
   "metadata": {},
   "outputs": [
    {
     "data": {
      "text/html": [
       "<div>\n",
       "<style scoped>\n",
       "    .dataframe tbody tr th:only-of-type {\n",
       "        vertical-align: middle;\n",
       "    }\n",
       "\n",
       "    .dataframe tbody tr th {\n",
       "        vertical-align: top;\n",
       "    }\n",
       "\n",
       "    .dataframe thead th {\n",
       "        text-align: right;\n",
       "    }\n",
       "</style>\n",
       "<table border=\"1\" class=\"dataframe\">\n",
       "  <thead>\n",
       "    <tr style=\"text-align: right;\">\n",
       "      <th></th>\n",
       "      <th>carat</th>\n",
       "      <th>cut</th>\n",
       "      <th>color</th>\n",
       "      <th>clarity</th>\n",
       "      <th>depth</th>\n",
       "      <th>table</th>\n",
       "      <th>price</th>\n",
       "      <th>x</th>\n",
       "      <th>y</th>\n",
       "      <th>z</th>\n",
       "    </tr>\n",
       "  </thead>\n",
       "  <tbody>\n",
       "    <tr>\n",
       "      <th>0</th>\n",
       "      <td>1.01</td>\n",
       "      <td>3</td>\n",
       "      <td>5</td>\n",
       "      <td>2</td>\n",
       "      <td>62.2</td>\n",
       "      <td>58.0</td>\n",
       "      <td>4332.0</td>\n",
       "      <td>6.33</td>\n",
       "      <td>6.38</td>\n",
       "      <td>3.95</td>\n",
       "    </tr>\n",
       "    <tr>\n",
       "      <th>1</th>\n",
       "      <td>0.90</td>\n",
       "      <td>3</td>\n",
       "      <td>2</td>\n",
       "      <td>4</td>\n",
       "      <td>61.4</td>\n",
       "      <td>58.0</td>\n",
       "      <td>4089.0</td>\n",
       "      <td>6.22</td>\n",
       "      <td>6.25</td>\n",
       "      <td>3.83</td>\n",
       "    </tr>\n",
       "    <tr>\n",
       "      <th>2</th>\n",
       "      <td>0.53</td>\n",
       "      <td>5</td>\n",
       "      <td>6</td>\n",
       "      <td>6</td>\n",
       "      <td>62.2</td>\n",
       "      <td>54.0</td>\n",
       "      <td>2273.0</td>\n",
       "      <td>5.19</td>\n",
       "      <td>5.23</td>\n",
       "      <td>3.24</td>\n",
       "    </tr>\n",
       "    <tr>\n",
       "      <th>3</th>\n",
       "      <td>0.32</td>\n",
       "      <td>5</td>\n",
       "      <td>2</td>\n",
       "      <td>8</td>\n",
       "      <td>60.8</td>\n",
       "      <td>54.0</td>\n",
       "      <td>673.0</td>\n",
       "      <td>4.44</td>\n",
       "      <td>4.47</td>\n",
       "      <td>2.71</td>\n",
       "    </tr>\n",
       "    <tr>\n",
       "      <th>4</th>\n",
       "      <td>1.06</td>\n",
       "      <td>5</td>\n",
       "      <td>4</td>\n",
       "      <td>6</td>\n",
       "      <td>61.0</td>\n",
       "      <td>57.0</td>\n",
       "      <td>7900.0</td>\n",
       "      <td>6.55</td>\n",
       "      <td>6.57</td>\n",
       "      <td>4.00</td>\n",
       "    </tr>\n",
       "  </tbody>\n",
       "</table>\n",
       "</div>"
      ],
      "text/plain": [
       "   carat  cut  color  clarity  depth  table   price     x     y     z\n",
       "0   1.01    3      5        2   62.2   58.0  4332.0  6.33  6.38  3.95\n",
       "1   0.90    3      2        4   61.4   58.0  4089.0  6.22  6.25  3.83\n",
       "2   0.53    5      6        6   62.2   54.0  2273.0  5.19  5.23  3.24\n",
       "3   0.32    5      2        8   60.8   54.0   673.0  4.44  4.47  2.71\n",
       "4   1.06    5      4        6   61.0   57.0  7900.0  6.55  6.57  4.00"
      ]
     },
     "execution_count": 28,
     "metadata": {},
     "output_type": "execute_result"
    }
   ],
   "source": [
    "data_train.head()"
   ]
  },
  {
   "cell_type": "code",
   "execution_count": 22,
   "id": "83e94de4-db93-43e7-8aae-27d68b0ed2ee",
   "metadata": {},
   "outputs": [
    {
     "data": {
      "text/plain": [
       "(35940, 11)"
      ]
     },
     "execution_count": 22,
     "metadata": {},
     "output_type": "execute_result"
    }
   ],
   "source": [
    "#data_train.shape"
   ]
  },
  {
   "cell_type": "code",
   "execution_count": 60,
   "id": "222de597-f9c7-4574-a3c7-0bb6ddc660a2",
   "metadata": {},
   "outputs": [],
   "source": [
    "data_test['cut']= data_test['cut'].apply(lambda x: x.replace('Very Geod', 'Very Good'))"
   ]
  },
  {
   "cell_type": "code",
   "execution_count": 61,
   "id": "fd372aa5-4610-4d3e-bf01-e2fd70e16015",
   "metadata": {},
   "outputs": [],
   "source": [
    "data_test['clarity']= data_test['clarity'].map(clarity_)\n",
    "data_test['cut']= data_test['cut'].map(cut_)\n",
    "data_test['color']= data_test['color'].map(color_)"
   ]
  },
  {
   "cell_type": "code",
   "execution_count": 62,
   "id": "dcfc4fdb-12b3-4c79-87a7-fd36d5fcd191",
   "metadata": {},
   "outputs": [],
   "source": [
    "id_test= data_test.id"
   ]
  },
  {
   "cell_type": "code",
   "execution_count": 63,
   "id": "bc97b18f-2589-4b42-8c43-52c460fa20a7",
   "metadata": {},
   "outputs": [
    {
     "data": {
      "text/html": [
       "<div>\n",
       "<style scoped>\n",
       "    .dataframe tbody tr th:only-of-type {\n",
       "        vertical-align: middle;\n",
       "    }\n",
       "\n",
       "    .dataframe tbody tr th {\n",
       "        vertical-align: top;\n",
       "    }\n",
       "\n",
       "    .dataframe thead th {\n",
       "        text-align: right;\n",
       "    }\n",
       "</style>\n",
       "<table border=\"1\" class=\"dataframe\">\n",
       "  <thead>\n",
       "    <tr style=\"text-align: right;\">\n",
       "      <th></th>\n",
       "      <th>carat</th>\n",
       "      <th>cut</th>\n",
       "      <th>color</th>\n",
       "      <th>clarity</th>\n",
       "      <th>depth</th>\n",
       "      <th>table</th>\n",
       "      <th>x</th>\n",
       "      <th>y</th>\n",
       "      <th>z</th>\n",
       "    </tr>\n",
       "  </thead>\n",
       "  <tbody>\n",
       "    <tr>\n",
       "      <th>0</th>\n",
       "      <td>0.70</td>\n",
       "      <td>2</td>\n",
       "      <td>1</td>\n",
       "      <td>6</td>\n",
       "      <td>64.3</td>\n",
       "      <td>56.0</td>\n",
       "      <td>5.57</td>\n",
       "      <td>5.63</td>\n",
       "      <td>3.60</td>\n",
       "    </tr>\n",
       "    <tr>\n",
       "      <th>1</th>\n",
       "      <td>0.31</td>\n",
       "      <td>4</td>\n",
       "      <td>6</td>\n",
       "      <td>6</td>\n",
       "      <td>61.9</td>\n",
       "      <td>58.0</td>\n",
       "      <td>4.38</td>\n",
       "      <td>4.35</td>\n",
       "      <td>2.70</td>\n",
       "    </tr>\n",
       "    <tr>\n",
       "      <th>2</th>\n",
       "      <td>0.84</td>\n",
       "      <td>4</td>\n",
       "      <td>5</td>\n",
       "      <td>3</td>\n",
       "      <td>59.0</td>\n",
       "      <td>59.0</td>\n",
       "      <td>6.18</td>\n",
       "      <td>6.13</td>\n",
       "      <td>3.63</td>\n",
       "    </tr>\n",
       "    <tr>\n",
       "      <th>3</th>\n",
       "      <td>1.03</td>\n",
       "      <td>1</td>\n",
       "      <td>6</td>\n",
       "      <td>3</td>\n",
       "      <td>65.1</td>\n",
       "      <td>58.0</td>\n",
       "      <td>6.35</td>\n",
       "      <td>6.24</td>\n",
       "      <td>4.10</td>\n",
       "    </tr>\n",
       "    <tr>\n",
       "      <th>4</th>\n",
       "      <td>1.20</td>\n",
       "      <td>4</td>\n",
       "      <td>1</td>\n",
       "      <td>3</td>\n",
       "      <td>60.5</td>\n",
       "      <td>59.0</td>\n",
       "      <td>6.84</td>\n",
       "      <td>6.79</td>\n",
       "      <td>4.12</td>\n",
       "    </tr>\n",
       "  </tbody>\n",
       "</table>\n",
       "</div>"
      ],
      "text/plain": [
       "   carat  cut  color  clarity  depth  table     x     y     z\n",
       "0   0.70    2      1        6   64.3   56.0  5.57  5.63  3.60\n",
       "1   0.31    4      6        6   61.9   58.0  4.38  4.35  2.70\n",
       "2   0.84    4      5        3   59.0   59.0  6.18  6.13  3.63\n",
       "3   1.03    1      6        3   65.1   58.0  6.35  6.24  4.10\n",
       "4   1.20    4      1        3   60.5   59.0  6.84  6.79  4.12"
      ]
     },
     "execution_count": 63,
     "metadata": {},
     "output_type": "execute_result"
    }
   ],
   "source": [
    "data_test = data_test.drop([\"id\"], axis=1)\n",
    "data_test.head()"
   ]
  },
  {
   "cell_type": "code",
   "execution_count": 64,
   "id": "6004bc07-f391-4405-9cfc-d2386fa3e3d1",
   "metadata": {},
   "outputs": [
    {
     "data": {
      "text/html": [
       "<div>\n",
       "<style scoped>\n",
       "    .dataframe tbody tr th:only-of-type {\n",
       "        vertical-align: middle;\n",
       "    }\n",
       "\n",
       "    .dataframe tbody tr th {\n",
       "        vertical-align: top;\n",
       "    }\n",
       "\n",
       "    .dataframe thead th {\n",
       "        text-align: right;\n",
       "    }\n",
       "</style>\n",
       "<table border=\"1\" class=\"dataframe\">\n",
       "  <thead>\n",
       "    <tr style=\"text-align: right;\">\n",
       "      <th></th>\n",
       "      <th>carat</th>\n",
       "      <th>cut</th>\n",
       "      <th>color</th>\n",
       "      <th>clarity</th>\n",
       "      <th>depth</th>\n",
       "      <th>table</th>\n",
       "      <th>x</th>\n",
       "      <th>y</th>\n",
       "      <th>z</th>\n",
       "    </tr>\n",
       "  </thead>\n",
       "  <tbody>\n",
       "    <tr>\n",
       "      <th>count</th>\n",
       "      <td>12000.000000</td>\n",
       "      <td>12000.000000</td>\n",
       "      <td>12000.000000</td>\n",
       "      <td>12000.000000</td>\n",
       "      <td>12000.000000</td>\n",
       "      <td>12000.000000</td>\n",
       "      <td>12000.000000</td>\n",
       "      <td>12000.000000</td>\n",
       "      <td>12000.000000</td>\n",
       "    </tr>\n",
       "    <tr>\n",
       "      <th>mean</th>\n",
       "      <td>0.908924</td>\n",
       "      <td>3.903167</td>\n",
       "      <td>4.423750</td>\n",
       "      <td>4.032917</td>\n",
       "      <td>61.729000</td>\n",
       "      <td>57.468917</td>\n",
       "      <td>5.739475</td>\n",
       "      <td>5.741841</td>\n",
       "      <td>3.543692</td>\n",
       "    </tr>\n",
       "    <tr>\n",
       "      <th>std</th>\n",
       "      <td>2.036678</td>\n",
       "      <td>1.114926</td>\n",
       "      <td>1.703407</td>\n",
       "      <td>1.640139</td>\n",
       "      <td>1.416593</td>\n",
       "      <td>2.243374</td>\n",
       "      <td>1.125192</td>\n",
       "      <td>1.116722</td>\n",
       "      <td>0.741702</td>\n",
       "    </tr>\n",
       "    <tr>\n",
       "      <th>min</th>\n",
       "      <td>0.200000</td>\n",
       "      <td>1.000000</td>\n",
       "      <td>1.000000</td>\n",
       "      <td>1.000000</td>\n",
       "      <td>50.800000</td>\n",
       "      <td>43.000000</td>\n",
       "      <td>0.000000</td>\n",
       "      <td>0.000000</td>\n",
       "      <td>0.000000</td>\n",
       "    </tr>\n",
       "    <tr>\n",
       "      <th>25%</th>\n",
       "      <td>0.400000</td>\n",
       "      <td>3.000000</td>\n",
       "      <td>3.000000</td>\n",
       "      <td>3.000000</td>\n",
       "      <td>61.000000</td>\n",
       "      <td>56.000000</td>\n",
       "      <td>4.720000</td>\n",
       "      <td>4.730000</td>\n",
       "      <td>2.920000</td>\n",
       "    </tr>\n",
       "    <tr>\n",
       "      <th>50%</th>\n",
       "      <td>0.710000</td>\n",
       "      <td>4.000000</td>\n",
       "      <td>4.000000</td>\n",
       "      <td>4.000000</td>\n",
       "      <td>61.800000</td>\n",
       "      <td>57.000000</td>\n",
       "      <td>5.700000</td>\n",
       "      <td>5.710000</td>\n",
       "      <td>3.530000</td>\n",
       "    </tr>\n",
       "    <tr>\n",
       "      <th>75%</th>\n",
       "      <td>1.040000</td>\n",
       "      <td>5.000000</td>\n",
       "      <td>6.000000</td>\n",
       "      <td>5.000000</td>\n",
       "      <td>62.500000</td>\n",
       "      <td>59.000000</td>\n",
       "      <td>6.540000</td>\n",
       "      <td>6.540000</td>\n",
       "      <td>4.030000</td>\n",
       "    </tr>\n",
       "    <tr>\n",
       "      <th>max</th>\n",
       "      <td>48.262046</td>\n",
       "      <td>5.000000</td>\n",
       "      <td>7.000000</td>\n",
       "      <td>8.000000</td>\n",
       "      <td>71.200000</td>\n",
       "      <td>70.000000</td>\n",
       "      <td>10.140000</td>\n",
       "      <td>10.100000</td>\n",
       "      <td>31.800000</td>\n",
       "    </tr>\n",
       "  </tbody>\n",
       "</table>\n",
       "</div>"
      ],
      "text/plain": [
       "              carat           cut         color       clarity         depth  \\\n",
       "count  12000.000000  12000.000000  12000.000000  12000.000000  12000.000000   \n",
       "mean       0.908924      3.903167      4.423750      4.032917     61.729000   \n",
       "std        2.036678      1.114926      1.703407      1.640139      1.416593   \n",
       "min        0.200000      1.000000      1.000000      1.000000     50.800000   \n",
       "25%        0.400000      3.000000      3.000000      3.000000     61.000000   \n",
       "50%        0.710000      4.000000      4.000000      4.000000     61.800000   \n",
       "75%        1.040000      5.000000      6.000000      5.000000     62.500000   \n",
       "max       48.262046      5.000000      7.000000      8.000000     71.200000   \n",
       "\n",
       "              table             x             y             z  \n",
       "count  12000.000000  12000.000000  12000.000000  12000.000000  \n",
       "mean      57.468917      5.739475      5.741841      3.543692  \n",
       "std        2.243374      1.125192      1.116722      0.741702  \n",
       "min       43.000000      0.000000      0.000000      0.000000  \n",
       "25%       56.000000      4.720000      4.730000      2.920000  \n",
       "50%       57.000000      5.700000      5.710000      3.530000  \n",
       "75%       59.000000      6.540000      6.540000      4.030000  \n",
       "max       70.000000     10.140000     10.100000     31.800000  "
      ]
     },
     "execution_count": 64,
     "metadata": {},
     "output_type": "execute_result"
    }
   ],
   "source": [
    "data_test.describe()"
   ]
  },
  {
   "cell_type": "code",
   "execution_count": 65,
   "id": "4a9cb97d-f187-4c4a-b391-dc381a248a52",
   "metadata": {},
   "outputs": [
    {
     "name": "stdout",
     "output_type": "stream",
     "text": [
      "<class 'pandas.core.frame.DataFrame'>\n",
      "RangeIndex: 12000 entries, 0 to 11999\n",
      "Data columns (total 9 columns):\n",
      " #   Column   Non-Null Count  Dtype  \n",
      "---  ------   --------------  -----  \n",
      " 0   carat    12000 non-null  float64\n",
      " 1   cut      12000 non-null  int64  \n",
      " 2   color    12000 non-null  int64  \n",
      " 3   clarity  12000 non-null  int64  \n",
      " 4   depth    12000 non-null  float64\n",
      " 5   table    12000 non-null  float64\n",
      " 6   x        12000 non-null  float64\n",
      " 7   y        12000 non-null  float64\n",
      " 8   z        12000 non-null  float64\n",
      "dtypes: float64(6), int64(3)\n",
      "memory usage: 843.9 KB\n"
     ]
    }
   ],
   "source": [
    "data_test.info()"
   ]
  },
  {
   "cell_type": "code",
   "execution_count": 25,
   "id": "0d77aab8-547c-4f73-83dd-c11ab2b84c55",
   "metadata": {},
   "outputs": [
    {
     "data": {
      "text/plain": [
       "18823.0"
      ]
     },
     "execution_count": 25,
     "metadata": {},
     "output_type": "execute_result"
    }
   ],
   "source": [
    "max_p=data_train['price'].max()\n",
    "max_p"
   ]
  },
  {
   "cell_type": "code",
   "execution_count": 26,
   "id": "e150dcbc-976a-4233-8d0e-70ae3f9e8b31",
   "metadata": {},
   "outputs": [
    {
     "data": {
      "text/plain": [
       "49.9903589324094"
      ]
     },
     "execution_count": 26,
     "metadata": {},
     "output_type": "execute_result"
    }
   ],
   "source": [
    "max_carat=data_train['carat'].max()\n",
    "max_carat"
   ]
  },
  {
   "cell_type": "code",
   "execution_count": 27,
   "id": "c5ae7ff7-f4d5-4f5f-89b0-d810bcd22d2e",
   "metadata": {},
   "outputs": [
    {
     "data": {
      "text/plain": [
       "326.0"
      ]
     },
     "execution_count": 27,
     "metadata": {},
     "output_type": "execute_result"
    }
   ],
   "source": [
    "min_p=data_train['price'].min()\n",
    "min_p"
   ]
  },
  {
   "cell_type": "code",
   "execution_count": 28,
   "id": "d9e91387-8dd1-416a-95ff-0a0a626f71f0",
   "metadata": {},
   "outputs": [
    {
     "data": {
      "text/plain": [
       "1"
      ]
     },
     "execution_count": 28,
     "metadata": {},
     "output_type": "execute_result"
    }
   ],
   "source": [
    "min_cut=data_train['cut'].min()\n",
    "min_cut"
   ]
  },
  {
   "cell_type": "code",
   "execution_count": 29,
   "id": "8efee57c-be98-4492-ac78-c2d29e08e4fa",
   "metadata": {},
   "outputs": [
    {
     "data": {
      "text/plain": [
       "0.0"
      ]
     },
     "execution_count": 29,
     "metadata": {},
     "output_type": "execute_result"
    }
   ],
   "source": [
    "min_x=data_train['x'].min()\n",
    "min_x"
   ]
  },
  {
   "cell_type": "code",
   "execution_count": 30,
   "id": "11e16057-f6fe-4c41-ac82-56960b578b11",
   "metadata": {},
   "outputs": [
    {
     "data": {
      "text/plain": [
       "0.0"
      ]
     },
     "execution_count": 30,
     "metadata": {},
     "output_type": "execute_result"
    }
   ],
   "source": [
    "min_y=data_train['y'].min()\n",
    "min_y"
   ]
  },
  {
   "cell_type": "code",
   "execution_count": 31,
   "id": "fdae8597-201b-4593-8195-124e27413633",
   "metadata": {},
   "outputs": [
    {
     "data": {
      "text/plain": [
       "0.0"
      ]
     },
     "execution_count": 31,
     "metadata": {},
     "output_type": "execute_result"
    }
   ],
   "source": [
    "min_z=data_train['z'].min()\n",
    "min_z"
   ]
  },
  {
   "cell_type": "code",
   "execution_count": 33,
   "id": "db2d514c-9bf7-45af-b503-c4591e841147",
   "metadata": {},
   "outputs": [
    {
     "data": {
      "text/plain": [
       "(35927, 11)"
      ]
     },
     "execution_count": 33,
     "metadata": {},
     "output_type": "execute_result"
    }
   ],
   "source": [
    "#data_train.shape"
   ]
  },
  {
   "cell_type": "code",
   "execution_count": 17,
   "id": "c689ac4b-ef04-4c1d-b6ad-38a784e400bd",
   "metadata": {},
   "outputs": [],
   "source": [
    "from sklearn.preprocessing import OneHotEncoder, LabelEncoder\n",
    "from sklearn.model_selection import train_test_split\n",
    "from sklearn.preprocessing import StandardScaler\n",
    "from sklearn.decomposition import PCA\n",
    "from sklearn.pipeline import Pipeline\n",
    "from sklearn.tree import DecisionTreeRegressor\n",
    "from sklearn.ensemble import RandomForestRegressor\n",
    "from sklearn.linear_model import LinearRegression\n",
    "from sklearn.neighbors import KNeighborsRegressor\n",
    "from sklearn.model_selection import cross_val_score\n",
    "from sklearn.metrics import mean_squared_error\n",
    "from sklearn import metrics"
   ]
  },
  {
   "cell_type": "code",
   "execution_count": 18,
   "id": "29854878-1b7c-41d6-bcba-e30be5f1d239",
   "metadata": {},
   "outputs": [],
   "source": [
    "import seaborn as sns"
   ]
  },
  {
   "cell_type": "code",
   "execution_count": 19,
   "id": "2facdbf5-857a-4d8e-8cff-a4fda24b69a5",
   "metadata": {},
   "outputs": [
    {
     "data": {
      "text/html": [
       "<div>\n",
       "<style scoped>\n",
       "    .dataframe tbody tr th:only-of-type {\n",
       "        vertical-align: middle;\n",
       "    }\n",
       "\n",
       "    .dataframe tbody tr th {\n",
       "        vertical-align: top;\n",
       "    }\n",
       "\n",
       "    .dataframe thead th {\n",
       "        text-align: right;\n",
       "    }\n",
       "</style>\n",
       "<table border=\"1\" class=\"dataframe\">\n",
       "  <thead>\n",
       "    <tr style=\"text-align: right;\">\n",
       "      <th></th>\n",
       "      <th>carat</th>\n",
       "      <th>cut</th>\n",
       "      <th>color</th>\n",
       "      <th>clarity</th>\n",
       "      <th>depth</th>\n",
       "      <th>table</th>\n",
       "      <th>price</th>\n",
       "      <th>x</th>\n",
       "      <th>y</th>\n",
       "      <th>z</th>\n",
       "    </tr>\n",
       "  </thead>\n",
       "  <tbody>\n",
       "    <tr>\n",
       "      <th>0</th>\n",
       "      <td>1.01</td>\n",
       "      <td>Very Good</td>\n",
       "      <td>F</td>\n",
       "      <td>SI2</td>\n",
       "      <td>62.2</td>\n",
       "      <td>58.0</td>\n",
       "      <td>4332.0</td>\n",
       "      <td>6.33</td>\n",
       "      <td>6.38</td>\n",
       "      <td>3.95</td>\n",
       "    </tr>\n",
       "    <tr>\n",
       "      <th>1</th>\n",
       "      <td>0.90</td>\n",
       "      <td>Very Good</td>\n",
       "      <td>I</td>\n",
       "      <td>VS2</td>\n",
       "      <td>61.4</td>\n",
       "      <td>58.0</td>\n",
       "      <td>4089.0</td>\n",
       "      <td>6.22</td>\n",
       "      <td>6.25</td>\n",
       "      <td>3.83</td>\n",
       "    </tr>\n",
       "    <tr>\n",
       "      <th>2</th>\n",
       "      <td>0.53</td>\n",
       "      <td>Ideal</td>\n",
       "      <td>E</td>\n",
       "      <td>VVS2</td>\n",
       "      <td>62.2</td>\n",
       "      <td>54.0</td>\n",
       "      <td>2273.0</td>\n",
       "      <td>5.19</td>\n",
       "      <td>5.23</td>\n",
       "      <td>3.24</td>\n",
       "    </tr>\n",
       "    <tr>\n",
       "      <th>3</th>\n",
       "      <td>0.32</td>\n",
       "      <td>Ideal</td>\n",
       "      <td>I</td>\n",
       "      <td>IF</td>\n",
       "      <td>60.8</td>\n",
       "      <td>54.0</td>\n",
       "      <td>673.0</td>\n",
       "      <td>4.44</td>\n",
       "      <td>4.47</td>\n",
       "      <td>2.71</td>\n",
       "    </tr>\n",
       "    <tr>\n",
       "      <th>4</th>\n",
       "      <td>1.06</td>\n",
       "      <td>Ideal</td>\n",
       "      <td>G</td>\n",
       "      <td>VVS2</td>\n",
       "      <td>61.0</td>\n",
       "      <td>57.0</td>\n",
       "      <td>7900.0</td>\n",
       "      <td>6.55</td>\n",
       "      <td>6.57</td>\n",
       "      <td>4.00</td>\n",
       "    </tr>\n",
       "  </tbody>\n",
       "</table>\n",
       "</div>"
      ],
      "text/plain": [
       "   carat        cut color clarity  depth  table   price     x     y     z\n",
       "0   1.01  Very Good     F     SI2   62.2   58.0  4332.0  6.33  6.38  3.95\n",
       "1   0.90  Very Good     I     VS2   61.4   58.0  4089.0  6.22  6.25  3.83\n",
       "2   0.53      Ideal     E    VVS2   62.2   54.0  2273.0  5.19  5.23  3.24\n",
       "3   0.32      Ideal     I      IF   60.8   54.0   673.0  4.44  4.47  2.71\n",
       "4   1.06      Ideal     G    VVS2   61.0   57.0  7900.0  6.55  6.57  4.00"
      ]
     },
     "execution_count": 19,
     "metadata": {},
     "output_type": "execute_result"
    }
   ],
   "source": [
    "#Eliminando el indice\n",
    "data_train = data_train.drop([\"id\"], axis=1)\n",
    "data_train.head()"
   ]
  },
  {
   "cell_type": "code",
   "execution_count": 38,
   "id": "48a03ace-c227-4d49-a9f1-2e688e97789b",
   "metadata": {},
   "outputs": [],
   "source": [
    "# copia de los datos originales\n",
    "data_copy = data_train.copy()"
   ]
  },
  {
   "cell_type": "code",
   "execution_count": 29,
   "id": "74b341ab-f423-4074-85df-dca0cc7628ed",
   "metadata": {},
   "outputs": [
    {
     "data": {
      "text/html": [
       "<div>\n",
       "<style scoped>\n",
       "    .dataframe tbody tr th:only-of-type {\n",
       "        vertical-align: middle;\n",
       "    }\n",
       "\n",
       "    .dataframe tbody tr th {\n",
       "        vertical-align: top;\n",
       "    }\n",
       "\n",
       "    .dataframe thead th {\n",
       "        text-align: right;\n",
       "    }\n",
       "</style>\n",
       "<table border=\"1\" class=\"dataframe\">\n",
       "  <thead>\n",
       "    <tr style=\"text-align: right;\">\n",
       "      <th></th>\n",
       "      <th>carat</th>\n",
       "      <th>cut</th>\n",
       "      <th>color</th>\n",
       "      <th>clarity</th>\n",
       "      <th>depth</th>\n",
       "      <th>table</th>\n",
       "      <th>price</th>\n",
       "      <th>x</th>\n",
       "      <th>y</th>\n",
       "      <th>z</th>\n",
       "    </tr>\n",
       "  </thead>\n",
       "  <tbody>\n",
       "    <tr>\n",
       "      <th>count</th>\n",
       "      <td>35940.000000</td>\n",
       "      <td>35940.000000</td>\n",
       "      <td>35940.000000</td>\n",
       "      <td>35940.000000</td>\n",
       "      <td>35940.000000</td>\n",
       "      <td>35940.000000</td>\n",
       "      <td>35940.000000</td>\n",
       "      <td>35940.000000</td>\n",
       "      <td>35940.000000</td>\n",
       "      <td>35940.000000</td>\n",
       "    </tr>\n",
       "    <tr>\n",
       "      <th>mean</th>\n",
       "      <td>0.907500</td>\n",
       "      <td>3.904897</td>\n",
       "      <td>4.396272</td>\n",
       "      <td>4.058932</td>\n",
       "      <td>61.756210</td>\n",
       "      <td>57.461753</td>\n",
       "      <td>3930.117835</td>\n",
       "      <td>5.728928</td>\n",
       "      <td>5.731430</td>\n",
       "      <td>3.537112</td>\n",
       "    </tr>\n",
       "    <tr>\n",
       "      <th>std</th>\n",
       "      <td>2.098015</td>\n",
       "      <td>1.115906</td>\n",
       "      <td>1.699530</td>\n",
       "      <td>1.648053</td>\n",
       "      <td>1.431872</td>\n",
       "      <td>2.240414</td>\n",
       "      <td>3982.706797</td>\n",
       "      <td>1.121504</td>\n",
       "      <td>1.121685</td>\n",
       "      <td>0.695298</td>\n",
       "    </tr>\n",
       "    <tr>\n",
       "      <th>min</th>\n",
       "      <td>0.200000</td>\n",
       "      <td>1.000000</td>\n",
       "      <td>1.000000</td>\n",
       "      <td>1.000000</td>\n",
       "      <td>43.000000</td>\n",
       "      <td>44.000000</td>\n",
       "      <td>326.000000</td>\n",
       "      <td>0.000000</td>\n",
       "      <td>0.000000</td>\n",
       "      <td>0.000000</td>\n",
       "    </tr>\n",
       "    <tr>\n",
       "      <th>25%</th>\n",
       "      <td>0.400000</td>\n",
       "      <td>3.000000</td>\n",
       "      <td>3.000000</td>\n",
       "      <td>3.000000</td>\n",
       "      <td>61.100000</td>\n",
       "      <td>56.000000</td>\n",
       "      <td>949.000000</td>\n",
       "      <td>4.710000</td>\n",
       "      <td>4.720000</td>\n",
       "      <td>2.910000</td>\n",
       "    </tr>\n",
       "    <tr>\n",
       "      <th>50%</th>\n",
       "      <td>0.700000</td>\n",
       "      <td>4.000000</td>\n",
       "      <td>4.000000</td>\n",
       "      <td>4.000000</td>\n",
       "      <td>61.900000</td>\n",
       "      <td>57.000000</td>\n",
       "      <td>2394.000000</td>\n",
       "      <td>5.690000</td>\n",
       "      <td>5.710000</td>\n",
       "      <td>3.520000</td>\n",
       "    </tr>\n",
       "    <tr>\n",
       "      <th>75%</th>\n",
       "      <td>1.050000</td>\n",
       "      <td>5.000000</td>\n",
       "      <td>6.000000</td>\n",
       "      <td>5.000000</td>\n",
       "      <td>62.500000</td>\n",
       "      <td>59.000000</td>\n",
       "      <td>5362.250000</td>\n",
       "      <td>6.540000</td>\n",
       "      <td>6.540000</td>\n",
       "      <td>4.040000</td>\n",
       "    </tr>\n",
       "    <tr>\n",
       "      <th>max</th>\n",
       "      <td>49.990359</td>\n",
       "      <td>5.000000</td>\n",
       "      <td>7.000000</td>\n",
       "      <td>8.000000</td>\n",
       "      <td>79.000000</td>\n",
       "      <td>95.000000</td>\n",
       "      <td>18823.000000</td>\n",
       "      <td>10.230000</td>\n",
       "      <td>31.800000</td>\n",
       "      <td>6.720000</td>\n",
       "    </tr>\n",
       "  </tbody>\n",
       "</table>\n",
       "</div>"
      ],
      "text/plain": [
       "              carat           cut         color       clarity         depth  \\\n",
       "count  35940.000000  35940.000000  35940.000000  35940.000000  35940.000000   \n",
       "mean       0.907500      3.904897      4.396272      4.058932     61.756210   \n",
       "std        2.098015      1.115906      1.699530      1.648053      1.431872   \n",
       "min        0.200000      1.000000      1.000000      1.000000     43.000000   \n",
       "25%        0.400000      3.000000      3.000000      3.000000     61.100000   \n",
       "50%        0.700000      4.000000      4.000000      4.000000     61.900000   \n",
       "75%        1.050000      5.000000      6.000000      5.000000     62.500000   \n",
       "max       49.990359      5.000000      7.000000      8.000000     79.000000   \n",
       "\n",
       "              table         price             x             y             z  \n",
       "count  35940.000000  35940.000000  35940.000000  35940.000000  35940.000000  \n",
       "mean      57.461753   3930.117835      5.728928      5.731430      3.537112  \n",
       "std        2.240414   3982.706797      1.121504      1.121685      0.695298  \n",
       "min       44.000000    326.000000      0.000000      0.000000      0.000000  \n",
       "25%       56.000000    949.000000      4.710000      4.720000      2.910000  \n",
       "50%       57.000000   2394.000000      5.690000      5.710000      3.520000  \n",
       "75%       59.000000   5362.250000      6.540000      6.540000      4.040000  \n",
       "max       95.000000  18823.000000     10.230000     31.800000      6.720000  "
      ]
     },
     "execution_count": 29,
     "metadata": {},
     "output_type": "execute_result"
    }
   ],
   "source": [
    "data_train.describe()"
   ]
  },
  {
   "cell_type": "code",
   "execution_count": 30,
   "id": "6793d369-4e47-4bbf-b520-5960948afd8c",
   "metadata": {},
   "outputs": [
    {
     "data": {
      "text/plain": [
       "<AxesSubplot:>"
      ]
     },
     "execution_count": 30,
     "metadata": {},
     "output_type": "execute_result"
    },
    {
     "data": {
      "image/png": "[encoded data removed]",
      "text/plain": [
       "<Figure size 864x864 with 2 Axes>"
      ]
     },
     "metadata": {
      "needs_background": "light"
     },
     "output_type": "display_data"
    }
   ],
   "source": [
    "cmap = sns.diverging_palette(70,20,s=50, l=40, n=6,as_cmap=True)\n",
    "corrmat= data_train.corr()\n",
    "f, ax = plt.subplots(figsize=(12,12))\n",
    "sns.heatmap(corrmat,cmap=cmap,annot=True, )"
   ]
  },
  {
   "cell_type": "code",
   "execution_count": 41,
   "id": "161ebff0-6198-4613-941d-bdbf60f33b58",
   "metadata": {},
   "outputs": [],
   "source": [
    "from sklearn.pipeline import Pipeline"
   ]
  },
  {
   "cell_type": "code",
   "execution_count": null,
   "id": "ad52dde3-8ca5-4cde-990f-cd0ea55648c2",
   "metadata": {},
   "outputs": [],
   "source": []
  },
  {
   "cell_type": "code",
   "execution_count": 31,
   "id": "fb2ab2f2-b92b-41a1-a60c-5edd4ceaf3a4",
   "metadata": {},
   "outputs": [],
   "source": [
    "# asignando caracteristicas como X y el valor buscado como y\n",
    "X= data_train.drop([\"price\"],axis =1)\n",
    "y= data_train[\"price\"]\n",
    "X_train, X_test, y_train, y_test = train_test_split(X, y,test_size=0.25, random_state=7)"
   ]
  },
  {
   "cell_type": "code",
   "execution_count": 36,
   "id": "9eafff71-f9ba-4584-8356-b1c717ba41f4",
   "metadata": {},
   "outputs": [
    {
     "data": {
      "text/plain": [
       "((26955, 9), (8985, 9), (26955,), (8985,))"
      ]
     },
     "execution_count": 36,
     "metadata": {},
     "output_type": "execute_result"
    }
   ],
   "source": [
    "X_train.shape, X_test.shape, y_train.shape,  y_test.shape"
   ]
  },
  {
   "cell_type": "code",
   "execution_count": 37,
   "id": "998dabdd-7fe5-468a-ad1b-c4476a2bd48b",
   "metadata": {},
   "outputs": [],
   "source": [
    "rf= RandomForestRegressor() #inicializamos la variable"
   ]
  },
  {
   "cell_type": "code",
   "execution_count": 39,
   "id": "23081f99-b581-4da5-93f3-9e3c14b0bafa",
   "metadata": {},
   "outputs": [
    {
     "data": {
      "text/plain": [
       "RandomForestRegressor()"
      ]
     },
     "execution_count": 39,
     "metadata": {},
     "output_type": "execute_result"
    }
   ],
   "source": [
    "rf.fit(X_train,y_train) #Entrenamos el modelo"
   ]
  },
  {
   "cell_type": "code",
   "execution_count": 40,
   "id": "55eb5aa3-59eb-403a-a946-7e47ccd761aa",
   "metadata": {},
   "outputs": [
    {
     "data": {
      "text/plain": [
       "0.9970667378190037"
      ]
     },
     "execution_count": 40,
     "metadata": {},
     "output_type": "execute_result"
    }
   ],
   "source": [
    "rf.score(X_train,y_train) #Sacamos el Score del train"
   ]
  },
  {
   "cell_type": "code",
   "execution_count": 41,
   "id": "7f0d963a-41b9-4695-8ccd-13cee0cb2eb8",
   "metadata": {},
   "outputs": [
    {
     "data": {
      "text/plain": [
       "0.9800702857217909"
      ]
     },
     "execution_count": 41,
     "metadata": {},
     "output_type": "execute_result"
    }
   ],
   "source": [
    "rf.score(X_test,y_test) #Sacamos el score del test"
   ]
  },
  {
   "cell_type": "code",
   "execution_count": 42,
   "id": "4e998a38-070f-4b01-ae32-20a09a2b14c9",
   "metadata": {},
   "outputs": [
    {
     "data": {
      "text/plain": [
       "RandomForestRegressor()"
      ]
     },
     "execution_count": 42,
     "metadata": {},
     "output_type": "execute_result"
    }
   ],
   "source": [
    "rf.fit(X,y) #Entrenamos el modelo completo"
   ]
  },
  {
   "cell_type": "code",
   "execution_count": 43,
   "id": "59a2ac36-6200-4120-b19e-ee79553215e9",
   "metadata": {},
   "outputs": [
    {
     "data": {
      "text/plain": [
       "0.9972177057845117"
      ]
     },
     "execution_count": 43,
     "metadata": {},
     "output_type": "execute_result"
    }
   ],
   "source": [
    "rf.score(X,y) #Vemos el score del modelo completo "
   ]
  },
  {
   "cell_type": "code",
   "execution_count": 46,
   "id": "7ce6b66b-4995-4005-b51c-be5b955d373a",
   "metadata": {},
   "outputs": [],
   "source": [
    "predict= rf.predict(X_test) #Hacemos una predicción"
   ]
  },
  {
   "cell_type": "code",
   "execution_count": 45,
   "id": "b64e1972-3902-49bc-9588-228ac2d90c29",
   "metadata": {},
   "outputs": [],
   "source": [
    "from sklearn.metrics import mean_squared_error"
   ]
  },
  {
   "cell_type": "code",
   "execution_count": 47,
   "id": "2fec6f8e-e705-4bfc-9ff0-47c4a4419bab",
   "metadata": {},
   "outputs": [
    {
     "data": {
      "text/plain": [
       "205.374660770067"
      ]
     },
     "execution_count": 47,
     "metadata": {},
     "output_type": "execute_result"
    }
   ],
   "source": [
    "mean_squared_error(y_test, predict, squared=False) #vemos el mse de mi predicción"
   ]
  },
  {
   "cell_type": "code",
   "execution_count": 66,
   "id": "bdb6ce03-ce1f-4754-bd17-bb7fa930758c",
   "metadata": {},
   "outputs": [],
   "source": [
    "predict_test =rf.predict(data_test) #Ahora si hacemos la predicción del data test"
   ]
  },
  {
   "cell_type": "code",
   "execution_count": 67,
   "id": "25f67e2e-22b9-4c36-bb96-5066d9372727",
   "metadata": {},
   "outputs": [],
   "source": [
    "solution =pd.DataFrame() #creamos el dataframe"
   ]
  },
  {
   "cell_type": "code",
   "execution_count": 68,
   "id": "51bebad8-94a4-476a-a558-479051ff0051",
   "metadata": {},
   "outputs": [],
   "source": [
    "solution['price'] = predict_test #sacamos el precio del predict_test"
   ]
  },
  {
   "cell_type": "code",
   "execution_count": 69,
   "id": "0a56b653-a4fd-498a-9043-88fc77a021ac",
   "metadata": {},
   "outputs": [],
   "source": [
    "solution['id'] = id_test #sacamos el id previamente guardado del data_test"
   ]
  },
  {
   "cell_type": "code",
   "execution_count": 70,
   "id": "ea24a8ac-0745-4aa7-b49c-6f9eb2f9a3f0",
   "metadata": {},
   "outputs": [
    {
     "data": {
      "text/html": [
       "<div>\n",
       "<style scoped>\n",
       "    .dataframe tbody tr th:only-of-type {\n",
       "        vertical-align: middle;\n",
       "    }\n",
       "\n",
       "    .dataframe tbody tr th {\n",
       "        vertical-align: top;\n",
       "    }\n",
       "\n",
       "    .dataframe thead th {\n",
       "        text-align: right;\n",
       "    }\n",
       "</style>\n",
       "<table border=\"1\" class=\"dataframe\">\n",
       "  <thead>\n",
       "    <tr style=\"text-align: right;\">\n",
       "      <th></th>\n",
       "      <th>price</th>\n",
       "      <th>id</th>\n",
       "    </tr>\n",
       "  </thead>\n",
       "  <tbody>\n",
       "    <tr>\n",
       "      <th>0</th>\n",
       "      <td>1841.43</td>\n",
       "      <td>0</td>\n",
       "    </tr>\n",
       "    <tr>\n",
       "      <th>1</th>\n",
       "      <td>1027.43</td>\n",
       "      <td>1</td>\n",
       "    </tr>\n",
       "    <tr>\n",
       "      <th>2</th>\n",
       "      <td>3175.60</td>\n",
       "      <td>2</td>\n",
       "    </tr>\n",
       "    <tr>\n",
       "      <th>3</th>\n",
       "      <td>4790.07</td>\n",
       "      <td>3</td>\n",
       "    </tr>\n",
       "    <tr>\n",
       "      <th>4</th>\n",
       "      <td>4713.03</td>\n",
       "      <td>4</td>\n",
       "    </tr>\n",
       "    <tr>\n",
       "      <th>...</th>\n",
       "      <td>...</td>\n",
       "      <td>...</td>\n",
       "    </tr>\n",
       "    <tr>\n",
       "      <th>11995</th>\n",
       "      <td>7983.56</td>\n",
       "      <td>11995</td>\n",
       "    </tr>\n",
       "    <tr>\n",
       "      <th>11996</th>\n",
       "      <td>1022.09</td>\n",
       "      <td>11996</td>\n",
       "    </tr>\n",
       "    <tr>\n",
       "      <th>11997</th>\n",
       "      <td>15579.07</td>\n",
       "      <td>11997</td>\n",
       "    </tr>\n",
       "    <tr>\n",
       "      <th>11998</th>\n",
       "      <td>5256.29</td>\n",
       "      <td>11998</td>\n",
       "    </tr>\n",
       "    <tr>\n",
       "      <th>11999</th>\n",
       "      <td>7191.81</td>\n",
       "      <td>11999</td>\n",
       "    </tr>\n",
       "  </tbody>\n",
       "</table>\n",
       "<p>12000 rows × 2 columns</p>\n",
       "</div>"
      ],
      "text/plain": [
       "          price     id\n",
       "0       1841.43      0\n",
       "1       1027.43      1\n",
       "2       3175.60      2\n",
       "3       4790.07      3\n",
       "4       4713.03      4\n",
       "...         ...    ...\n",
       "11995   7983.56  11995\n",
       "11996   1022.09  11996\n",
       "11997  15579.07  11997\n",
       "11998   5256.29  11998\n",
       "11999   7191.81  11999\n",
       "\n",
       "[12000 rows x 2 columns]"
      ]
     },
     "execution_count": 70,
     "metadata": {},
     "output_type": "execute_result"
    }
   ],
   "source": [
    "solution"
   ]
  },
  {
   "cell_type": "code",
   "execution_count": 71,
   "id": "47fdccc6-f8c4-406a-b276-d9c6de8201d1",
   "metadata": {},
   "outputs": [],
   "source": [
    "solution.to_csv('prediction_1.csv',index =False) #creamos el csv"
   ]
  },
  {
   "cell_type": "code",
   "execution_count": null,
   "id": "3f4decb7-840a-4f51-9d73-53938670dd1a",
   "metadata": {},
   "outputs": [],
   "source": []
  }
 ],
 "metadata": {
  "kernelspec": {
   "display_name": "Python 3",
   "language": "python",
   "name": "python3"
  },
  "language_info": {
   "codemirror_mode": {
    "name": "ipython",
    "version": 3
   },
   "file_extension": ".py",
   "mimetype": "text/x-python",
   "name": "python",
   "nbconvert_exporter": "python",
   "pygments_lexer": "ipython3",
   "version": "3.8.8"
  }
 },
 "nbformat": 4,
 "nbformat_minor": 5
}
