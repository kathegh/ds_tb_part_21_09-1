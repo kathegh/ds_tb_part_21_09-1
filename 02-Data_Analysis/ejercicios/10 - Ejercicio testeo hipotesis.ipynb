{
 "cells": [
  {
   "cell_type": "markdown",
   "id": "36388f44",
   "metadata": {},
   "source": [
    "![imagen](../images/ejercicios.png)"
   ]
  },
  {
   "cell_type": "markdown",
   "id": "ee03856d",
   "metadata": {},
   "source": [
    "# Ejercicio 1 \n",
    "\n",
    "Importa los datos alojados en `../data/Current_Employee_Names__Salaries__and_Position_Titles.csv` y revisa cuantos valores nulos tiene el dataframe."
   ]
  },
  {
   "cell_type": "code",
   "execution_count": null,
   "id": "be29319b",
   "metadata": {},
   "outputs": [],
   "source": []
  },
  {
   "cell_type": "code",
   "execution_count": null,
   "id": "859f7841",
   "metadata": {},
   "outputs": [],
   "source": []
  },
  {
   "cell_type": "markdown",
   "id": "67ab5257",
   "metadata": {},
   "source": [
    "# Ejercicio 2\n",
    "\n",
    "¿Cuantas personas cobran un salario fijo y cuantas cobran por hora?. ¿Cuantas posiciones laborales hay?"
   ]
  },
  {
   "cell_type": "code",
   "execution_count": null,
   "id": "85afd928",
   "metadata": {},
   "outputs": [],
   "source": []
  },
  {
   "cell_type": "code",
   "execution_count": null,
   "id": "66162a48",
   "metadata": {},
   "outputs": [],
   "source": []
  },
  {
   "cell_type": "markdown",
   "id": "9bdd7df4",
   "metadata": {},
   "source": [
    "# Ejercicio 3\n",
    "\n",
    "Nos gustaría saber si el sueldo para las personas que cobran por horas es significativamente mayor que 30$/hr. Realiza el testeo de hipotesis correspondiente y comentalo."
   ]
  },
  {
   "cell_type": "code",
   "execution_count": null,
   "id": "a6f82385",
   "metadata": {},
   "outputs": [],
   "source": []
  },
  {
   "cell_type": "code",
   "execution_count": null,
   "id": "c42362fe",
   "metadata": {},
   "outputs": [],
   "source": []
  },
  {
   "cell_type": "markdown",
   "id": "3fcf2166",
   "metadata": {},
   "source": [
    "# Ejercicio 4\n",
    "\n",
    "Para las personas que cobran anualmente, ¿el sueldo es significativamente menor que 85000$?"
   ]
  },
  {
   "cell_type": "code",
   "execution_count": null,
   "id": "9b725b4a",
   "metadata": {},
   "outputs": [],
   "source": []
  },
  {
   "cell_type": "code",
   "execution_count": null,
   "id": "2635e492",
   "metadata": {},
   "outputs": [],
   "source": []
  },
  {
   "cell_type": "markdown",
   "id": "41d31293",
   "metadata": {},
   "source": [
    "# Ejercicio 5\n",
    "\n",
    "El jefe de policia nos dice que su gente cobra de media 86000$. Realiza el test de hipotesis de dos colas."
   ]
  },
  {
   "cell_type": "code",
   "execution_count": null,
   "id": "c8719054",
   "metadata": {},
   "outputs": [],
   "source": []
  },
  {
   "cell_type": "code",
   "execution_count": null,
   "id": "a1b3652a",
   "metadata": {},
   "outputs": [],
   "source": []
  },
  {
   "cell_type": "markdown",
   "id": "e1571f29",
   "metadata": {},
   "source": [
    "# Ejercicio 6\n",
    "\n",
    "El departamento con mas personas cobrando por hora se queja de que su sueldo es menor que 35$/hr. ¿Es eso cierto?"
   ]
  },
  {
   "cell_type": "code",
   "execution_count": null,
   "id": "450068c8",
   "metadata": {},
   "outputs": [],
   "source": []
  },
  {
   "cell_type": "code",
   "execution_count": null,
   "id": "a9dde6fa",
   "metadata": {},
   "outputs": [],
   "source": []
  },
  {
   "cell_type": "markdown",
   "id": "34428f3a",
   "metadata": {},
   "source": [
    "# Ejercicio 7\n",
    "\n",
    "Para intervalos de confianza con el t-test, se usa la funcion [t.interval](https://docs.scipy.org/doc/scipy-0.14.0/reference/generated/scipy.stats.t.html). Calcula el intervalo de confianza del 95% para la media de sueldo por hora.\n"
   ]
  },
  {
   "cell_type": "code",
   "execution_count": null,
   "id": "62d02667",
   "metadata": {},
   "outputs": [],
   "source": []
  },
  {
   "cell_type": "code",
   "execution_count": null,
   "id": "f4548893",
   "metadata": {},
   "outputs": [],
   "source": []
  },
  {
   "cell_type": "markdown",
   "id": "9a0448f0",
   "metadata": {},
   "source": [
    "# Ejercicio 8\n",
    "\n",
    "Construye el intervalo de confianza del 95% para el salario de la policia."
   ]
  },
  {
   "cell_type": "code",
   "execution_count": null,
   "id": "ac241856",
   "metadata": {},
   "outputs": [],
   "source": []
  },
  {
   "cell_type": "code",
   "execution_count": null,
   "id": "14455e26",
   "metadata": {},
   "outputs": [],
   "source": []
  },
  {
   "cell_type": "markdown",
   "id": "8a4c8f31",
   "metadata": {},
   "source": [
    "# Ejercicio 9\n",
    "\n",
    "¿El numero de personas que trabajan por hora es significativamente diferente del 25% de personas? Realiza un test de proporcion con `proportions_ztest`."
   ]
  },
  {
   "cell_type": "code",
   "execution_count": null,
   "id": "39e2119b",
   "metadata": {},
   "outputs": [],
   "source": []
  },
  {
   "cell_type": "code",
   "execution_count": null,
   "id": "1fb5f5c1",
   "metadata": {},
   "outputs": [],
   "source": []
  },
  {
   "cell_type": "markdown",
   "id": "c92ba6e0",
   "metadata": {},
   "source": [
    "# Ejercicio 10\n",
    "\n",
    "**AB-Test**\n",
    "\n",
    "\n",
    "Imaginad que somos los cientificos de datos de la empresa de videojuegos Tactile Entertainment. Los desarrolladores del juego Cookie Cats pretenden introducir un cambio en el juego para aumentar la retencion de los jugadores. En cierto nivel del juego los jugadores se encuentran una puerta que les obliga a esperar o a pagar la app. Actualmente la puerta se encuentra en nivel 30 y se pretende pasar al nivel 40, para comprobar la retencion a 1 y 7 dias. Antes de realizar el cambio definitivo en el juego se raliza un test AB.\n",
    "\n",
    "Los datos estan alojados en `../data/cookie_cats.csv`. Nuestro grupo de control sera la version actual `gate_30` y el grupo de tratamiento sera la version `gate_40`. Debemos realizar el test para 1 dia de retencion `retention_1` y para 7 dias `retention_7`."
   ]
  },
  {
   "cell_type": "code",
   "execution_count": null,
   "id": "ac3b2f52",
   "metadata": {},
   "outputs": [],
   "source": []
  },
  {
   "cell_type": "code",
   "execution_count": null,
   "id": "7fe515c2",
   "metadata": {},
   "outputs": [],
   "source": []
  },
  {
   "cell_type": "code",
   "execution_count": null,
   "id": "f2e6147a",
   "metadata": {},
   "outputs": [],
   "source": []
  },
  {
   "cell_type": "code",
   "execution_count": null,
   "id": "f13dd747",
   "metadata": {},
   "outputs": [],
   "source": []
  }
 ],
 "metadata": {
  "kernelspec": {
   "display_name": "clase",
   "language": "python",
   "name": "clase"
  },
  "language_info": {
   "codemirror_mode": {
    "name": "ipython",
    "version": 3
   },
   "file_extension": ".py",
   "mimetype": "text/x-python",
   "name": "python",
   "nbconvert_exporter": "python",
   "pygments_lexer": "ipython3",
   "version": "3.8.8"
  }
 },
 "nbformat": 4,
 "nbformat_minor": 5
}
