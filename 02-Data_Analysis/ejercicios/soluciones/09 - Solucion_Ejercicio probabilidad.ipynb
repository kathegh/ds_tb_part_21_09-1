{
 "cells": [
  {
   "cell_type": "markdown",
   "id": "86f5671e",
   "metadata": {},
   "source": [
    "![imagen](../../images/ejercicios.png)"
   ]
  },
  {
   "cell_type": "markdown",
   "id": "5570d3f3",
   "metadata": {},
   "source": [
    "# Ejercicio 1 \n",
    "\n",
    "**Bernoulli**\n",
    "\n",
    "Supongamos que tenemos una cesta con manzanas y peras. Hay 60 manzanas y 40 peras.\n",
    "\n",
    "Si cogemos aleatoriamente una fruta de la cesta:\n",
    "1. ¿Cuál es la probabilidad de que la fruta sea una manzana? \n",
    "2. ¿Cuál es la probabilidad de que la fruta sea una pera? "
   ]
  },
  {
   "cell_type": "code",
   "execution_count": 1,
   "id": "5a69e9d9",
   "metadata": {},
   "outputs": [],
   "source": [
    "p = 6/10    # probabilidad de manzana\n",
    "q = 4/10    # probabilidad de pera (q=1-p)"
   ]
  },
  {
   "cell_type": "code",
   "execution_count": 2,
   "id": "d38724ed",
   "metadata": {},
   "outputs": [
    {
     "data": {
      "text/plain": [
       "(0.6, 0.4)"
      ]
     },
     "execution_count": 2,
     "metadata": {},
     "output_type": "execute_result"
    }
   ],
   "source": [
    "p, q"
   ]
  },
  {
   "cell_type": "markdown",
   "id": "a22d2a71",
   "metadata": {},
   "source": [
    "# Ejercicio 2\n",
    "\n",
    "Ahora cogemos 20 frutas de la cesta.\n",
    "\n",
    "¿Cuál es la probabilidad de que las 5 primeras frutas sean manzanas?\n",
    "\n",
    "**Tip: $p^{n}·(1-p)^{N-n}$**\n",
    "\n",
    "donde:\n",
    "+ N:= nº total \n",
    "+ n:= nº de exitos"
   ]
  },
  {
   "cell_type": "code",
   "execution_count": 3,
   "id": "17ce1e7d",
   "metadata": {},
   "outputs": [
    {
     "data": {
      "text/plain": [
       "8.349416423424006e-08"
      ]
     },
     "execution_count": 3,
     "metadata": {},
     "output_type": "execute_result"
    }
   ],
   "source": [
    "(p**5)*(q**15)"
   ]
  },
  {
   "cell_type": "markdown",
   "id": "5d690ee8",
   "metadata": {},
   "source": [
    "# Ejercicio 3\n",
    "\n",
    "**Binomial**\n",
    "\n",
    "Similar al anterior problema, volvemos a coger 20 frutas.\n",
    "\n",
    "¿Cuál es la probabilidad de que sean 5 manzanas y 15 peras?\n",
    "\n",
    "**Nota: no estamos considerando el orden.**"
   ]
  },
  {
   "cell_type": "code",
   "execution_count": 4,
   "id": "0a9b0f38",
   "metadata": {},
   "outputs": [
    {
     "data": {
      "text/plain": [
       "0.0012944935222876511"
      ]
     },
     "execution_count": 4,
     "metadata": {},
     "output_type": "execute_result"
    }
   ],
   "source": [
    "# con reemplazamiento\n",
    "\n",
    "from scipy.stats import binom\n",
    "\n",
    "binom.pmf(5, 20, p)"
   ]
  },
  {
   "cell_type": "code",
   "execution_count": 5,
   "id": "3031e9d9",
   "metadata": {},
   "outputs": [
    {
     "data": {
      "text/plain": [
       "0.00040988436742350564"
      ]
     },
     "execution_count": 5,
     "metadata": {},
     "output_type": "execute_result"
    }
   ],
   "source": [
    "# sin reemplazamiento\n",
    "# https://docs.scipy.org/doc/scipy/reference/generated/scipy.stats.hypergeom.html\n",
    "\n",
    "from scipy.stats import hypergeom\n",
    "\n",
    "hypergeom.pmf(5, 100, 60, 20)  \n",
    "\n",
    "# hypergeom.pmf(exitos, tamaño_espacio_muestral, numero_total_busqueda, tamaño_muestra)"
   ]
  },
  {
   "cell_type": "markdown",
   "id": "b923f546",
   "metadata": {},
   "source": [
    "# Ejercicio 4\n",
    "\n",
    "Ahora, estamos interasados en saber cuál es la probabilidad de coger menos de 5 manzanas.\n",
    "\n",
    "¿$P(x<5)$?"
   ]
  },
  {
   "cell_type": "code",
   "execution_count": 6,
   "id": "76068fb0",
   "metadata": {},
   "outputs": [
    {
     "data": {
      "text/plain": [
       "0.0003170311211686301"
      ]
     },
     "execution_count": 6,
     "metadata": {},
     "output_type": "execute_result"
    }
   ],
   "source": [
    "binom.cdf(4, 20, p)"
   ]
  },
  {
   "cell_type": "markdown",
   "id": "8475e8b8",
   "metadata": {},
   "source": [
    "# Ejercicio 5\n",
    "\n",
    "Pinta la funcion de de densidad acumulada `cdf` de la distribución binomial. Ponle titulo y nombre a los ejes."
   ]
  },
  {
   "cell_type": "code",
   "execution_count": 7,
   "id": "5bc86552",
   "metadata": {},
   "outputs": [
    {
     "data": {
      "image/png": "[encoded data removed]",
      "text/plain": [
       "<Figure size 432x288 with 1 Axes>"
      ]
     },
     "metadata": {
      "needs_background": "light"
     },
     "output_type": "display_data"
    }
   ],
   "source": [
    "import matplotlib.pyplot as plt\n",
    "%matplotlib inline\n",
    "\n",
    "x=[i for i in range(21)]\n",
    "y=[binom.cdf(i, 20, p) for i in range(21)]\n",
    "\n",
    "plt.plot(x, y)\n",
    "\n",
    "plt.title('Binomial CDF')\n",
    "plt.xlabel('Intentos')\n",
    "plt.ylabel('Probabilidad acumulada')\n",
    "\n",
    "plt.show();"
   ]
  },
  {
   "cell_type": "markdown",
   "id": "89b6b124",
   "metadata": {},
   "source": [
    "# Ejercicio 6\n",
    "\n",
    "**Poisson**\n",
    "\n",
    "Si un equipo de fútbol tiene de media 1.65 goles por partido, ¿cuál es la probabilidad de que marque 5 goles?"
   ]
  },
  {
   "cell_type": "code",
   "execution_count": 8,
   "id": "b5b1d110",
   "metadata": {},
   "outputs": [
    {
     "data": {
      "text/plain": [
       "0.019572782941373178"
      ]
     },
     "execution_count": 8,
     "metadata": {},
     "output_type": "execute_result"
    }
   ],
   "source": [
    "from scipy.stats import poisson\n",
    "\n",
    "poisson.pmf(5, 1.65)"
   ]
  },
  {
   "cell_type": "markdown",
   "id": "ce2750ab",
   "metadata": {},
   "source": [
    "# Ejercicio 7\n",
    "\n",
    "Dibuja la función de masa `pmf` de la distribución de goles para este equipo. Ponle titulo y nombre a los ejes."
   ]
  },
  {
   "cell_type": "code",
   "execution_count": 9,
   "id": "d097ec13",
   "metadata": {},
   "outputs": [
    {
     "data": {
      "image/png": "[encoded data removed]",
      "text/plain": [
       "<Figure size 432x288 with 1 Axes>"
      ]
     },
     "metadata": {
      "needs_background": "light"
     },
     "output_type": "display_data"
    }
   ],
   "source": [
    "x=[i for i in range(11)]\n",
    "y=[poisson.pmf(i, 1.65) for i in range(11)]\n",
    "\n",
    "plt.plot(x, y)\n",
    "\n",
    "plt.title('Poisson PMF')\n",
    "plt.xlabel('Nº goles')\n",
    "plt.ylabel('Probabilidad')\n",
    "\n",
    "plt.show();"
   ]
  },
  {
   "cell_type": "markdown",
   "id": "b41d64ed",
   "metadata": {},
   "source": [
    "# Ejercicio 8\n",
    "\n",
    "**Distribucion uniforme continua**\n",
    "\n",
    "Crea una muestra aleatoria simple distribuida uniformemente de 100 elementos."
   ]
  },
  {
   "cell_type": "code",
   "execution_count": 10,
   "id": "72f44c01",
   "metadata": {},
   "outputs": [
    {
     "data": {
      "text/plain": [
       "array([0.20313488, 0.65457595, 0.52704845, 0.96520805, 0.03065337,\n",
       "       0.85834195, 0.50964039, 0.17296744, 0.25910082, 0.30400683])"
      ]
     },
     "execution_count": 10,
     "metadata": {},
     "output_type": "execute_result"
    }
   ],
   "source": [
    "from scipy.stats import uniform\n",
    "\n",
    "muestra=uniform.rvs(size=100)\n",
    "\n",
    "muestra[:10]"
   ]
  },
  {
   "cell_type": "markdown",
   "id": "b74c3743",
   "metadata": {},
   "source": [
    "# Ejercicio 9\n",
    "\n",
    "Crea una función que tenga como argumentos de entrada el número de elemento N, y los limites del intervalo [a,b] para que devuelva un array de numeros aleatorios distribuidos uniformemente."
   ]
  },
  {
   "cell_type": "code",
   "execution_count": 11,
   "id": "f727da41",
   "metadata": {},
   "outputs": [],
   "source": [
    "def uniform_random_numbers(n, a, b):\n",
    "    return uniform(loc=a, scale=b-a).rvs(size=n)"
   ]
  },
  {
   "cell_type": "code",
   "execution_count": 12,
   "id": "84a69558",
   "metadata": {},
   "outputs": [
    {
     "data": {
      "text/plain": [
       "array([2.8571899 , 4.39933458, 4.8854697 , 2.9935131 , 2.01386506,\n",
       "       4.40700651, 2.92452264, 2.54468123, 3.98095276, 3.38255863])"
      ]
     },
     "execution_count": 12,
     "metadata": {},
     "output_type": "execute_result"
    }
   ],
   "source": [
    "uniform_random_numbers(10, 2, 5)"
   ]
  },
  {
   "cell_type": "markdown",
   "id": "ad10a64c",
   "metadata": {},
   "source": [
    "# Ejercicio 10\n",
    "\n",
    "Crea un plot de la distribución uniforme con 10000 elementos entre 10 y 50."
   ]
  },
  {
   "cell_type": "code",
   "execution_count": 21,
   "id": "89146d6d",
   "metadata": {},
   "outputs": [],
   "source": [
    "muestra=uniform_random_numbers(10000, 10, 50)"
   ]
  },
  {
   "cell_type": "code",
   "execution_count": 23,
   "id": "b43ffb80",
   "metadata": {},
   "outputs": [
    {
     "data": {
      "image/png": "[encoded data removed]",
      "text/plain": [
       "<Figure size 432x288 with 1 Axes>"
      ]
     },
     "metadata": {
      "needs_background": "light"
     },
     "output_type": "display_data"
    }
   ],
   "source": [
    "plt.hist(muestra, bins=10);"
   ]
  },
  {
   "cell_type": "markdown",
   "id": "0125f1c7",
   "metadata": {},
   "source": [
    "# Ejercicio 11\n",
    "\n",
    "**Distribucion normal**\n",
    "\n",
    "Realiza los mismos pasos para una distribución normal con media 5 y desviacion standard 1.8 que has hecho para la uniforme."
   ]
  },
  {
   "cell_type": "code",
   "execution_count": 15,
   "id": "306ef3af",
   "metadata": {},
   "outputs": [],
   "source": [
    "from scipy.stats import norm"
   ]
  },
  {
   "cell_type": "code",
   "execution_count": 16,
   "id": "8831d15d",
   "metadata": {},
   "outputs": [],
   "source": [
    "mu=5\n",
    "std=1.8"
   ]
  },
  {
   "cell_type": "code",
   "execution_count": 17,
   "id": "8d5af20f",
   "metadata": {},
   "outputs": [
    {
     "data": {
      "text/plain": [
       "array([2.29980042, 3.2652158 , 5.90284219, 4.67018303, 3.9001073 ,\n",
       "       6.52852875, 4.86115571, 8.18982114, 4.61705494, 6.84966696])"
      ]
     },
     "execution_count": 17,
     "metadata": {},
     "output_type": "execute_result"
    }
   ],
   "source": [
    "norm.rvs(mu, std, size=10)"
   ]
  },
  {
   "cell_type": "code",
   "execution_count": 18,
   "id": "b3fdc112",
   "metadata": {},
   "outputs": [],
   "source": [
    "def normal_random_numbers(n, mu, std):\n",
    "    return norm.rvs(mu, std, size=n)"
   ]
  },
  {
   "cell_type": "code",
   "execution_count": 19,
   "id": "5fc575b9",
   "metadata": {},
   "outputs": [
    {
     "data": {
      "text/plain": [
       "array([5.11037139, 4.56799379, 5.00398926, 5.39542727, 2.66246096,\n",
       "       5.08958021, 4.07473298, 7.81223266, 5.27763381, 5.44664024])"
      ]
     },
     "execution_count": 19,
     "metadata": {},
     "output_type": "execute_result"
    }
   ],
   "source": [
    "normal_random_numbers(10, mu, std)"
   ]
  },
  {
   "cell_type": "code",
   "execution_count": 20,
   "id": "6b705165",
   "metadata": {},
   "outputs": [
    {
     "data": {
      "image/png": "[encoded data removed]",
      "text/plain": [
       "<Figure size 432x288 with 1 Axes>"
      ]
     },
     "metadata": {
      "needs_background": "light"
     },
     "output_type": "display_data"
    }
   ],
   "source": [
    "muestra=normal_random_numbers(10000, mu, std)\n",
    "\n",
    "plt.hist(muestra, bins=50);"
   ]
  },
  {
   "cell_type": "code",
   "execution_count": null,
   "id": "65adf6e2",
   "metadata": {},
   "outputs": [],
   "source": []
  }
 ],
 "metadata": {
  "kernelspec": {
   "display_name": "clase",
   "language": "python",
   "name": "clase"
  },
  "language_info": {
   "codemirror_mode": {
    "name": "ipython",
    "version": 3
   },
   "file_extension": ".py",
   "mimetype": "text/x-python",
   "name": "python",
   "nbconvert_exporter": "python",
   "pygments_lexer": "ipython3",
   "version": "3.8.8"
  }
 },
 "nbformat": 4,
 "nbformat_minor": 5
}
