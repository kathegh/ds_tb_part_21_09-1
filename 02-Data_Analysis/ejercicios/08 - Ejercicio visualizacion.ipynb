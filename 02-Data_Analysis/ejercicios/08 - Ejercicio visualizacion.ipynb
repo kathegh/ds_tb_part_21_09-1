{
 "cells": [
  {
   "cell_type": "markdown",
   "id": "78321332",
   "metadata": {},
   "source": [
    "![imagen](../images/ejercicios.png)"
   ]
  },
  {
   "cell_type": "markdown",
   "id": "4b838c30",
   "metadata": {},
   "source": [
    "# Ejercicio 1 \n",
    "\n",
    "\n",
    "+ Importa el alojado en la ruta `../../data/fitbit.csv`\n",
    "+ ¿Cuál es la media de pasos diarios por mes? \n",
    "+ Usa la visualización adecuada para mostrar la mediana de pasos por mes.\n",
    "+ ¿Cuándo existe más actividad, por semana o en fin de semana?\n",
    "+ Escribe un bucle para hacer 3 scatter plots de lo siguiente:\n",
    "    + Minutes Lightly Active vs Steps\n",
    "    + Minutes Very Active vs Steps\n",
    "    + Minutes Sedentary vs Steps\n",
    "+ Guarda el último gráfico en formato png."
   ]
  },
  {
   "cell_type": "code",
   "execution_count": null,
   "id": "5104669f",
   "metadata": {},
   "outputs": [],
   "source": []
  },
  {
   "cell_type": "code",
   "execution_count": null,
   "id": "e0ac41ae",
   "metadata": {},
   "outputs": [],
   "source": []
  },
  {
   "cell_type": "code",
   "execution_count": null,
   "id": "a7685234",
   "metadata": {},
   "outputs": [],
   "source": []
  },
  {
   "cell_type": "markdown",
   "id": "cb652c46",
   "metadata": {},
   "source": [
    "# Ejercicio 2\n",
    "\n",
    "+ Importa el alojado en la ruta `../../data/titanic.csv`\n",
    "+ Usa la visualización adecuada para mostrar la distribución de la columna edad.\n",
    "+ Escribe un bucle para hacer 3 histogramas de la edad con 10, 20 y 50 bin.\n",
    "+ Usa seaborn para mostrar la distribución de edad.\n",
    "+ Usa la visualización correcta para representar la columna Gender (usa pandas o seaborn)\n",
    "+ ¿Qué gráfico usarías para representar toda la info estadística de una columna? Usálo.\n",
    "+ Crea un heatmap de la correlación."
   ]
  },
  {
   "cell_type": "code",
   "execution_count": null,
   "id": "f5e5360d",
   "metadata": {},
   "outputs": [],
   "source": []
  },
  {
   "cell_type": "code",
   "execution_count": null,
   "id": "716ee815",
   "metadata": {},
   "outputs": [],
   "source": []
  },
  {
   "cell_type": "code",
   "execution_count": null,
   "id": "e1e2ae5b",
   "metadata": {},
   "outputs": [],
   "source": []
  },
  {
   "cell_type": "markdown",
   "id": "efc5c8d4",
   "metadata": {},
   "source": [
    "# Ejercicio 3 \n",
    "\n",
    "**Viz interactiva**\n",
    "\n",
    "+ Importa el alojado en la ruta `../../data/Online Retail.xlsx`\n",
    "+ Crea un gráfico interactivo de la cantidad e ingresos por pais, quitando el UK, para abril de 2011.\n",
    "+ Crea un gráfico interactivo de la cantidad e ingresos para Francia entre el 1 de enero y el 31 de mayo de 2011.\n",
    "+ Crea un gráfico interactivo de la relación entre la media de cantidad (eje-x) y la media del precio por unidad (eje-y) para cualquier producto. La dimensión del color ha de representar el pais.\n",
    "+ Crea un gráfico interactivo de las distribuciones de las cantidades por factura para Irlanda, Alemania y Holanda.\n",
    "+ Crea un gráfico interactivo de muestre la cantidad vendida por dia para el UK."
   ]
  },
  {
   "cell_type": "code",
   "execution_count": null,
   "id": "bb3262f3",
   "metadata": {},
   "outputs": [],
   "source": []
  },
  {
   "cell_type": "code",
   "execution_count": null,
   "id": "ff905d78",
   "metadata": {},
   "outputs": [],
   "source": []
  },
  {
   "cell_type": "code",
   "execution_count": null,
   "id": "1f57d270",
   "metadata": {},
   "outputs": [],
   "source": []
  }
 ],
 "metadata": {
  "finalized": {
   "timestamp": 1639163157080,
   "trusted": false
  },
  "kernelspec": {
   "display_name": "clase",
   "language": "python",
   "name": "clase"
  },
  "language_info": {
   "codemirror_mode": {
    "name": "ipython",
    "version": 3
   },
   "file_extension": ".py",
   "mimetype": "text/x-python",
   "name": "python",
   "nbconvert_exporter": "python",
   "pygments_lexer": "ipython3",
   "version": "3.8.8"
  }
 },
 "nbformat": 4,
 "nbformat_minor": 5
}
