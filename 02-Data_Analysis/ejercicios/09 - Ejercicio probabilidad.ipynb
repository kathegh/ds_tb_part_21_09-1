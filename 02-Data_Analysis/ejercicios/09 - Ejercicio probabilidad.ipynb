{
 "cells": [
  {
   "cell_type": "markdown",
   "id": "36388f44",
   "metadata": {},
   "source": [
    "![imagen](../images/ejercicios.png)"
   ]
  },
  {
   "cell_type": "markdown",
   "id": "ee03856d",
   "metadata": {},
   "source": [
    "# Ejercicio 1 \n",
    "\n",
    "**Bernoulli**\n",
    "\n",
    "Supongamos que tenemos una cesta con manzanas y peras. Hay 60 manzanas y 40 peras.\n",
    "\n",
    "Si cogemos aleatoriamente una fruta de la cesta:\n",
    "1. ¿Cuál es la probabilidad de que la fruta sea una manzana? \n",
    "2. ¿Cuál es la probabilidad de que la fruta sea una pera? "
   ]
  },
  {
   "cell_type": "code",
   "execution_count": null,
   "id": "be29319b",
   "metadata": {},
   "outputs": [],
   "source": []
  },
  {
   "cell_type": "code",
   "execution_count": null,
   "id": "77f174d8",
   "metadata": {},
   "outputs": [],
   "source": []
  },
  {
   "cell_type": "markdown",
   "id": "67ab5257",
   "metadata": {},
   "source": [
    "# Ejercicio 2\n",
    "\n",
    "Ahora cogemos 20 frutas de la cesta.\n",
    "\n",
    "¿Cuál es la probabilidad de que las 5 primeras frutas sean manzanas?\n",
    "\n",
    "**Tip: $p^{n}·(1-p)^{N-n}$**\n",
    "\n",
    "donde:\n",
    "+ N:= nº total \n",
    "+ n:= nº de exitos"
   ]
  },
  {
   "cell_type": "code",
   "execution_count": null,
   "id": "85afd928",
   "metadata": {},
   "outputs": [],
   "source": []
  },
  {
   "cell_type": "markdown",
   "id": "9bdd7df4",
   "metadata": {},
   "source": [
    "# Ejercicio 3\n",
    "\n",
    "**Binomial**\n",
    "\n",
    "Similar al anterior problema, volvemos a coger 20 frutas.\n",
    "\n",
    "¿Cuál es la probabilidad de que sean 5 manzanas y 15 peras?\n",
    "\n",
    "**Nota: no estamos considerando el orden.**"
   ]
  },
  {
   "cell_type": "code",
   "execution_count": null,
   "id": "a6f82385",
   "metadata": {},
   "outputs": [],
   "source": []
  },
  {
   "cell_type": "markdown",
   "id": "3fcf2166",
   "metadata": {},
   "source": [
    "# Ejercicio 4\n",
    "\n",
    "Ahora, estamos interasados en saber cuál es la probabilidad de coger menos de 5 manzanas.\n",
    "\n",
    "¿$P(x<5)$?"
   ]
  },
  {
   "cell_type": "code",
   "execution_count": null,
   "id": "05b24807",
   "metadata": {},
   "outputs": [],
   "source": []
  },
  {
   "cell_type": "markdown",
   "id": "41d31293",
   "metadata": {},
   "source": [
    "# Ejercicio 5\n",
    "\n",
    "Pinta la funcion de de densidad acumulada `cdf` de la distribución binomial. Ponle titulo y nombre a los ejes."
   ]
  },
  {
   "cell_type": "code",
   "execution_count": null,
   "id": "72990569",
   "metadata": {},
   "outputs": [],
   "source": []
  },
  {
   "cell_type": "markdown",
   "id": "e1571f29",
   "metadata": {},
   "source": [
    "# Ejercicio 6\n",
    "\n",
    "**Poisson**\n",
    "\n",
    "Si un equipo de fútbol tiene de media 1.65 goles por partido, ¿cuál es la probabilidad de que marque 5 goles?"
   ]
  },
  {
   "cell_type": "code",
   "execution_count": null,
   "id": "450068c8",
   "metadata": {},
   "outputs": [],
   "source": []
  },
  {
   "cell_type": "markdown",
   "id": "34428f3a",
   "metadata": {},
   "source": [
    "# Ejercicio 7\n",
    "\n",
    "Dibuja la función de masa `pmf` de la distribución de goles para este equipo. Ponle titulo y nombre a los ejes."
   ]
  },
  {
   "cell_type": "code",
   "execution_count": null,
   "id": "62d02667",
   "metadata": {},
   "outputs": [],
   "source": []
  },
  {
   "cell_type": "markdown",
   "id": "9a0448f0",
   "metadata": {},
   "source": [
    "# Ejercicio 8\n",
    "\n",
    "**Distribucion uniforme continua**\n",
    "\n",
    "Crea una muestra aleatoria simple distribuida uniformemente de 100 elementos."
   ]
  },
  {
   "cell_type": "code",
   "execution_count": null,
   "id": "ac241856",
   "metadata": {},
   "outputs": [],
   "source": []
  },
  {
   "cell_type": "markdown",
   "id": "8a4c8f31",
   "metadata": {},
   "source": [
    "# Ejercicio 9\n",
    "\n",
    "Crea una función que tenga como argumentos de entrada el número de elemento N, y los limites del intervalo [a,b] para que devuelva un array de numeros aleatorios distribuidos uniformemente."
   ]
  },
  {
   "cell_type": "code",
   "execution_count": null,
   "id": "39e2119b",
   "metadata": {},
   "outputs": [],
   "source": []
  },
  {
   "cell_type": "code",
   "execution_count": null,
   "id": "1fb5f5c1",
   "metadata": {},
   "outputs": [],
   "source": []
  },
  {
   "cell_type": "markdown",
   "id": "c92ba6e0",
   "metadata": {},
   "source": [
    "# Ejercicio 10\n",
    "\n",
    "Crea un plot de la distribución uniforme con 10000 elementos entre 10 y 50."
   ]
  },
  {
   "cell_type": "code",
   "execution_count": null,
   "id": "7fe515c2",
   "metadata": {},
   "outputs": [],
   "source": []
  },
  {
   "cell_type": "code",
   "execution_count": null,
   "id": "f2e6147a",
   "metadata": {},
   "outputs": [],
   "source": []
  },
  {
   "cell_type": "markdown",
   "id": "858d69c0",
   "metadata": {},
   "source": [
    "# Ejercicio 11\n",
    "\n",
    "**Distribucion normal**\n",
    "\n",
    "Realiza los mismos pasos para una distribución normal con media 5 y desviacion standard 1.8 que has hecho para la uniforme."
   ]
  },
  {
   "cell_type": "code",
   "execution_count": null,
   "id": "38f422cb",
   "metadata": {},
   "outputs": [],
   "source": []
  },
  {
   "cell_type": "code",
   "execution_count": null,
   "id": "8f0af844",
   "metadata": {},
   "outputs": [],
   "source": []
  },
  {
   "cell_type": "code",
   "execution_count": null,
   "id": "bd2cf178",
   "metadata": {},
   "outputs": [],
   "source": []
  },
  {
   "cell_type": "code",
   "execution_count": null,
   "id": "d32a994f",
   "metadata": {},
   "outputs": [],
   "source": []
  },
  {
   "cell_type": "code",
   "execution_count": null,
   "id": "5b90c429",
   "metadata": {},
   "outputs": [],
   "source": []
  },
  {
   "cell_type": "code",
   "execution_count": null,
   "id": "a048a711",
   "metadata": {},
   "outputs": [],
   "source": []
  },
  {
   "cell_type": "code",
   "execution_count": null,
   "id": "396e2347",
   "metadata": {},
   "outputs": [],
   "source": []
  }
 ],
 "metadata": {
  "kernelspec": {
   "display_name": "clase",
   "language": "python",
   "name": "clase"
  },
  "language_info": {
   "codemirror_mode": {
    "name": "ipython",
    "version": 3
   },
   "file_extension": ".py",
   "mimetype": "text/x-python",
   "name": "python",
   "nbconvert_exporter": "python",
   "pygments_lexer": "ipython3",
   "version": "3.8.8"
  }
 },
 "nbformat": 4,
 "nbformat_minor": 5
}
