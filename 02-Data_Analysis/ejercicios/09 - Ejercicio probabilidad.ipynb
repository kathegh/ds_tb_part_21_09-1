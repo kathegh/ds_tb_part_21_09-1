{
 "cells": [
  {
   "cell_type": "markdown",
   "id": "36388f44",
   "metadata": {},
   "source": [
    "![imagen](../images/ejercicios.png)"
   ]
  },
  {
   "cell_type": "markdown",
   "id": "ee03856d",
   "metadata": {},
   "source": [
    "# Ejercicio 1 \n",
    "\n",
    "**Bernoulli**\n",
    "\n",
    "Supongamos que tenemos una cesta con manzanas y peras. Hay 60 manzanas y 40 peras.\n",
    "\n",
    "Si cogemos aleatoriamente una fruta de la cesta:\n",
    "1. ¿Cuál es la probabilidad de que la fruta sea una manzana? \n",
    "2. ¿Cuál es la probabilidad de que la fruta sea una pera? "
   ]
  },
  {
   "cell_type": "code",
   "execution_count": 1,
   "id": "be29319b",
   "metadata": {},
   "outputs": [],
   "source": [
    "from scipy.stats import bernoulli"
   ]
  },
  {
   "cell_type": "code",
   "execution_count": 2,
   "id": "77f174d8",
   "metadata": {},
   "outputs": [
    {
     "data": {
      "text/plain": [
       "0.6"
      ]
     },
     "execution_count": 2,
     "metadata": {},
     "output_type": "execute_result"
    }
   ],
   "source": [
    "p_m= 60/100\n",
    "p_m"
   ]
  },
  {
   "cell_type": "code",
   "execution_count": 3,
   "id": "d418148d-f471-48c7-aaca-9c397dccb3ee",
   "metadata": {},
   "outputs": [
    {
     "data": {
      "text/plain": [
       "0.4"
      ]
     },
     "execution_count": 3,
     "metadata": {},
     "output_type": "execute_result"
    }
   ],
   "source": [
    "p_p= 40/100\n",
    "p_p"
   ]
  },
  {
   "cell_type": "code",
   "execution_count": 4,
   "id": "df300c3a-cfce-4409-aca3-bd2ec4dba122",
   "metadata": {
    "tags": []
   },
   "outputs": [
    {
     "data": {
      "text/plain": [
       "<scipy.stats._distn_infrastructure.rv_frozen at 0x2a59b195460>"
      ]
     },
     "execution_count": 4,
     "metadata": {},
     "output_type": "execute_result"
    }
   ],
   "source": [
    "b=bernoulli(p_m)\n",
    "b"
   ]
  },
  {
   "cell_type": "code",
   "execution_count": 5,
   "id": "5a5610d5-e175-43a1-b702-641f2c0b92a8",
   "metadata": {},
   "outputs": [
    {
     "data": {
      "text/plain": [
       "array([1, 1, 1, 0, 1, 1, 1, 1, 1, 0, 0, 1, 0, 1, 0, 0, 1, 0, 1, 0, 0, 1,\n",
       "       1, 0, 0, 1, 1, 1, 1, 0, 0, 1, 0, 0, 1, 1, 1, 0, 1, 1, 1, 1, 0, 1,\n",
       "       0, 0, 1, 1, 0, 0, 1, 0, 0, 0, 0, 1, 1, 0, 0, 0, 0, 0, 0, 0, 1, 1,\n",
       "       1, 0, 1, 0, 1, 1, 1, 1, 1, 1, 1, 0, 0, 0, 1, 0, 0, 1, 1, 0, 0, 1,\n",
       "       1, 1, 0, 1, 0, 1, 0, 1, 0, 0, 1, 1])"
      ]
     },
     "execution_count": 5,
     "metadata": {},
     "output_type": "execute_result"
    }
   ],
   "source": [
    "muestra=b.rvs(size=100) \n",
    "\n",
    "muestra"
   ]
  },
  {
   "cell_type": "markdown",
   "id": "67ab5257",
   "metadata": {},
   "source": [
    "# Ejercicio 2\n",
    "\n",
    "Ahora cogemos 20 frutas de la cesta.\n",
    "\n",
    "¿Cuál es la probabilidad de que las 5 primeras frutas sean manzanas?\n",
    "\n",
    "**Tip: $p^{n}·(1-p)^{N-n}$**\n",
    "\n",
    "donde:\n",
    "+ N:= nº total \n",
    "+ n:= nº de exitos"
   ]
  },
  {
   "cell_type": "code",
   "execution_count": null,
   "id": "6436d3df-e892-4527-b68e-c0d1c38de977",
   "metadata": {},
   "outputs": [],
   "source": [
    "(p**5)"
   ]
  },
  {
   "cell_type": "code",
   "execution_count": 6,
   "id": "85afd928",
   "metadata": {},
   "outputs": [],
   "source": [
    "from scipy.stats import binom"
   ]
  },
  {
   "cell_type": "code",
   "execution_count": 16,
   "id": "efc22a49-02d7-4a9b-9058-e46d35dfd4c1",
   "metadata": {},
   "outputs": [
    {
     "data": {
      "text/plain": [
       "0.0012944935222876511"
      ]
     },
     "execution_count": 16,
     "metadata": {},
     "output_type": "execute_result"
    }
   ],
   "source": [
    "binom.pmf(5, 20, 60/100)"
   ]
  },
  {
   "cell_type": "markdown",
   "id": "9bdd7df4",
   "metadata": {},
   "source": [
    "# Ejercicio 3\n",
    "\n",
    "**Binomial**\n",
    "\n",
    "Similar al anterior problema, volvemos a coger 20 frutas.\n",
    "\n",
    "¿Cuál es la probabilidad de que sean 5 manzanas y 15 peras?\n",
    "\n",
    "**Nota: no estamos considerando el orden.**"
   ]
  },
  {
   "cell_type": "code",
   "execution_count": 15,
   "id": "a6f82385",
   "metadata": {},
   "outputs": [
    {
     "data": {
      "text/plain": [
       "0.0012944935222876511"
      ]
     },
     "execution_count": 15,
     "metadata": {},
     "output_type": "execute_result"
    }
   ],
   "source": [
    "binom.pmf(15, 20, 40/100)"
   ]
  },
  {
   "cell_type": "markdown",
   "id": "3fcf2166",
   "metadata": {},
   "source": [
    "# Ejercicio 4\n",
    "\n",
    "Ahora, estamos interasados en saber cuál es la probabilidad de coger menos de 5 manzanas.\n",
    "\n",
    "¿$P(x<5)$?"
   ]
  },
  {
   "cell_type": "code",
   "execution_count": 46,
   "id": "05b24807",
   "metadata": {},
   "outputs": [
    {
     "data": {
      "text/plain": [
       "0.0003170311211686301"
      ]
     },
     "execution_count": 46,
     "metadata": {},
     "output_type": "execute_result"
    }
   ],
   "source": [
    "binom.cdf(4, 20, 60/100)"
   ]
  },
  {
   "cell_type": "markdown",
   "id": "41d31293",
   "metadata": {},
   "source": [
    "# Ejercicio 5\n",
    "\n",
    "Pinta la funcion de de densidad acumulada `cdf` de la distribución binomial. Ponle titulo y nombre a los ejes."
   ]
  },
  {
   "cell_type": "code",
   "execution_count": 20,
   "id": "e2b27397-e2ed-4825-be22-5c6c4440f2b6",
   "metadata": {},
   "outputs": [],
   "source": [
    "import pylab as plt"
   ]
  },
  {
   "cell_type": "code",
   "execution_count": 47,
   "id": "72990569",
   "metadata": {},
   "outputs": [
    {
     "data": {
      "image/png": "[encoded data removed]",
      "text/plain": [
       "<Figure size 432x288 with 1 Axes>"
      ]
     },
     "metadata": {
      "needs_background": "light"
     },
     "output_type": "display_data"
    }
   ],
   "source": [
    "x=[i for i in range(21)]                # nº de exitos\n",
    "y=[binom.cdf(x, 20, 60/100) for x in x]    # su prob\n",
    "\n",
    "plt.plot(x, y);\n",
    "sum(y)\n",
    "plt.title('Distribución Binomial')\n",
    "plt.ylabel('probabilidad')\n",
    "plt.xlabel('valores')\n",
    "plt.show()"
   ]
  },
  {
   "cell_type": "markdown",
   "id": "e1571f29",
   "metadata": {},
   "source": [
    "# Ejercicio 6\n",
    "\n",
    "**Poisson**\n",
    "\n",
    "Si un equipo de fútbol tiene de media 1.65 goles por partido, ¿cuál es la probabilidad de que marque 5 goles?"
   ]
  },
  {
   "cell_type": "code",
   "execution_count": 24,
   "id": "450068c8",
   "metadata": {},
   "outputs": [],
   "source": [
    "import numpy as np\n",
    "import pandas as pd"
   ]
  },
  {
   "cell_type": "code",
   "execution_count": 27,
   "id": "2c7b8941-7c97-41a9-9589-a41c3ba030d2",
   "metadata": {},
   "outputs": [],
   "source": [
    "from scipy.stats import poisson"
   ]
  },
  {
   "cell_type": "code",
   "execution_count": 32,
   "id": "2aeaa5da-8579-475b-9318-42fc9abda560",
   "metadata": {},
   "outputs": [],
   "source": [
    "equipo=1.65"
   ]
  },
  {
   "cell_type": "code",
   "execution_count": 33,
   "id": "86e7dbe5-3fe8-4460-8f51-c4eeb1a4bd12",
   "metadata": {},
   "outputs": [
    {
     "data": {
      "text/plain": [
       "0.019572782941373178"
      ]
     },
     "execution_count": 33,
     "metadata": {},
     "output_type": "execute_result"
    }
   ],
   "source": [
    "poisson.pmf(5 ,1.65) "
   ]
  },
  {
   "cell_type": "markdown",
   "id": "34428f3a",
   "metadata": {},
   "source": [
    "# Ejercicio 7\n",
    "\n",
    "Dibuja la función de masa `pmf` de la distribución de goles para este equipo. Ponle titulo y nombre a los ejes."
   ]
  },
  {
   "cell_type": "code",
   "execution_count": 34,
   "id": "4bdfb460-c31f-4fab-a52e-474b847265d0",
   "metadata": {},
   "outputs": [
    {
     "data": {
      "image/png": "[encoded data removed]",
      "text/plain": [
       "<Figure size 432x288 with 1 Axes>"
      ]
     },
     "metadata": {
      "needs_background": "light"
     },
     "output_type": "display_data"
    }
   ],
   "source": [
    "p=[poisson.pmf(i, equipo) for i in range(10)]\n",
    "# distribucion de prob de goles para el equipo \n",
    "\n",
    "plt.plot([i for i in range(10)], p);"
   ]
  },
  {
   "cell_type": "markdown",
   "id": "9a0448f0",
   "metadata": {},
   "source": [
    "# Ejercicio 8\n",
    "\n",
    "**Distribucion uniforme continua**\n",
    "\n",
    "Crea una muestra aleatoria simple distribuida uniformemente de 100 elementos."
   ]
  },
  {
   "cell_type": "code",
   "execution_count": 35,
   "id": "ac241856",
   "metadata": {},
   "outputs": [],
   "source": [
    "from scipy.stats import uniform"
   ]
  },
  {
   "cell_type": "code",
   "execution_count": 40,
   "id": "59e8e483-3010-4d72-8596-555eb31f6bac",
   "metadata": {},
   "outputs": [],
   "source": [
    "import seaborn as sns"
   ]
  },
  {
   "cell_type": "code",
   "execution_count": 36,
   "id": "e5f43d31-95c7-47f9-ac7c-e5ee9a2497ed",
   "metadata": {},
   "outputs": [
    {
     "data": {
      "text/plain": [
       "1.0"
      ]
     },
     "execution_count": 36,
     "metadata": {},
     "output_type": "execute_result"
    }
   ],
   "source": [
    "uniform.pdf(0.5)   # por defecto es U(0,1)"
   ]
  },
  {
   "cell_type": "code",
   "execution_count": 37,
   "id": "099eefc8-0c71-432a-acb0-b1475f265441",
   "metadata": {},
   "outputs": [
    {
     "data": {
      "text/plain": [
       "array([0.35446878, 0.02284594, 0.80137633, 0.83867352, 0.0971844 ,\n",
       "       0.01333544, 0.39047289, 0.72169824, 0.63966439, 0.88603708,\n",
       "       0.90394288, 0.7364819 , 0.29962503, 0.56644607, 0.02672168,\n",
       "       0.03848238, 0.73645031, 0.81927166, 0.87740762, 0.59016674,\n",
       "       0.96575255, 0.54419457, 0.65679483, 0.38501572, 0.35504864,\n",
       "       0.84510644, 0.94479325, 0.70172565, 0.18747997, 0.94743763,\n",
       "       0.25857312, 0.80019063, 0.44927955, 0.10687207, 0.18132218,\n",
       "       0.84989817, 0.96776167, 0.54921416, 0.99259734, 0.00611824,\n",
       "       0.28141276, 0.79963686, 0.82201836, 0.70630024, 0.51466861,\n",
       "       0.41212552, 0.074209  , 0.92957346, 0.87842163, 0.61323764,\n",
       "       0.52453808, 0.23605462, 0.20259132, 0.50544481, 0.56645637,\n",
       "       0.89576518, 0.11954146, 0.31637255, 0.30268187, 0.66652454,\n",
       "       0.08772977, 0.69194991, 0.22648627, 0.26503242, 0.26332208,\n",
       "       0.19789618, 0.72407367, 0.14015857, 0.35795933, 0.28329548,\n",
       "       0.1753396 , 0.56281255, 0.62916697, 0.02946852, 0.49529939,\n",
       "       0.60008188, 0.08336976, 0.12370959, 0.21433511, 0.16522541,\n",
       "       0.43945453, 0.34510935, 0.61304802, 0.71833175, 0.84317755,\n",
       "       0.78228677, 0.88509574, 0.26616993, 0.05724133, 0.17330776,\n",
       "       0.72851314, 0.44767707, 0.84688259, 0.83219342, 0.63713186,\n",
       "       0.15217897, 0.13524117, 0.36569615, 0.68169184, 0.10259964])"
      ]
     },
     "execution_count": 37,
     "metadata": {},
     "output_type": "execute_result"
    }
   ],
   "source": [
    "muestra=uniform.rvs(size=100)\n",
    "\n",
    "muestra"
   ]
  },
  {
   "cell_type": "code",
   "execution_count": 38,
   "id": "9cc94b43-a6e6-4ae3-b468-23197e07a692",
   "metadata": {},
   "outputs": [
    {
     "data": {
      "text/plain": [
       "0.48793245526510864"
      ]
     },
     "execution_count": 38,
     "metadata": {},
     "output_type": "execute_result"
    }
   ],
   "source": [
    "muestra.mean()"
   ]
  },
  {
   "cell_type": "code",
   "execution_count": 41,
   "id": "42e7fdfe-c47e-481a-a94c-2e951515fa5a",
   "metadata": {},
   "outputs": [
    {
     "data": {
      "image/png": "[encoded data removed]",
      "text/plain": [
       "<Figure size 432x288 with 1 Axes>"
      ]
     },
     "metadata": {
      "needs_background": "light"
     },
     "output_type": "display_data"
    }
   ],
   "source": [
    "sns.histplot(muestra);"
   ]
  },
  {
   "cell_type": "markdown",
   "id": "8a4c8f31",
   "metadata": {},
   "source": [
    "# Ejercicio 9\n",
    "\n",
    "Crea una función que tenga como argumentos de entrada el número de elemento N, y los limites del intervalo [a,b] para que devuelva un array de numeros aleatorios distribuidos uniformemente."
   ]
  },
  {
   "cell_type": "code",
   "execution_count": 48,
   "id": "39e2119b",
   "metadata": {},
   "outputs": [],
   "source": [
    "def uniform_random_numbers(n, a, b):\n",
    "    return uniform(loc=a, scale=b-a).rvs(size=n)"
   ]
  },
  {
   "cell_type": "code",
   "execution_count": 49,
   "id": "1fb5f5c1",
   "metadata": {},
   "outputs": [
    {
     "data": {
      "text/plain": [
       "array([31.59602482, 33.01841633, 35.49922577, ..., 44.10209999,\n",
       "       39.09695384, 11.53243009])"
      ]
     },
     "execution_count": 49,
     "metadata": {},
     "output_type": "execute_result"
    }
   ],
   "source": [
    "uniform_random_numbers(10000, 10, 50)"
   ]
  },
  {
   "cell_type": "markdown",
   "id": "c92ba6e0",
   "metadata": {},
   "source": [
    "# Ejercicio 10\n",
    "\n",
    "Crea un plot de la distribución uniforme con 10000 elementos entre 10 y 50."
   ]
  },
  {
   "cell_type": "code",
   "execution_count": 44,
   "id": "7fe515c2",
   "metadata": {},
   "outputs": [
    {
     "data": {
      "text/plain": [
       "array([0.58849933, 0.27202323, 0.01288333, ..., 0.30638371, 0.99413551,\n",
       "       0.85695396])"
      ]
     },
     "execution_count": 44,
     "metadata": {},
     "output_type": "execute_result"
    }
   ],
   "source": [
    "muestra=uniform.rvs(size=10000)\n",
    "\n",
    "muestra"
   ]
  },
  {
   "cell_type": "code",
   "execution_count": 50,
   "id": "f2e6147a",
   "metadata": {},
   "outputs": [
    {
     "data": {
      "image/png": "[encoded data removed]",
      "text/plain": [
       "<Figure size 432x288 with 1 Axes>"
      ]
     },
     "metadata": {
      "needs_background": "light"
     },
     "output_type": "display_data"
    }
   ],
   "source": [
    "muestra= uniform_random_numbers(10000, 10, 50)\n",
    "\n",
    "sns.histplot(muestra);"
   ]
  },
  {
   "cell_type": "markdown",
   "id": "858d69c0",
   "metadata": {},
   "source": [
    "# Ejercicio 11\n",
    "\n",
    "**Distribucion normal**\n",
    "\n",
    "Realiza los mismos pasos para una distribución normal con media 5 y desviacion standard 1.8 que has hecho para la uniforme."
   ]
  },
  {
   "cell_type": "code",
   "execution_count": null,
   "id": "38f422cb",
   "metadata": {},
   "outputs": [],
   "source": []
  },
  {
   "cell_type": "code",
   "execution_count": null,
   "id": "8f0af844",
   "metadata": {},
   "outputs": [],
   "source": []
  },
  {
   "cell_type": "code",
   "execution_count": null,
   "id": "bd2cf178",
   "metadata": {},
   "outputs": [],
   "source": []
  },
  {
   "cell_type": "code",
   "execution_count": null,
   "id": "d32a994f",
   "metadata": {},
   "outputs": [],
   "source": []
  },
  {
   "cell_type": "code",
   "execution_count": null,
   "id": "5b90c429",
   "metadata": {},
   "outputs": [],
   "source": []
  },
  {
   "cell_type": "code",
   "execution_count": null,
   "id": "a048a711",
   "metadata": {},
   "outputs": [],
   "source": []
  },
  {
   "cell_type": "code",
   "execution_count": null,
   "id": "396e2347",
   "metadata": {},
   "outputs": [],
   "source": []
  }
 ],
 "metadata": {
  "kernelspec": {
   "display_name": "Python 3",
   "language": "python",
   "name": "python3"
  },
  "language_info": {
   "codemirror_mode": {
    "name": "ipython",
    "version": 3
   },
   "file_extension": ".py",
   "mimetype": "text/x-python",
   "name": "python",
   "nbconvert_exporter": "python",
   "pygments_lexer": "ipython3",
   "version": "3.8.8"
  }
 },
 "nbformat": 4,
 "nbformat_minor": 5
}
