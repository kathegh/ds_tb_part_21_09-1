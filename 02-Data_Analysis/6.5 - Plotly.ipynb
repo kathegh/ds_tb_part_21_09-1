{
 "cells": [
  {
   "cell_type": "markdown",
   "metadata": {},
   "source": [
    "# 6.5 - Plotly\n",
    "\n",
    "https://plotly.com/"
   ]
  },
  {
   "cell_type": "code",
   "execution_count": null,
   "metadata": {},
   "outputs": [
    {
     "name": "stdout",
     "output_type": "stream",
     "text": [
      "Requirement already satisfied: chart-studio in /Users/iudh/opt/anaconda3/envs/clase/lib/python3.8/site-packages (1.1.0)\n",
      "Requirement already satisfied: requests in /Users/iudh/opt/anaconda3/envs/clase/lib/python3.8/site-packages (from chart-studio) (2.26.0)\n",
      "Requirement already satisfied: retrying>=1.3.3 in /Users/iudh/opt/anaconda3/envs/clase/lib/python3.8/site-packages (from chart-studio) (1.3.3)\n",
      "Requirement already satisfied: plotly in /Users/iudh/opt/anaconda3/envs/clase/lib/python3.8/site-packages (from chart-studio) (5.4.0)\n",
      "Requirement already satisfied: six in /Users/iudh/opt/anaconda3/envs/clase/lib/python3.8/site-packages (from chart-studio) (1.12.0)\n",
      "Requirement already satisfied: tenacity>=6.2.0 in /Users/iudh/opt/anaconda3/envs/clase/lib/python3.8/site-packages (from plotly->chart-studio) (8.0.1)\n",
      "Requirement already satisfied: idna<4,>=2.5 in /Users/iudh/opt/anaconda3/envs/clase/lib/python3.8/site-packages (from requests->chart-studio) (3.1)\n",
      "Requirement already satisfied: urllib3<1.27,>=1.21.1 in /Users/iudh/opt/anaconda3/envs/clase/lib/python3.8/site-packages (from requests->chart-studio) (1.26.7)\n",
      "Requirement already satisfied: certifi>=2017.4.17 in /Users/iudh/opt/anaconda3/envs/clase/lib/python3.8/site-packages (from requests->chart-studio) (2021.5.30)\n",
      "Requirement already satisfied: charset-normalizer~=2.0.0 in /Users/iudh/opt/anaconda3/envs/clase/lib/python3.8/site-packages (from requests->chart-studio) (2.0.0)\n",
      "Requirement already satisfied: cufflinks in /Users/iudh/opt/anaconda3/envs/clase/lib/python3.8/site-packages (0.17.3)\n",
      "Requirement already satisfied: setuptools>=34.4.1 in /Users/iudh/opt/anaconda3/envs/clase/lib/python3.8/site-packages (from cufflinks) (52.0.0.post20210125)\n",
      "Requirement already satisfied: colorlover>=0.2.1 in /Users/iudh/opt/anaconda3/envs/clase/lib/python3.8/site-packages (from cufflinks) (0.3.0)\n",
      "Requirement already satisfied: ipywidgets>=7.0.0 in /Users/iudh/opt/anaconda3/envs/clase/lib/python3.8/site-packages (from cufflinks) (7.6.3)\n",
      "Requirement already satisfied: pandas>=0.19.2 in /Users/iudh/opt/anaconda3/envs/clase/lib/python3.8/site-packages (from cufflinks) (1.2.4)\n",
      "Requirement already satisfied: plotly>=4.1.1 in /Users/iudh/opt/anaconda3/envs/clase/lib/python3.8/site-packages (from cufflinks) (5.4.0)\n",
      "Requirement already satisfied: ipython>=5.3.0 in /Users/iudh/opt/anaconda3/envs/clase/lib/python3.8/site-packages (from cufflinks) (7.28.0)\n",
      "Requirement already satisfied: numpy>=1.9.2 in /Users/iudh/opt/anaconda3/envs/clase/lib/python3.8/site-packages (from cufflinks) (1.20.2)\n",
      "Requirement already satisfied: six>=1.9.0 in /Users/iudh/opt/anaconda3/envs/clase/lib/python3.8/site-packages (from cufflinks) (1.12.0)\n",
      "Requirement already satisfied: matplotlib-inline in /Users/iudh/opt/anaconda3/envs/clase/lib/python3.8/site-packages (from ipython>=5.3.0->cufflinks) (0.1.3)\n",
      "Requirement already satisfied: pickleshare in /Users/iudh/opt/anaconda3/envs/clase/lib/python3.8/site-packages (from ipython>=5.3.0->cufflinks) (0.7.5)\n",
      "Requirement already satisfied: traitlets>=4.2 in /Users/iudh/opt/anaconda3/envs/clase/lib/python3.8/site-packages (from ipython>=5.3.0->cufflinks) (5.1.0)\n",
      "Requirement already satisfied: pexpect>4.3 in /Users/iudh/opt/anaconda3/envs/clase/lib/python3.8/site-packages (from ipython>=5.3.0->cufflinks) (4.8.0)\n",
      "Requirement already satisfied: pygments in /Users/iudh/opt/anaconda3/envs/clase/lib/python3.8/site-packages (from ipython>=5.3.0->cufflinks) (2.10.0)\n",
      "Requirement already satisfied: backcall in /Users/iudh/opt/anaconda3/envs/clase/lib/python3.8/site-packages (from ipython>=5.3.0->cufflinks) (0.2.0)\n",
      "Requirement already satisfied: decorator in /Users/iudh/opt/anaconda3/envs/clase/lib/python3.8/site-packages (from ipython>=5.3.0->cufflinks) (5.1.0)\n",
      "Requirement already satisfied: prompt-toolkit!=3.0.0,!=3.0.1,<3.1.0,>=2.0.0 in /Users/iudh/opt/anaconda3/envs/clase/lib/python3.8/site-packages (from ipython>=5.3.0->cufflinks) (3.0.20)\n",
      "Requirement already satisfied: appnope in /Users/iudh/opt/anaconda3/envs/clase/lib/python3.8/site-packages (from ipython>=5.3.0->cufflinks) (0.1.2)\n",
      "Requirement already satisfied: jedi>=0.16 in /Users/iudh/opt/anaconda3/envs/clase/lib/python3.8/site-packages (from ipython>=5.3.0->cufflinks) (0.18.0)\n",
      "Requirement already satisfied: nbformat>=4.2.0 in /Users/iudh/opt/anaconda3/envs/clase/lib/python3.8/site-packages (from ipywidgets>=7.0.0->cufflinks) (5.1.3)\n",
      "Requirement already satisfied: widgetsnbextension~=3.5.0 in /Users/iudh/opt/anaconda3/envs/clase/lib/python3.8/site-packages (from ipywidgets>=7.0.0->cufflinks) (3.5.1)\n",
      "Requirement already satisfied: jupyterlab-widgets>=1.0.0 in /Users/iudh/opt/anaconda3/envs/clase/lib/python3.8/site-packages (from ipywidgets>=7.0.0->cufflinks) (1.0.0)\n",
      "Requirement already satisfied: ipykernel>=4.5.1 in /Users/iudh/opt/anaconda3/envs/clase/lib/python3.8/site-packages (from ipywidgets>=7.0.0->cufflinks) (5.5.5)\n",
      "Requirement already satisfied: jupyter-client in /Users/iudh/opt/anaconda3/envs/clase/lib/python3.8/site-packages (from ipykernel>=4.5.1->ipywidgets>=7.0.0->cufflinks) (7.0.6)\n",
      "Requirement already satisfied: tornado>=4.2 in /Users/iudh/opt/anaconda3/envs/clase/lib/python3.8/site-packages (from ipykernel>=4.5.1->ipywidgets>=7.0.0->cufflinks) (6.1)\n",
      "Requirement already satisfied: parso<0.9.0,>=0.8.0 in /Users/iudh/opt/anaconda3/envs/clase/lib/python3.8/site-packages (from jedi>=0.16->ipython>=5.3.0->cufflinks) (0.8.2)\n",
      "Requirement already satisfied: jsonschema!=2.5.0,>=2.4 in /Users/iudh/opt/anaconda3/envs/clase/lib/python3.8/site-packages (from nbformat>=4.2.0->ipywidgets>=7.0.0->cufflinks) (4.0.1)\n",
      "Requirement already satisfied: ipython-genutils in /Users/iudh/opt/anaconda3/envs/clase/lib/python3.8/site-packages (from nbformat>=4.2.0->ipywidgets>=7.0.0->cufflinks) (0.2.0)\n",
      "Requirement already satisfied: jupyter-core in /Users/iudh/opt/anaconda3/envs/clase/lib/python3.8/site-packages (from nbformat>=4.2.0->ipywidgets>=7.0.0->cufflinks) (4.8.1)\n",
      "Requirement already satisfied: pyrsistent!=0.17.0,!=0.17.1,!=0.17.2,>=0.14.0 in /Users/iudh/opt/anaconda3/envs/clase/lib/python3.8/site-packages (from jsonschema!=2.5.0,>=2.4->nbformat>=4.2.0->ipywidgets>=7.0.0->cufflinks) (0.17.3)\n",
      "Requirement already satisfied: attrs>=17.4.0 in /Users/iudh/opt/anaconda3/envs/clase/lib/python3.8/site-packages (from jsonschema!=2.5.0,>=2.4->nbformat>=4.2.0->ipywidgets>=7.0.0->cufflinks) (21.2.0)\n",
      "Requirement already satisfied: python-dateutil>=2.7.3 in /Users/iudh/opt/anaconda3/envs/clase/lib/python3.8/site-packages (from pandas>=0.19.2->cufflinks) (2.8.1)\n",
      "Requirement already satisfied: pytz>=2017.3 in /Users/iudh/opt/anaconda3/envs/clase/lib/python3.8/site-packages (from pandas>=0.19.2->cufflinks) (2021.1)\n",
      "Requirement already satisfied: ptyprocess>=0.5 in /Users/iudh/opt/anaconda3/envs/clase/lib/python3.8/site-packages (from pexpect>4.3->ipython>=5.3.0->cufflinks) (0.7.0)\n",
      "Requirement already satisfied: tenacity>=6.2.0 in /Users/iudh/opt/anaconda3/envs/clase/lib/python3.8/site-packages (from plotly>=4.1.1->cufflinks) (8.0.1)\n",
      "Requirement already satisfied: wcwidth in /Users/iudh/opt/anaconda3/envs/clase/lib/python3.8/site-packages (from prompt-toolkit!=3.0.0,!=3.0.1,<3.1.0,>=2.0.0->ipython>=5.3.0->cufflinks) (0.2.5)\n",
      "Requirement already satisfied: notebook>=4.4.1 in /Users/iudh/opt/anaconda3/envs/clase/lib/python3.8/site-packages (from widgetsnbextension~=3.5.0->ipywidgets>=7.0.0->cufflinks) (6.4.4)\n",
      "Requirement already satisfied: nbconvert in /Users/iudh/opt/anaconda3/envs/clase/lib/python3.8/site-packages (from notebook>=4.4.1->widgetsnbextension~=3.5.0->ipywidgets>=7.0.0->cufflinks) (6.2.0)\n",
      "Requirement already satisfied: Send2Trash>=1.5.0 in /Users/iudh/opt/anaconda3/envs/clase/lib/python3.8/site-packages (from notebook>=4.4.1->widgetsnbextension~=3.5.0->ipywidgets>=7.0.0->cufflinks) (1.8.0)\n",
      "Requirement already satisfied: terminado>=0.8.3 in /Users/iudh/opt/anaconda3/envs/clase/lib/python3.8/site-packages (from notebook>=4.4.1->widgetsnbextension~=3.5.0->ipywidgets>=7.0.0->cufflinks) (0.12.1)\n",
      "Requirement already satisfied: jinja2 in /Users/iudh/opt/anaconda3/envs/clase/lib/python3.8/site-packages (from notebook>=4.4.1->widgetsnbextension~=3.5.0->ipywidgets>=7.0.0->cufflinks) (3.0.1)\n",
      "Requirement already satisfied: pyzmq>=17 in /Users/iudh/opt/anaconda3/envs/clase/lib/python3.8/site-packages (from notebook>=4.4.1->widgetsnbextension~=3.5.0->ipywidgets>=7.0.0->cufflinks) (22.2.1)\n",
      "Requirement already satisfied: prometheus-client in /Users/iudh/opt/anaconda3/envs/clase/lib/python3.8/site-packages (from notebook>=4.4.1->widgetsnbextension~=3.5.0->ipywidgets>=7.0.0->cufflinks) (0.11.0)\n",
      "Requirement already satisfied: argon2-cffi in /Users/iudh/opt/anaconda3/envs/clase/lib/python3.8/site-packages (from notebook>=4.4.1->widgetsnbextension~=3.5.0->ipywidgets>=7.0.0->cufflinks) (20.1.0)\n"
     ]
    },
    {
     "name": "stdout",
     "output_type": "stream",
     "text": [
      "Requirement already satisfied: entrypoints in /Users/iudh/opt/anaconda3/envs/clase/lib/python3.8/site-packages (from jupyter-client->ipykernel>=4.5.1->ipywidgets>=7.0.0->cufflinks) (0.3)\n",
      "Requirement already satisfied: nest-asyncio>=1.5 in /Users/iudh/opt/anaconda3/envs/clase/lib/python3.8/site-packages (from jupyter-client->ipykernel>=4.5.1->ipywidgets>=7.0.0->cufflinks) (1.5.1)\n",
      "Requirement already satisfied: cffi>=1.0.0 in /Users/iudh/opt/anaconda3/envs/clase/lib/python3.8/site-packages (from argon2-cffi->notebook>=4.4.1->widgetsnbextension~=3.5.0->ipywidgets>=7.0.0->cufflinks) (1.14.6)\n",
      "Requirement already satisfied: pycparser in /Users/iudh/opt/anaconda3/envs/clase/lib/python3.8/site-packages (from cffi>=1.0.0->argon2-cffi->notebook>=4.4.1->widgetsnbextension~=3.5.0->ipywidgets>=7.0.0->cufflinks) (2.20)\n",
      "Requirement already satisfied: MarkupSafe>=2.0 in /Users/iudh/opt/anaconda3/envs/clase/lib/python3.8/site-packages (from jinja2->notebook>=4.4.1->widgetsnbextension~=3.5.0->ipywidgets>=7.0.0->cufflinks) (2.0.1)\n",
      "Requirement already satisfied: mistune<2,>=0.8.1 in /Users/iudh/opt/anaconda3/envs/clase/lib/python3.8/site-packages (from nbconvert->notebook>=4.4.1->widgetsnbextension~=3.5.0->ipywidgets>=7.0.0->cufflinks) (0.8.4)\n",
      "Requirement already satisfied: defusedxml in /Users/iudh/opt/anaconda3/envs/clase/lib/python3.8/site-packages (from nbconvert->notebook>=4.4.1->widgetsnbextension~=3.5.0->ipywidgets>=7.0.0->cufflinks) (0.7.1)\n",
      "Requirement already satisfied: jupyterlab-pygments in /Users/iudh/opt/anaconda3/envs/clase/lib/python3.8/site-packages (from nbconvert->notebook>=4.4.1->widgetsnbextension~=3.5.0->ipywidgets>=7.0.0->cufflinks) (0.1.2)\n",
      "Requirement already satisfied: pandocfilters>=1.4.1 in /Users/iudh/opt/anaconda3/envs/clase/lib/python3.8/site-packages (from nbconvert->notebook>=4.4.1->widgetsnbextension~=3.5.0->ipywidgets>=7.0.0->cufflinks) (1.5.0)\n",
      "Requirement already satisfied: testpath in /Users/iudh/opt/anaconda3/envs/clase/lib/python3.8/site-packages (from nbconvert->notebook>=4.4.1->widgetsnbextension~=3.5.0->ipywidgets>=7.0.0->cufflinks) (0.5.0)\n",
      "Requirement already satisfied: nbclient<0.6.0,>=0.5.0 in /Users/iudh/opt/anaconda3/envs/clase/lib/python3.8/site-packages (from nbconvert->notebook>=4.4.1->widgetsnbextension~=3.5.0->ipywidgets>=7.0.0->cufflinks) (0.5.4)\n",
      "Requirement already satisfied: bleach in /Users/iudh/opt/anaconda3/envs/clase/lib/python3.8/site-packages (from nbconvert->notebook>=4.4.1->widgetsnbextension~=3.5.0->ipywidgets>=7.0.0->cufflinks) (4.1.0)\n",
      "Requirement already satisfied: packaging in /Users/iudh/opt/anaconda3/envs/clase/lib/python3.8/site-packages (from bleach->nbconvert->notebook>=4.4.1->widgetsnbextension~=3.5.0->ipywidgets>=7.0.0->cufflinks) (21.0)\n",
      "Requirement already satisfied: webencodings in /Users/iudh/opt/anaconda3/envs/clase/lib/python3.8/site-packages (from bleach->nbconvert->notebook>=4.4.1->widgetsnbextension~=3.5.0->ipywidgets>=7.0.0->cufflinks) (0.5.1)\n",
      "Requirement already satisfied: pyparsing>=2.0.2 in /Users/iudh/opt/anaconda3/envs/clase/lib/python3.8/site-packages (from packaging->bleach->nbconvert->notebook>=4.4.1->widgetsnbextension~=3.5.0->ipywidgets>=7.0.0->cufflinks) (2.4.7)\n"
     ]
    }
   ],
   "source": [
    "!pip install chart-studio\n",
    "!pip install cufflinks"
   ]
  },
  {
   "cell_type": "code",
   "execution_count": null,
   "metadata": {},
   "outputs": [],
   "source": [
    "import chart_studio.plotly as py\n",
    "import cufflinks as cf\n",
    "\n",
    "import plotly.offline as pyo\n",
    "pyo.init_notebook_mode()\n",
    "\n",
    "cf.go_offline() # es para quen el grafico se printee en local, en el jupyter\n",
    "\n",
    "import pandas as pd\n",
    "\n",
    "import warnings\n",
    "warnings.simplefilter('ignore')"
   ]
  },
  {
   "cell_type": "code",
   "execution_count": null,
   "metadata": {},
   "outputs": [],
   "source": [
    "df=pd.read_excel('../data/Online Retail.xlsx')\n",
    "df.head()"
   ]
  },
  {
   "cell_type": "code",
   "execution_count": null,
   "metadata": {},
   "outputs": [],
   "source": [
    "# cantidad e ingresos por pais, sin UK, abril 2011\n",
    "\n",
    "data=df[df.Country!='United Kingdom']\n",
    "\n",
    "data=data.loc[(data.InvoiceDate>='2011-4-1') & (data.InvoiceDate<='2011-4-30')]\n",
    "\n",
    "data.head()"
   ]
  },
  {
   "cell_type": "code",
   "execution_count": null,
   "metadata": {},
   "outputs": [],
   "source": [
    "data=data.groupby('Country').sum()\n",
    "\n",
    "data=data[['Quantity', 'Revenue']]\n",
    "\n",
    "data.iplot(kind='bar',\n",
    "           xTitle='Country',\n",
    "           title='Canrtidad Total y Beneficio')"
   ]
  },
  {
   "cell_type": "code",
   "execution_count": null,
   "metadata": {},
   "outputs": [],
   "source": [
    "# cantidad media \n",
    "\n",
    "data=df.loc[df.Description=='SET 7 BABUSHKA NESTING BOXES']\n",
    "\n",
    "data=data.groupby('Country').mean()\n",
    "\n",
    "data=data[['Quantity', 'UnitPrice']]\n",
    "\n",
    "data.reset_index(inplace=True)\n",
    "\n",
    "data.iplot(x='Quantity', \n",
    "           y='UnitPrice', \n",
    "           categories='Country',\n",
    "           color='blue')"
   ]
  },
  {
   "cell_type": "code",
   "execution_count": null,
   "metadata": {},
   "outputs": [],
   "source": [
    "# sunburst\n",
    "\n",
    "import plotly.graph_objects as go"
   ]
  },
  {
   "cell_type": "code",
   "execution_count": null,
   "metadata": {},
   "outputs": [],
   "source": [
    "labels=['Label', 'F1', 'F2', 'F1.1', 'F1.1.1']\n",
    "\n",
    "parents=['', 'Label', 'Label', 'F1', 'F1.1']\n",
    "\n",
    "values=[1,3,4,5,6]\n"
   ]
  },
  {
   "cell_type": "code",
   "execution_count": null,
   "metadata": {},
   "outputs": [],
   "source": [
    "fig=go.Figure(go.Sunburst(labels=labels, parents=parents, values=values))\n",
    "fig.update_layout(margin=dict(t=0, l=0, r=0, b=0), width=300, height=300)\n",
    "\n",
    "fig.write_html('images/sun.html')\n",
    "\n",
    "fig.show()"
   ]
  },
  {
   "cell_type": "code",
   "execution_count": null,
   "metadata": {},
   "outputs": [],
   "source": []
  }
 ],
 "metadata": {
  "finalized": {
   "timestamp": 1639163156819,
   "trusted": true
  },
  "kernelspec": {
   "display_name": "clase",
   "language": "python",
   "name": "clase"
  },
  "language_info": {
   "codemirror_mode": {
    "name": "ipython",
    "version": 3
   },
   "file_extension": ".py",
   "mimetype": "text/x-python",
   "name": "python",
   "nbconvert_exporter": "python",
   "pygments_lexer": "ipython3",
   "version": "3.8.8"
  },
  "varInspector": {
   "cols": {
    "lenName": 16,
    "lenType": 16,
    "lenVar": 40
   },
   "kernels_config": {
    "python": {
     "delete_cmd_postfix": "",
     "delete_cmd_prefix": "del ",
     "library": "var_list.py",
     "varRefreshCmd": "print(var_dic_list())"
    },
    "r": {
     "delete_cmd_postfix": ") ",
     "delete_cmd_prefix": "rm(",
     "library": "var_list.r",
     "varRefreshCmd": "cat(var_dic_list()) "
    }
   },
   "types_to_exclude": [
    "module",
    "function",
    "builtin_function_or_method",
    "instance",
    "_Feature"
   ],
   "window_display": false
  }
 },
 "nbformat": 4,
 "nbformat_minor": 4
}
